{
 "cells": [
  {
   "cell_type": "markdown",
   "metadata": {},
   "source": [
    "## Imports"
   ]
  },
  {
   "cell_type": "code",
   "execution_count": 1,
   "outputs": [
    {
     "name": "stdout",
     "output_type": "stream",
     "text": [
      "env: LD_LIBRARY_PATH=/home/zach/anaconda3/envs/research/lib\n"
     ]
    }
   ],
   "source": [
    "%env LD_LIBRARY_PATH=/home/zach/anaconda3/envs/research/lib"
   ],
   "metadata": {
    "collapsed": false,
    "pycharm": {
     "name": "#%%\n"
    }
   }
  },
  {
   "cell_type": "code",
   "execution_count": 2,
   "metadata": {},
   "outputs": [],
   "source": [
    "import numpy as np\n",
    "import pandas as pd\n",
    "import seaborn as sns\n",
    "import tensorflow as tf\n",
    "import sklearn\n",
    "import matplotlib.pyplot as plt\n",
    "import re\n",
    "import codecs\n",
    "from tqdm import tqdm"
   ]
  },
  {
   "cell_type": "markdown",
   "metadata": {},
   "source": [
    "## Data Import and Cleaning"
   ]
  },
  {
   "cell_type": "code",
   "execution_count": 3,
   "metadata": {
    "pycharm": {
     "name": "#%%\n"
    }
   },
   "outputs": [
    {
     "name": "stderr",
     "output_type": "stream",
     "text": [
      "/tmp/ipykernel_25524/675437588.py:5: FutureWarning: In a future version of pandas all arguments of DataFrame.drop except for the argument 'labels' will be keyword-only.\n",
      "  train = train.drop(['TR','AG'],1)\n",
      "/tmp/ipykernel_25524/675437588.py:6: FutureWarning: In a future version of pandas all arguments of DataFrame.drop except for the argument 'labels' will be keyword-only.\n",
      "  test = test.drop(['TR','AG'],1)\n",
      "/tmp/ipykernel_25524/675437588.py:7: FutureWarning: In a future version of pandas all arguments of DataFrame.drop except for the argument 'labels' will be keyword-only.\n",
      "  val = val.drop(['TR','AG'],1)\n"
     ]
    }
   ],
   "source": [
    "train = pd.read_csv('data/hateval2019_en_train.csv')\n",
    "test = pd.read_csv('data/hateval2019_en_test.csv')\n",
    "val = pd.read_csv('data/hateval2019_en_dev.csv')\n",
    "\n",
    "train = train.drop(['TR','AG'],1)\n",
    "test = test.drop(['TR','AG'],1)\n",
    "val = val.drop(['TR','AG'],1)"
   ]
  },
  {
   "cell_type": "code",
   "execution_count": 4,
   "outputs": [
    {
     "name": "stdout",
     "output_type": "stream",
     "text": [
      "Num GPUs Available:  1\n"
     ]
    },
    {
     "name": "stderr",
     "output_type": "stream",
     "text": [
      "2022-05-23 18:01:59.223188: I tensorflow/stream_executor/cuda/cuda_gpu_executor.cc:975] successful NUMA node read from SysFS had negative value (-1), but there must be at least one NUMA node, so returning NUMA node zero\n",
      "2022-05-23 18:01:59.310138: I tensorflow/stream_executor/cuda/cuda_gpu_executor.cc:975] successful NUMA node read from SysFS had negative value (-1), but there must be at least one NUMA node, so returning NUMA node zero\n",
      "2022-05-23 18:01:59.310524: I tensorflow/stream_executor/cuda/cuda_gpu_executor.cc:975] successful NUMA node read from SysFS had negative value (-1), but there must be at least one NUMA node, so returning NUMA node zero\n"
     ]
    }
   ],
   "source": [
    "print(\"Num GPUs Available: \", len(tf.config.list_physical_devices('GPU')))"
   ],
   "metadata": {
    "collapsed": false,
    "pycharm": {
     "name": "#%%\n"
    }
   }
  },
  {
   "cell_type": "code",
   "execution_count": 5,
   "metadata": {},
   "outputs": [
    {
     "data": {
      "text/plain": "    id                                               text  HS\n0  201  Hurray, saving us $$$ in so many ways @potus @...   1\n1  202  Why would young fighting age men be the vast m...   1\n2  203  @KamalaHarris Illegals Dump their Kids at the ...   1\n3  204  NY Times: 'Nearly All White' States Pose 'an A...   0\n4  205  Orban in Brussels: European leaders are ignori...   0",
      "text/html": "<div>\n<style scoped>\n    .dataframe tbody tr th:only-of-type {\n        vertical-align: middle;\n    }\n\n    .dataframe tbody tr th {\n        vertical-align: top;\n    }\n\n    .dataframe thead th {\n        text-align: right;\n    }\n</style>\n<table border=\"1\" class=\"dataframe\">\n  <thead>\n    <tr style=\"text-align: right;\">\n      <th></th>\n      <th>id</th>\n      <th>text</th>\n      <th>HS</th>\n    </tr>\n  </thead>\n  <tbody>\n    <tr>\n      <th>0</th>\n      <td>201</td>\n      <td>Hurray, saving us $$$ in so many ways @potus @...</td>\n      <td>1</td>\n    </tr>\n    <tr>\n      <th>1</th>\n      <td>202</td>\n      <td>Why would young fighting age men be the vast m...</td>\n      <td>1</td>\n    </tr>\n    <tr>\n      <th>2</th>\n      <td>203</td>\n      <td>@KamalaHarris Illegals Dump their Kids at the ...</td>\n      <td>1</td>\n    </tr>\n    <tr>\n      <th>3</th>\n      <td>204</td>\n      <td>NY Times: 'Nearly All White' States Pose 'an A...</td>\n      <td>0</td>\n    </tr>\n    <tr>\n      <th>4</th>\n      <td>205</td>\n      <td>Orban in Brussels: European leaders are ignori...</td>\n      <td>0</td>\n    </tr>\n  </tbody>\n</table>\n</div>"
     },
     "execution_count": 5,
     "metadata": {},
     "output_type": "execute_result"
    }
   ],
   "source": [
    "train.head()"
   ]
  },
  {
   "cell_type": "code",
   "execution_count": 6,
   "metadata": {
    "pycharm": {
     "name": "#%%\n"
    }
   },
   "outputs": [],
   "source": [
    "from tensorflow.keras.preprocessing.text import Tokenizer\n",
    "from tensorflow.keras.preprocessing.sequence import pad_sequences\n",
    "from tensorflow.keras.models import Sequential\n",
    "from tensorflow.keras.layers import Dense, LSTM, Dropout, Embedding\n",
    "from tensorflow.keras.optimizers import Adam\n",
    "from tensorflow.keras.losses import BinaryCrossentropy\n",
    "from tensorflow.keras.regularizers import L1,L2, l1_l2\n",
    "import io"
   ]
  },
  {
   "cell_type": "code",
   "execution_count": 7,
   "metadata": {
    "pycharm": {
     "name": "#%%\n"
    }
   },
   "outputs": [],
   "source": [
    "def normalize_tweet(text):\n",
    "    \"\"\"\n",
    "    Removes hashtags, @s, links, and punctuation\n",
    "    :param text:Text to be cleaned\n",
    "    :return: text with mentions, hashtages, and urls removes\n",
    "    \"\"\"\n",
    "    processed_text = text.lower()\n",
    "    processed_text = re.sub(r\"(?:\\@|http?\\://|https?\\://|www|t\\.)\\S+\", \"\", processed_text)\n",
    "    processed_text = re.sub(r\"(?:\\.|,|\\?|-)\", \" \", processed_text)\n",
    "    processed_text = re.sub(r\"(?:\\@|http?\\://|https?\\://|www|\\.com)\", \"\", processed_text)\n",
    "    processed_text = re.sub(r'[^\\w\\s]', '', processed_text)\n",
    "    processed_text = \" \".join(processed_text.split())\n",
    "    return processed_text\n",
    "\n",
    "def x_y_split(data):\n",
    "    \"\"\"splits and X and y from dataframe\n",
    "\n",
    "    Args:\n",
    "        data:dataframe to split from\n",
    "\n",
    "    Returns:\n",
    "        tuple:X data, y data\n",
    "    \"\"\"\n",
    "    X = data['text']\n",
    "    X = X.apply(normalize_tweet)\n",
    "    y = data['HS']\n",
    "    return X, y"
   ]
  },
  {
   "cell_type": "markdown",
   "metadata": {
    "tags": []
   },
   "source": [
    "## Split sequences into train, validation, and test sets"
   ]
  },
  {
   "cell_type": "code",
   "execution_count": 8,
   "metadata": {
    "pycharm": {
     "name": "#%%\n"
    },
    "scrolled": true
   },
   "outputs": [
    {
     "name": "stdout",
     "output_type": "stream",
     "text": [
      "0       hurray saving us in so many ways lockthemup bu...\n",
      "1       why would young fighting age men be the vast m...\n",
      "2       illegals dump their kids at the border like ro...\n",
      "3       ny times nearly all white states pose an array...\n",
      "4       orban in brussels european leaders are ignorin...\n",
      "                              ...                        \n",
      "8995                  i am proud to be a hysterical woman\n",
      "8996    hollywood is complicit in the rape and sexual ...\n",
      "8997    what a fucking cunt i hate seeing kids getting...\n",
      "8998                                hysterical woman like\n",
      "8999    nearly every woman i know has metoo in their f...\n",
      "Name: text, Length: 9000, dtype: object\n"
     ]
    }
   ],
   "source": [
    "#Split x and ys\n",
    "x_train, y_train = x_y_split(train)\n",
    "print(x_train)\n",
    "#x_train.to_csv('data/x_train.csv')\n",
    "#y_train.to_csv('data/y_train.csv')"
   ]
  },
  {
   "cell_type": "code",
   "execution_count": 9,
   "metadata": {
    "pycharm": {
     "name": "#%%\n"
    },
    "tags": []
   },
   "outputs": [
    {
     "name": "stdout",
     "output_type": "stream",
     "text": [
      "0       oh i could have gone on about taxes since the ...\n",
      "1       several of the wild fires in california and co...\n",
      "2       my question is how do you resettle a refugee a...\n",
      "3       europe youve got a problem we must hurry and b...\n",
      "4       this is outrageous stopillegalimmigration meri...\n",
      "                              ...                        \n",
      "2995    you can never take a l off a real bitch im hot...\n",
      "2996    likes to call me a cunt a bitch but i tell him...\n",
      "2997    1 never said you were taught 2 you called me b...\n",
      "2998    if i see and know you a hoe why would i hit yo...\n",
      "2999     you be chasing them hoes fuck what a bitch think\n",
      "Name: text, Length: 3000, dtype: object\n"
     ]
    }
   ],
   "source": [
    "#Split x and ys\n",
    "x_test, y_test = x_y_split(test)\n",
    "print(x_test)\n",
    "#x_test.to_csv('data/x_test.csv')\n",
    "#y_test.to_csv('data/y_test.csv')"
   ]
  },
  {
   "cell_type": "code",
   "execution_count": 10,
   "metadata": {
    "pycharm": {
     "name": "#%%\n"
    },
    "tags": []
   },
   "outputs": [
    {
     "name": "stdout",
     "output_type": "stream",
     "text": [
      "0      i swear im getting to places just in the nick ...\n",
      "1      im an immigrant and trump is right on immigrat...\n",
      "2      illegalimmigrants illegalaliens electoralsyste...\n",
      "3      we have our own invasion issues with mexicans ...\n",
      "4      worker charged with sexually molesting eight c...\n",
      "                             ...                        \n",
      "995                     you unfollowed me fuck you pussy\n",
      "996    stfu bitch and you go make some satanic music ...\n",
      "997    honey as a fellow white chick let me tell you ...\n",
      "998    i hate bitches who talk about niggaz with kids...\n",
      "999    you won the life time recipient for hysterical...\n",
      "Name: text, Length: 1000, dtype: object\n"
     ]
    }
   ],
   "source": [
    "#Split x and ys\n",
    "x_val, y_val = x_y_split(val)\n",
    "print(x_val)\n",
    "#x_val.to_csv('data/x_val.csv')\n",
    "#y_val.to_csv('data/y_val.csv')"
   ]
  },
  {
   "cell_type": "markdown",
   "metadata": {},
   "source": [
    "## Tokenizer"
   ]
  },
  {
   "cell_type": "code",
   "execution_count": 11,
   "metadata": {},
   "outputs": [],
   "source": [
    "max_features = 5000\n",
    "tokenizer = Tokenizer(num_words=max_features, split=' ', lower=True)\n",
    "tokenizer.fit_on_texts(x_train)\n",
    "\n",
    "\n",
    "def tokenize_and_pad(x_data, tokenizer=tokenizer, length=57):\n",
    "    \"\"\"\n",
    "    Tokenizes and pads input\n",
    "    :param x_data: X column of data\n",
    "    :param tokenizer: fitted tokenizer\n",
    "    :param length: length to pad\n",
    "    :return: tokenized and padded x_data\n",
    "    \"\"\"\n",
    "    x_data = tokenizer.texts_to_sequences(x_data)\n",
    "    x_data = pad_sequences(x_data, maxlen=length)\n",
    "    return x_data\n",
    "\n",
    "\n",
    "x_train = tokenize_and_pad(x_train, tokenizer)\n",
    "\n",
    "\n",
    "def split_and_tokenize(data, tokenizer=tokenizer):\n",
    "    \"\"\"\n",
    "    Splits tokenizes and pads data\n",
    "    :param data:\n",
    "    :return: tupple of (X,y)\n",
    "    \"\"\"\n",
    "    X, y = x_y_split(data)\n",
    "    X = tokenize_and_pad(X)\n",
    "    return X, y\n",
    "\n",
    "\n",
    "x_val, y_val = split_and_tokenize(val)\n",
    "x_test, y_test = split_and_tokenize(test)"
   ]
  },
  {
   "cell_type": "code",
   "execution_count": 12,
   "metadata": {
    "scrolled": true
   },
   "outputs": [
    {
     "name": "stdout",
     "output_type": "stream",
     "text": [
      "Number of unique words: 17392\n"
     ]
    }
   ],
   "source": [
    "word_index = tokenizer.word_index\n",
    "print(\"Number of unique words:\", len(word_index))"
   ]
  },
  {
   "cell_type": "code",
   "execution_count": 13,
   "metadata": {},
   "outputs": [
    {
     "data": {
      "text/plain": "{'the': 1,\n 'to': 2,\n 'a': 3,\n 'you': 4,\n 'and': 5,\n 'of': 6,\n 'in': 7,\n 'is': 8,\n 'for': 9,\n 'i': 10,\n 'are': 11,\n 'not': 12,\n 'that': 13,\n 'on': 14,\n 'bitch': 15,\n 'this': 16,\n 'it': 17,\n 'all': 18,\n 'your': 19,\n 'they': 20,\n 'be': 21,\n 'with': 22,\n 'refugees': 23,\n 'have': 24,\n 'women': 25,\n 'we': 26,\n 'me': 27,\n 'immigrant': 28,\n 'from': 29,\n 'when': 30,\n 'my': 31,\n 'like': 32,\n 'if': 33,\n 'immigration': 34,\n 'who': 35,\n 'dont': 36,\n 'but': 37,\n 'their': 38,\n 'no': 39,\n 'about': 40,\n 'so': 41,\n 'illegal': 42,\n 'as': 43,\n 'by': 44,\n 'will': 45,\n 'up': 46,\n 'at': 47,\n 'our': 48,\n 'just': 49,\n 'migrants': 50,\n 'do': 51,\n 'its': 52,\n 'what': 53,\n 'or': 54,\n 'men': 55,\n 'get': 56,\n 'people': 57,\n 'u': 58,\n 'them': 59,\n 'her': 60,\n 'an': 61,\n 'woman': 62,\n 'was': 63,\n 'can': 64,\n 'rape': 65,\n 'cunt': 66,\n 'how': 67,\n 'more': 68,\n 'out': 69,\n 'go': 70,\n 'whore': 71,\n 'trump': 72,\n 'immigrants': 73,\n 'one': 74,\n 'us': 75,\n 'has': 76,\n 'want': 77,\n 'fuck': 78,\n 'im': 79,\n 'youre': 80,\n 'why': 81,\n 'time': 82,\n 'he': 83,\n 'buildthatwall': 84,\n 'now': 85,\n 'she': 86,\n 'amp': 87,\n 'know': 88,\n 'should': 89,\n 'refugee': 90,\n 'ass': 91,\n 'country': 92,\n 'back': 93,\n 'stop': 94,\n 'hysterical': 95,\n 'via': 96,\n 'fucking': 97,\n 'hoe': 98,\n 'home': 99,\n 'only': 100,\n 'make': 101,\n 'being': 102,\n 'would': 103,\n 'his': 104,\n 'over': 105,\n 'girl': 106,\n 'need': 107,\n 'stupid': 108,\n 'here': 109,\n 'because': 110,\n 'right': 111,\n 'new': 112,\n 'take': 113,\n 'dick': 114,\n 'children': 115,\n 'some': 116,\n 'these': 117,\n 'say': 118,\n 'maga': 119,\n 'were': 120,\n 'into': 121,\n 'after': 122,\n 's': 123,\n 'there': 124,\n 'think': 125,\n 'migrant': 126,\n 'skank': 127,\n 'good': 128,\n 'never': 129,\n 'than': 130,\n 'then': 131,\n 'pussy': 132,\n 'shit': 133,\n 'europe': 134,\n 'free': 135,\n 'many': 136,\n 'see': 137,\n 'border': 138,\n 'eu': 139,\n 'cant': 140,\n 'been': 141,\n 'white': 142,\n 'world': 143,\n 'off': 144,\n 'too': 145,\n 'life': 146,\n 'man': 147,\n 'help': 148,\n 'buildthewall': 149,\n 'slut': 150,\n 'year': 151,\n 'come': 152,\n 'even': 153,\n 'other': 154,\n 'muslim': 155,\n 'hole': 156,\n 'must': 157,\n 'thats': 158,\n 'got': 159,\n '2': 160,\n 'first': 161,\n 'against': 162,\n 'any': 163,\n 'did': 164,\n 'those': 165,\n 'still': 166,\n 'down': 167,\n 'where': 168,\n 'love': 169,\n 'really': 170,\n 'let': 171,\n 'most': 172,\n 'support': 173,\n 'countries': 174,\n 'says': 175,\n 'way': 176,\n 'give': 177,\n 'illegals': 178,\n 'him': 179,\n 'migration': 180,\n 'had': 181,\n 'old': 182,\n 'call': 183,\n 'look': 184,\n 'please': 185,\n 'kids': 186,\n 'which': 187,\n '1': 188,\n 'said': 189,\n 'much': 190,\n 'shut': 191,\n 'american': 192,\n 'own': 193,\n 'also': 194,\n 'always': 195,\n 'welcome': 196,\n 'going': 197,\n 'womensuck': 198,\n 'families': 199,\n 'every': 200,\n 'america': 201,\n 'keep': 202,\n 'tell': 203,\n 'while': 204,\n 'well': 205,\n 'rights': 206,\n 'nodaca': 207,\n 'work': 208,\n 'ever': 209,\n 'hate': 210,\n 'wall': 211,\n 'someone': 212,\n 'today': 213,\n 'another': 214,\n 'same': 215,\n '000': 216,\n 'doesnt': 217,\n 'day': 218,\n 'speech': 219,\n 'last': 220,\n 'better': 221,\n 'watch': 222,\n 'could': 223,\n 'girls': 224,\n 'rt': 225,\n 'germany': 226,\n 'stay': 227,\n 'years': 228,\n 'money': 229,\n 'law': 230,\n 'government': 231,\n 'anti': 232,\n 'again': 233,\n 'theyre': 234,\n 'big': 235,\n 'care': 236,\n 'does': 237,\n 'usa': 238,\n 'before': 239,\n 'real': 240,\n 'didnt': 241,\n 'trying': 242,\n 'end': 243,\n 'child': 244,\n 'am': 245,\n 'vote': 246,\n 'americans': 247,\n 'uk': 248,\n 'open': 249,\n '3': 250,\n 'dumb': 251,\n 'cause': 252,\n 'bitches': 253,\n 'wants': 254,\n 'ice': 255,\n 'little': 256,\n 'family': 257,\n 'called': 258,\n 'around': 259,\n 'ram': 260,\n 'un': 261,\n 'president': 262,\n 'mass': 263,\n 'show': 264,\n 'parents': 265,\n 'great': 266,\n 'shes': 267,\n 'without': 268,\n 'talk': 269,\n 'put': 270,\n 'wont': 271,\n 'bad': 272,\n 'pay': 273,\n 'left': 274,\n 'away': 275,\n 'nothing': 276,\n 'hope': 277,\n 'syrian': 278,\n 'legal': 279,\n 'deport': 280,\n 'enough': 281,\n 'such': 282,\n 'ur': 283,\n 'anyone': 284,\n 'state': 285,\n 'stoptheinvasion': 286,\n 'find': 287,\n 'police': 288,\n 'noamnesty': 289,\n 'next': 290,\n 'aliens': 291,\n 'citizens': 292,\n 'oh': 293,\n 'italy': 294,\n 'sendthemback': 295,\n 'policy': 296,\n 'needs': 297,\n 'getting': 298,\n 'stfu': 299,\n 'two': 300,\n 'made': 301,\n 'yes': 302,\n 'laws': 303,\n 'alien': 304,\n 'sure': 305,\n 'news': 306,\n 'aint': 307,\n 'wanna': 308,\n 'welfare': 309,\n 'mean': 310,\n 'send': 311,\n 'start': 312,\n 'through': 313,\n 'use': 314,\n 'deported': 315,\n 'feel': 316,\n 'saying': 317,\n 'r': 318,\n 'believe': 319,\n 'lol': 320,\n 'thank': 321,\n 'things': 322,\n 'sex': 323,\n 'isnt': 324,\n 'live': 325,\n 'doing': 326,\n 'borders': 327,\n 'million': 328,\n 'daca': 329,\n 'calling': 330,\n 'guys': 331,\n 'black': 332,\n 'already': 333,\n 'story': 334,\n 'week': 335,\n 'german': 336,\n 'report': 337,\n '5': 338,\n 'ill': 339,\n 'yourself': 340,\n '4': 341,\n 'coming': 342,\n 'hard': 343,\n 'spain': 344,\n 'problem': 345,\n 'friends': 346,\n 'gonna': 347,\n 'return': 348,\n 'sexual': 349,\n 'yet': 350,\n 'wrong': 351,\n 'very': 352,\n 'rednationrising': 353,\n 'house': 354,\n 'since': 355,\n 'god': 356,\n 'crisis': 357,\n 'yall': 358,\n 'asylum': 359,\n 'lives': 360,\n 'deportthemall': 361,\n 'leave': 362,\n 'lets': 363,\n 'friend': 364,\n 'long': 365,\n 'face': 366,\n 'human': 367,\n 'anything': 368,\n 'suck': 369,\n 'cock': 370,\n 'hoes': 371,\n 'under': 372,\n 'everyone': 373,\n 'something': 374,\n 'democrats': 375,\n 'ive': 376,\n 'head': 377,\n 'workers': 378,\n 'place': 379,\n 'best': 380,\n 'guy': 381,\n 'hes': 382,\n 'rohingya': 383,\n 'x009d': 384,\n 'both': 385,\n 'crime': 386,\n 'become': 387,\n 'bring': 388,\n 'may': 389,\n 'culture': 390,\n 'talking': 391,\n 'young': 392,\n 'hell': 393,\n 'having': 394,\n 'person': 395,\n 'told': 396,\n 'living': 397,\n 'thing': 398,\n 'try': 399,\n 'between': 400,\n 'ugly': 401,\n 'actually': 402,\n 'id': 403,\n 'read': 404,\n 'thanks': 405,\n 'india': 406,\n 'job': 407,\n 'illegally': 408,\n 'done': 409,\n 'theres': 410,\n 'maybe': 411,\n 'accused': 412,\n 'video': 413,\n 'abuse': 414,\n 'protect': 415,\n 'community': 416,\n 'non': 417,\n 'true': 418,\n 'run': 419,\n 'learn': 420,\n 'stand': 421,\n 'w': 422,\n 'detention': 423,\n 'n': 424,\n 'political': 425,\n 'food': 426,\n 'once': 427,\n 'racist': 428,\n 'full': 429,\n 'change': 430,\n 'reason': 431,\n 'states': 432,\n 'nation': 433,\n 'canada': 434,\n 'part': 435,\n 'public': 436,\n 'poor': 437,\n 'using': 438,\n 'gets': 439,\n 'kunt': 440,\n 'mexico': 441,\n 'means': 442,\n '10': 443,\n 'city': 444,\n 'âž': 445,\n 'safe': 446,\n 'ya': 447,\n 'trash': 448,\n 'lil': 449,\n 'african': 450,\n 'fake': 451,\n 'media': 452,\n 'jobs': 453,\n 'working': 454,\n 'seen': 455,\n 'play': 456,\n 'texas': 457,\n 'death': 458,\n 'build': 459,\n 'making': 460,\n 'raped': 461,\n 'muslims': 462,\n 'understand': 463,\n 'whole': 464,\n 'killed': 465,\n 'nice': 466,\n 'fuckin': 467,\n 'came': 468,\n 'control': 469,\n 'obama': 470,\n '100': 471,\n 'looking': 472,\n 'fact': 473,\n 'point': 474,\n 'war': 475,\n '2018': 476,\n 'etc': 477,\n 'ok': 478,\n 'makes': 479,\n 'merkel': 480,\n 'hey': 481,\n 'fight': 482,\n 'instead': 483,\n 'deportation': 484,\n 'criminal': 485,\n 'less': 486,\n 'taking': 487,\n 'happy': 488,\n 'night': 489,\n 'ask': 490,\n 'mouth': 491,\n 'enddaca': 492,\n 'court': 493,\n 'plan': 494,\n 'judge': 495,\n 'withrefugees': 496,\n 'france': 497,\n 'party': 498,\n 'act': 499,\n 'twitter': 500,\n 'hear': 501,\n 'pro': 502,\n 'eat': 503,\n 'forced': 504,\n '13': 505,\n 'walkaway': 506,\n 'name': 507,\n 'side': 508,\n 'die': 509,\n 'thought': 510,\n 'mind': 511,\n 'housing': 512,\n 'respect': 513,\n 'youve': 514,\n 'economic': 515,\n 'hit': 516,\n 'allowed': 517,\n 'across': 518,\n 'national': 519,\n 'sweden': 520,\n 'lot': 521,\n 'security': 522,\n 'until': 523,\n 'crazy': 524,\n 'remember': 525,\n 'social': 526,\n 'bc': 527,\n 'speak': 528,\n 'fat': 529,\n 'yo': 530,\n 'ones': 531,\n 'truth': 532,\n 'issue': 533,\n 'system': 534,\n 'used': 535,\n 'follow': 536,\n 'check': 537,\n 'game': 538,\n 'school': 539,\n 'join': 540,\n 'victims': 541,\n 'kind': 542,\n 'syria': 543,\n 'post': 544,\n 'dead': 545,\n 'comes': 546,\n 'during': 547,\n 'assault': 548,\n 'nigga': 549,\n 'accept': 550,\n 'nobody': 551,\n 'wait': 552,\n 'libya': 553,\n 'homes': 554,\n 'probably': 555,\n 'damn': 556,\n 'millions': 557,\n 'least': 558,\n 'members': 559,\n 'deserve': 560,\n 'kag': 561,\n 'violence': 562,\n 'sick': 563,\n 'everything': 564,\n 'female': 565,\n 'deal': 566,\n 'might': 567,\n 'attention': 568,\n 'self': 569,\n 'protest': 570,\n 'boy': 571,\n 'easy': 572,\n 'goes': 573,\n 'hundreds': 574,\n 'power': 575,\n '6': 576,\n 'business': 577,\n 'matter': 578,\n 'case': 579,\n 'lmao': 580,\n 'each': 581,\n 'including': 582,\n 'alone': 583,\n 'separated': 584,\n 'sad': 585,\n 'far': 586,\n 'foreign': 587,\n 'wouldnt': 588,\n 'camps': 589,\n 'baby': 590,\n 'justice': 591,\n 'boys': 592,\n 'turn': 593,\n 'ho': 594,\n 'af': 595,\n 'kill': 596,\n 'times': 597,\n 'africa': 598,\n '8': 599,\n 'demand': 600,\n 'others': 601,\n 'son': 602,\n '7': 603,\n 'action': 604,\n 'islamic': 605,\n 'whats': 606,\n 'population': 607,\n 'criminals': 608,\n 'camp': 609,\n 'administration': 610,\n 'lost': 611,\n 'arent': 612,\n 'trumps': 613,\n 'close': 614,\n 'groups': 615,\n 'fear': 616,\n 'bill': 617,\n 'prison': 618,\n 'seekers': 619,\n 'military': 620,\n 'days': 621,\n 'christian': 622,\n 'liberals': 623,\n 'fucked': 624,\n 'cut': 625,\n 'aid': 626,\n 'past': 627,\n 'heart': 628,\n 'course': 629,\n 'tried': 630,\n 'thousands': 631,\n 'minister': 632,\n 'mother': 633,\n 'russia': 634,\n 'save': 635,\n 'found': 636,\n 'high': 637,\n 'given': 638,\n 'arrested': 639,\n 'either': 640,\n 'agree': 641,\n 'tells': 642,\n 'bangladesh': 643,\n 'order': 644,\n 'special': 645,\n 'together': 646,\n 'difference': 647,\n 'hungary': 648,\n 'spanish': 649,\n 'mad': 650,\n 'gotta': 651,\n 'whores': 652,\n 'cannot': 653,\n 'european': 654,\n 'able': 655,\n 'italian': 656,\n 'federal': 657,\n 'few': 658,\n 'paid': 659,\n 'allow': 660,\n 'gone': 661,\n 'killing': 662,\n '20': 663,\n 'move': 664,\n 'girlfriend': 665,\n 'line': 666,\n 'lying': 667,\n 'taxpayers': 668,\n 'giving': 669,\n 'communities': 670,\n 'group': 671,\n 'americafirst': 672,\n 'â': 673,\n 'undocumented': 674,\n 'went': 675,\n 'congress': 676,\n 'x008f': 677,\n 'center': 678,\n 'else': 679,\n 'dems': 680,\n 'share': 681,\n 'fun': 682,\n 'break': 683,\n 'started': 684,\n 'health': 685,\n 'sign': 686,\n 'question': 687,\n 'heard': 688,\n 'wife': 689,\n 'west': 690,\n 'month': 691,\n 'looks': 692,\n 'local': 693,\n 'tweet': 694,\n 'calls': 695,\n 'policies': 696,\n 'saw': 697,\n 'car': 698,\n 'literally': 699,\n 'yeah': 700,\n 'sorry': 701,\n 'dirty': 702,\n 'beat': 703,\n 'metoo': 704,\n 'education': 705,\n 'listen': 706,\n 'crimes': 707,\n 'islam': 708,\n 'south': 709,\n 'worker': 710,\n 'takes': 711,\n 'building': 712,\n 'drunk': 713,\n 'united': 714,\n 'asked': 715,\n 'tax': 716,\n 'waiting': 717,\n 'phone': 718,\n 'gives': 719,\n 'piece': 720,\n 'word': 721,\n 'months': 722,\n 'youll': 723,\n 'fire': 724,\n 'finally': 725,\n 'leaders': 726,\n 'heres': 727,\n 'enter': 728,\n '30': 729,\n 'catch': 730,\n 'disgusting': 731,\n 'charged': 732,\n 'murder': 733,\n 'invasion': 734,\n 'myanmar': 735,\n 'number': 736,\n 'cities': 737,\n 'book': 738,\n 'red': 739,\n 'guess': 740,\n 'voters': 741,\n 'program': 742,\n 'hot': 743,\n 'wanted': 744,\n 'visegrad': 745,\n 'v4': 746,\n 'status': 747,\n 'broke': 748,\n 'services': 749,\n 'force': 750,\n 'realize': 751,\n 'middle': 752,\n 'idea': 753,\n 'strong': 754,\n 'b': 755,\n 'knows': 756,\n 'yesallmen': 757,\n 'notallmen': 758,\n 'taken': 759,\n 'though': 760,\n 'wish': 761,\n 'sexually': 762,\n 'army': 763,\n 'illegalaliens': 764,\n 'important': 765,\n 'daily': 766,\n 'separation': 767,\n 'jail': 768,\n 'ago': 769,\n 'benefits': 770,\n 'married': 771,\n 'pass': 772,\n 'sometimes': 773,\n 'relief': 774,\n 'campaign': 775,\n 'works': 776,\n 'due': 777,\n 'mom': 778,\n 'sleep': 779,\n 'attack': 780,\n 'citizenship': 781,\n 'hand': 782,\n 'fighting': 783,\n 'joke': 784,\n 'streets': 785,\n 'future': 786,\n 'labor': 787,\n 'stories': 788,\n 'israel': 789,\n 'account': 790,\n 'raise': 791,\n 'third': 792,\n 'familiesbelongtogether': 793,\n 'fall': 794,\n 'destroy': 795,\n 'facebook': 796,\n 'entire': 797,\n 'sent': 798,\n 'wake': 799,\n 'threat': 800,\n '12': 801,\n 'office': 802,\n 'set': 803,\n 'british': 804,\n 'endchainmigration': 805,\n 'ha': 806,\n 'date': 807,\n 'victim': 808,\n 'pretty': 809,\n 'rich': 810,\n 'continue': 811,\n 'detained': 812,\n 'politics': 813,\n 'nations': 814,\n 'claim': 815,\n 'rescue': 816,\n 'cost': 817,\n 'becoming': 818,\n 'soon': 819,\n 'govt': 820,\n 'buy': 821,\n 'mr': 822,\n 'gop': 823,\n 'peace': 824,\n 'palestinian': 825,\n 'california': 826,\n 'land': 827,\n 'thinks': 828,\n 'centers': 829,\n 'sound': 830,\n 'block': 831,\n 'wow': 832,\n 'liberal': 833,\n 'shame': 834,\n 'turkey': 835,\n 'bout': 836,\n 'kitchen': 837,\n 'pic': 838,\n 'language': 839,\n 'international': 840,\n 'english': 841,\n '500': 842,\n 'homeless': 843,\n 'potus': 844,\n 'e': 845,\n 'invaders': 846,\n 'gave': 847,\n 'funny': 848,\n 'article': 849,\n 'almost': 850,\n 'wonder': 851,\n 'based': 852,\n 'wages': 853,\n 'murdered': 854,\n 'mexican': 855,\n 'genocide': 856,\n 'greece': 857,\n 'whos': 858,\n 'walk': 859,\n 'died': 860,\n 'jordan': 861,\n 'low': 862,\n 'ðÿ': 863,\n 'supporting': 864,\n 'running': 865,\n 'door': 866,\n 'telling': 867,\n 'forget': 868,\n 'treat': 869,\n 'tip': 870,\n 'hurt': 871,\n 'pimp': 872,\n 'niggas': 873,\n 'ladies': 874,\n 'plans': 875,\n 'behind': 876,\n 'cuz': 877,\n 'turned': 878,\n '3rd': 879,\n 'delhi': 880,\n 'defend': 881,\n 'unitednations': 882,\n 'sharia': 883,\n 'diversity': 884,\n 'massive': 885,\n 'born': 886,\n 'hollywood': 887,\n 'answer': 888,\n 'visit': 889,\n 'wear': 890,\n 'pm': 891,\n 'voted': 892,\n 'three': 893,\n 'wasnt': 894,\n 'race': 895,\n 'amazing': 896,\n 'imagine': 897,\n 'civil': 898,\n 'crossing': 899,\n 'history': 900,\n 'watching': 901,\n 'pregnant': 902,\n 'violent': 903,\n 'release': 904,\n 'rules': 905,\n 'church': 906,\n 'shelter': 907,\n 'visa': 908,\n 'society': 909,\n 'ban': 910,\n 'charge': 911,\n 'democrat': 912,\n 'russian': 913,\n 'color': 914,\n 'access': 915,\n 'numbers': 916,\n 'austria': 917,\n 'male': 918,\n 'christians': 919,\n 'ucanews': 920,\n 'bank': 921,\n '2017': 922,\n 'single': 923,\n 'ppl': 924,\n 'term': 925,\n 'gang': 926,\n '25': 927,\n 'song': 928,\n 't': 929,\n 'stopped': 930,\n '16': 931,\n '50': 932,\n 'drop': 933,\n 'tweets': 934,\n 'weinstein': 935,\n 'nelly': 936,\n 'growing': 937,\n 'attacks': 938,\n 'french': 939,\n 'list': 940,\n 'tired': 941,\n 'paying': 942,\n 'helping': 943,\n 'per': 944,\n 'buildthedamnwall': 945,\n 'central': 946,\n 'shot': 947,\n 'vacation': 948,\n 'economy': 949,\n 'boat': 950,\n 'beautiful': 951,\n 'politicians': 952,\n '11': 953,\n '40': 954,\n 'near': 955,\n 'brexit': 956,\n 'unless': 957,\n 'fleeing': 958,\n 'global': 959,\n 'evil': 960,\n 'complete': 961,\n 'hold': 962,\n 'despite': 963,\n 'win': 964,\n 'whatever': 965,\n 'whose': 966,\n 'front': 967,\n 'cop': 968,\n 'sense': 969,\n 'enforcement': 970,\n 'pathetic': 971,\n 'tf': 972,\n 'cum': 973,\n 'ex': 974,\n 'themselves': 975,\n 'reports': 976,\n 'trust': 977,\n 'donald': 978,\n 'sendthemhome': 979,\n 'rapists': 980,\n 'rest': 981,\n 'western': 982,\n 'decide': 983,\n 'cross': 984,\n 'rapefugee': 985,\n 'morning': 986,\n 'britain': 987,\n 'second': 988,\n 'lie': 989,\n 'drug': 990,\n 'drugs': 991,\n 'dm': 992,\n 'blame': 993,\n 'north': 994,\n 'officials': 995,\n 'officer': 996,\n 'seriously': 997,\n 'meet': 998,\n 'reality': 999,\n 'fund': 1000,\n ...}"
     },
     "execution_count": 13,
     "metadata": {},
     "output_type": "execute_result"
    }
   ],
   "source": [
    "word_index"
   ]
  },
  {
   "cell_type": "markdown",
   "metadata": {},
   "source": [
    "## Embedding Matrix using Wikipedia Embeddings"
   ]
  },
  {
   "cell_type": "code",
   "execution_count": 16,
   "metadata": {},
   "outputs": [
    {
     "name": "stderr",
     "output_type": "stream",
     "text": [
      "1917495it [01:20, 23740.29it/s]"
     ]
    },
    {
     "name": "stdout",
     "output_type": "stream",
     "text": [
      "found 1917495 word vectors\n"
     ]
    },
    {
     "name": "stderr",
     "output_type": "stream",
     "text": [
      "\n"
     ]
    }
   ],
   "source": [
    "#download Wikipedia 2014 embeddings from https://github.com/stanfordnlp/GloVe\n",
    "#Load GLoVe embeddings; here I use embeddings with only 100 dimensions\n",
    "embeddings_index = {}\n",
    "f = codecs.open('data/glove.42B.300d.txt', encoding='utf-8')\n",
    "for line in tqdm(f):\n",
    "    values = line.rstrip().rsplit(' ')\n",
    "    word = values[0]\n",
    "    coefs = np.asarray(values[1:], dtype='float32')\n",
    "    embeddings_index[word] = coefs\n",
    "f.close()\n",
    "print('found %s word vectors' % len(embeddings_index))\n",
    "\n"
   ]
  },
  {
   "cell_type": "code",
   "execution_count": null,
   "metadata": {},
   "outputs": [],
   "source": [
    "embeddings_index"
   ]
  },
  {
   "cell_type": "code",
   "execution_count": 17,
   "metadata": {},
   "outputs": [
    {
     "name": "stderr",
     "output_type": "stream",
     "text": [
      "100%|██████████| 17392/17392 [00:00<00:00, 1503696.72it/s]"
     ]
    },
    {
     "name": "stdout",
     "output_type": "stream",
     "text": [
      "number of null word embeddings: 169\n"
     ]
    },
    {
     "name": "stderr",
     "output_type": "stream",
     "text": [
      "\n"
     ]
    }
   ],
   "source": [
    "embed_dim = 300\n",
    "\n",
    "nb_words = min(max_features, len(tokenizer.word_index))\n",
    "words_not_found = []\n",
    "embedding_matrix = np.zeros((nb_words,embed_dim))\n",
    "word_index = tokenizer.word_index\n",
    "for word, i in tqdm(word_index.items()):\n",
    "    if i >= nb_words:\n",
    "        continue\n",
    "    embedding_vector = embeddings_index.get(word)\n",
    "    if (embedding_vector is not None) and len(embedding_vector) > 0:\n",
    "        # words not found in embedding index will be all-zeros.\n",
    "        embedding_matrix[i] = embedding_vector\n",
    "    else:\n",
    "        words_not_found.append(word)\n",
    "print('number of null word embeddings: %d' % np.sum(np.sum(embedding_matrix, axis=1) == 0))"
   ]
  },
  {
   "cell_type": "code",
   "execution_count": 22,
   "metadata": {},
   "outputs": [
    {
     "data": {
      "text/plain": "numpy.ndarray"
     },
     "execution_count": 22,
     "metadata": {},
     "output_type": "execute_result"
    }
   ],
   "source": [
    "type(embedding_matrix)"
   ]
  },
  {
   "cell_type": "code",
   "execution_count": 19,
   "metadata": {},
   "outputs": [
    {
     "data": {
      "text/plain": "5406"
     },
     "execution_count": 19,
     "metadata": {},
     "output_type": "execute_result"
    }
   ],
   "source": [
    "word_index[\"hurray\"]"
   ]
  },
  {
   "cell_type": "code",
   "execution_count": 23,
   "metadata": {},
   "outputs": [
    {
     "data": {
      "text/plain": "array([ 6.9207e-01,  2.4659e-02, -2.1091e-02, -5.4086e-01, -3.0518e-03,\n        9.7846e-02, -1.9531e-01,  1.0917e-01, -8.2875e-02, -8.8006e-01,\n        2.0857e-01,  5.7850e-01,  2.9859e-02,  2.1183e-01,  2.1483e-02,\n       -1.7226e-01, -1.7805e-01, -3.2964e-02,  9.4609e-02,  3.0189e-01,\n       -1.1824e-01,  2.9037e-01,  3.3009e-01, -2.7040e-01, -2.5361e-01,\n        4.2550e-01,  3.0405e-01,  9.4797e-02,  4.8258e-01,  2.3860e-02,\n       -7.8503e-01,  1.1721e-01,  2.6037e-01, -2.0483e-01,  2.7717e-01,\n       -3.6972e-01, -3.9179e-01, -1.4507e-01,  1.4751e-01,  1.2239e-01,\n        4.3688e-01,  2.2697e-01,  5.4093e-02, -5.6027e-01,  3.8852e-01,\n       -8.4826e-02,  3.8766e-01, -5.1569e-01, -2.7279e-01, -1.2448e-01,\n       -1.6673e-01,  7.4938e-01,  2.1898e-01,  5.9453e-02, -4.4761e-01,\n        5.1626e-01,  3.6670e-01, -8.2077e-02,  5.2293e-01, -2.7650e-01,\n       -1.1781e-01, -3.9151e-01, -1.4885e-01,  5.1607e-02,  1.6809e-01,\n        6.2098e-02, -3.2755e-01, -1.2835e-01,  9.7013e-02,  9.8107e-02,\n       -2.4877e-01,  6.9397e-02,  1.0552e-01, -4.4889e-03,  1.8795e-01,\n       -5.3365e-01,  1.4026e-01,  4.6159e-02,  2.2264e-01, -1.3395e-01,\n        3.2992e-01, -1.9998e-01, -6.0388e-01,  8.4489e-02,  6.5265e-02,\n        1.0144e-01,  4.5545e-01,  5.3975e-03, -4.9858e-01,  4.8201e-01,\n       -4.9446e-01,  3.4295e-01, -1.4171e-02, -1.6677e-01, -1.5617e-01,\n        2.8136e-01,  4.8957e-01, -1.7008e-01, -1.4109e-01, -6.9017e-01,\n        2.3851e-02, -2.3934e-01,  1.6459e-01,  1.5280e-01, -5.4850e-01,\n       -1.2263e-01,  5.3035e-02,  3.6310e-01,  5.3547e-01, -5.9492e-02,\n       -5.9968e-01, -5.4147e-02, -1.7736e-01,  1.2269e-01, -2.2541e-02,\n       -1.2714e-02,  2.7262e-01,  1.7642e-01, -2.8947e-01,  1.1435e-01,\n       -3.8199e-01, -7.0816e-02,  2.8220e-01,  3.5797e-01,  4.8605e-01,\n        1.8128e-01, -2.2514e-01, -4.7976e-01,  7.8204e-02, -7.0781e-02,\n       -9.5602e-01, -1.3000e-02,  5.2305e-02, -5.4797e-02, -7.1415e-01,\n       -1.7066e-01, -1.3034e-01, -2.1991e-01,  1.8679e-01,  1.9408e-01,\n       -3.4322e-02,  1.4887e-01,  9.4327e-02, -1.9010e-01,  2.1279e-01,\n       -6.1817e-01,  1.6312e-01, -2.0171e-01,  1.0650e-01, -3.5403e-01,\n       -4.9131e-02,  1.5925e-01,  3.7651e-01,  1.2741e-01,  1.0642e-01,\n        9.6206e-02, -3.4320e-01, -1.5049e-01,  4.0954e-01,  4.6362e-01,\n        6.1861e-02, -3.2052e-01, -8.9823e-02, -3.1017e-01,  8.7807e-02,\n       -2.6968e-01,  4.5671e-01,  2.6677e-01,  7.5583e-01, -3.8322e-01,\n        5.2495e-01,  6.3474e-01,  2.6897e-01, -3.3982e-01,  6.5288e-02,\n       -2.3247e-01, -2.8809e-01,  7.8691e-04, -4.9110e-01,  2.3991e-01,\n        4.5562e-01,  4.0747e-01, -7.6498e-02,  2.1072e-01,  1.3372e-01,\n       -2.8604e-01, -4.9657e-01, -8.0036e-01, -2.1111e-01,  4.7269e-01,\n        1.7321e-01, -2.7292e-01,  2.7140e-01,  3.4296e-01,  3.1094e-01,\n       -5.3667e-01, -2.4196e-01,  3.2403e-02,  1.3858e-01,  8.1492e-03,\n        2.7224e-01, -2.1470e-01, -8.7911e-02, -1.0254e-01, -7.8210e-02,\n       -2.3994e-01, -5.2219e-01, -2.7450e-01,  6.8846e-01,  3.5094e-01,\n        2.6196e-01, -7.5554e-02,  5.6572e-01, -4.6208e-01,  7.6476e-03,\n        4.7888e-02, -2.1844e-01,  2.1811e-01, -1.9839e-01, -3.5342e-01,\n       -1.2120e-02, -1.4788e-01, -2.2269e-01, -8.5659e-03, -6.5670e-02,\n        1.4561e-01, -3.8398e-02,  8.3816e-01, -2.3493e-01, -2.4139e-01,\n        5.9262e-01, -1.0914e-01, -4.5794e-01,  1.1078e-01,  7.3878e-02,\n       -2.6697e-01, -3.4039e-01,  1.9411e-01,  3.5059e-01, -3.6466e-02,\n        3.0093e-01, -8.7301e-02, -3.5102e-01,  8.0721e-02, -1.0753e-01,\n       -5.5702e-01,  1.0021e-01, -2.3198e-01, -3.1431e-01, -6.7576e-02,\n       -1.0098e-01,  3.3361e-01, -9.4612e-02,  5.6977e-02, -4.6664e-02,\n       -6.8394e-02,  6.5763e-01, -3.5171e-01,  1.7241e-01,  1.4718e-01,\n        1.5014e-01, -3.8062e-01, -1.0796e-01, -7.9615e-02, -3.1919e-01,\n       -6.6923e-02,  6.4748e-02, -1.9295e-01, -2.3966e-01,  8.4642e-01,\n       -1.7092e-01,  1.2068e-01, -7.5360e-01, -1.3242e-01,  2.2777e-01,\n        2.0562e-01,  3.1927e-01, -5.7465e-01,  1.5809e-01,  2.0054e-02,\n        2.1844e-01, -6.1124e-01, -4.9037e-01,  3.5711e-01,  3.5398e-01,\n        2.6886e-01,  8.4718e-02,  1.9889e-01, -1.7802e-01,  7.3712e-01,\n       -2.5516e-01,  2.2080e-01, -3.0427e-01,  1.9971e-01,  3.5108e-02,\n        2.8285e-01, -2.0738e-01, -5.2108e-01,  9.2301e-02,  4.4039e-01],\n      dtype=float32)"
     },
     "execution_count": 23,
     "metadata": {},
     "output_type": "execute_result"
    }
   ],
   "source": [
    "embeddings_index.get(\"hurray\")"
   ]
  },
  {
   "cell_type": "code",
   "execution_count": null,
   "metadata": {},
   "outputs": [],
   "source": [
    "(embedding_matrix[5406] == embedding_matrix.get(\"hurray\")).all()"
   ]
  },
  {
   "cell_type": "markdown",
   "metadata": {},
   "source": [
    "## Baseline Model with GloVe"
   ]
  },
  {
   "cell_type": "code",
   "execution_count": 45,
   "outputs": [],
   "source": [
    "filepath = 'checkpoints/glove_model.hdf5'\n",
    "checkpoint = tf.keras.callbacks.ModelCheckpoint(filepath=filepath,\n",
    "                                                 monitor='val_accuracy',\n",
    "                                                save_best_only=True,\n",
    "                                                 verbose=1,)\n",
    "callbacks = [checkpoint]\n"
   ],
   "metadata": {
    "collapsed": false,
    "pycharm": {
     "name": "#%%\n"
    }
   }
  },
  {
   "cell_type": "code",
   "execution_count": 61,
   "metadata": {},
   "outputs": [],
   "source": [
    "\n",
    "input_length=x_train.shape[1]\n",
    "model = Sequential()\n",
    "model.add(Embedding(max_features,embed_dim,input_length=input_length, weights=[embedding_matrix],trainable=False))\n",
    "model.add(LSTM(256, dropout=0.5))\n",
    "model.add(Dense(256,activation='relu', kernel_regularizer=L2(0.075)))\n",
    "model.add(Dropout(.75))\n",
    "model.add(Dense(256,activation='relu', kernel_regularizer=L2(0.075)))\n",
    "model.add(Dropout(.75))\n",
    "model.add(Dense(1, activation=\"sigmoid\"))\n",
    "model.compile(loss=\"binary_crossentropy\", optimizer=Adam(learning_rate=0.00001), metrics=[\"accuracy\"])"
   ]
  },
  {
   "cell_type": "code",
   "execution_count": 62,
   "metadata": {},
   "outputs": [
    {
     "name": "stdout",
     "output_type": "stream",
     "text": [
      "Epoch 1/100\n",
      "282/282 [==============================] - ETA: 0s - loss: 37.8096 - accuracy: 0.5168\n",
      "Epoch 1: val_accuracy did not improve from 0.73700\n",
      "282/282 [==============================] - 3s 6ms/step - loss: 37.8096 - accuracy: 0.5168 - val_loss: 36.4039 - val_accuracy: 0.5720\n",
      "Epoch 2/100\n",
      "278/282 [============================>.] - ETA: 0s - loss: 35.1247 - accuracy: 0.5319\n",
      "Epoch 2: val_accuracy did not improve from 0.73700\n",
      "282/282 [==============================] - 1s 5ms/step - loss: 35.1097 - accuracy: 0.5321 - val_loss: 33.7989 - val_accuracy: 0.5730\n",
      "Epoch 3/100\n",
      "276/282 [============================>.] - ETA: 0s - loss: 32.6034 - accuracy: 0.5394\n",
      "Epoch 3: val_accuracy did not improve from 0.73700\n",
      "282/282 [==============================] - 1s 5ms/step - loss: 32.5808 - accuracy: 0.5393 - val_loss: 31.3561 - val_accuracy: 0.5740\n",
      "Epoch 4/100\n",
      "282/282 [==============================] - ETA: 0s - loss: 30.2159 - accuracy: 0.5474\n",
      "Epoch 4: val_accuracy did not improve from 0.73700\n",
      "282/282 [==============================] - 2s 5ms/step - loss: 30.2159 - accuracy: 0.5474 - val_loss: 29.0635 - val_accuracy: 0.5750\n",
      "Epoch 5/100\n",
      "275/282 [============================>.] - ETA: 0s - loss: 28.0135 - accuracy: 0.5541\n",
      "Epoch 5: val_accuracy did not improve from 0.73700\n",
      "282/282 [==============================] - 2s 5ms/step - loss: 27.9894 - accuracy: 0.5553 - val_loss: 26.9103 - val_accuracy: 0.5750\n",
      "Epoch 6/100\n",
      "273/282 [============================>.] - ETA: 0s - loss: 25.9277 - accuracy: 0.5606\n",
      "Epoch 6: val_accuracy did not improve from 0.73700\n",
      "282/282 [==============================] - 2s 5ms/step - loss: 25.8985 - accuracy: 0.5601 - val_loss: 24.8880 - val_accuracy: 0.5750\n",
      "Epoch 7/100\n",
      "282/282 [==============================] - ETA: 0s - loss: 23.9410 - accuracy: 0.5496\n",
      "Epoch 7: val_accuracy did not improve from 0.73700\n",
      "282/282 [==============================] - 1s 5ms/step - loss: 23.9410 - accuracy: 0.5496 - val_loss: 22.9882 - val_accuracy: 0.5770\n",
      "Epoch 8/100\n",
      "281/282 [============================>.] - ETA: 0s - loss: 22.0971 - accuracy: 0.5671\n",
      "Epoch 8: val_accuracy did not improve from 0.73700\n",
      "282/282 [==============================] - 2s 5ms/step - loss: 22.0962 - accuracy: 0.5672 - val_loss: 21.2038 - val_accuracy: 0.5810\n",
      "Epoch 9/100\n",
      "276/282 [============================>.] - ETA: 0s - loss: 20.3829 - accuracy: 0.5596\n",
      "Epoch 9: val_accuracy did not improve from 0.73700\n",
      "282/282 [==============================] - 2s 5ms/step - loss: 20.3674 - accuracy: 0.5592 - val_loss: 19.5285 - val_accuracy: 0.5820\n",
      "Epoch 10/100\n",
      "282/282 [==============================] - ETA: 0s - loss: 18.7423 - accuracy: 0.5710\n",
      "Epoch 10: val_accuracy did not improve from 0.73700\n",
      "282/282 [==============================] - 2s 5ms/step - loss: 18.7423 - accuracy: 0.5710 - val_loss: 17.9560 - val_accuracy: 0.5830\n",
      "Epoch 11/100\n",
      "273/282 [============================>.] - ETA: 0s - loss: 17.2415 - accuracy: 0.5715\n",
      "Epoch 11: val_accuracy did not improve from 0.73700\n",
      "282/282 [==============================] - 2s 6ms/step - loss: 17.2199 - accuracy: 0.5727 - val_loss: 16.4816 - val_accuracy: 0.5820\n",
      "Epoch 12/100\n",
      "280/282 [============================>.] - ETA: 0s - loss: 15.7932 - accuracy: 0.5746\n",
      "Epoch 12: val_accuracy did not improve from 0.73700\n",
      "282/282 [==============================] - 2s 5ms/step - loss: 15.7901 - accuracy: 0.5744 - val_loss: 15.1004 - val_accuracy: 0.5840\n",
      "Epoch 13/100\n",
      "277/282 [============================>.] - ETA: 0s - loss: 14.4647 - accuracy: 0.5802\n",
      "Epoch 13: val_accuracy did not improve from 0.73700\n",
      "282/282 [==============================] - 2s 6ms/step - loss: 14.4550 - accuracy: 0.5801 - val_loss: 13.8080 - val_accuracy: 0.5840\n",
      "Epoch 14/100\n",
      "277/282 [============================>.] - ETA: 0s - loss: 13.2125 - accuracy: 0.5803\n",
      "Epoch 14: val_accuracy did not improve from 0.73700\n",
      "282/282 [==============================] - 2s 5ms/step - loss: 13.2035 - accuracy: 0.5807 - val_loss: 12.6003 - val_accuracy: 0.5860\n",
      "Epoch 15/100\n",
      "275/282 [============================>.] - ETA: 0s - loss: 12.0502 - accuracy: 0.5842\n",
      "Epoch 15: val_accuracy did not improve from 0.73700\n",
      "282/282 [==============================] - 2s 5ms/step - loss: 12.0373 - accuracy: 0.5856 - val_loss: 11.4738 - val_accuracy: 0.5870\n",
      "Epoch 16/100\n",
      "280/282 [============================>.] - ETA: 0s - loss: 10.9515 - accuracy: 0.5852\n",
      "Epoch 16: val_accuracy did not improve from 0.73700\n",
      "282/282 [==============================] - 2s 6ms/step - loss: 10.9494 - accuracy: 0.5848 - val_loss: 10.4245 - val_accuracy: 0.5850\n",
      "Epoch 17/100\n",
      "281/282 [============================>.] - ETA: 0s - loss: 9.9384 - accuracy: 0.5859\n",
      "Epoch 17: val_accuracy did not improve from 0.73700\n",
      "282/282 [==============================] - 2s 6ms/step - loss: 9.9380 - accuracy: 0.5860 - val_loss: 9.4497 - val_accuracy: 0.5880\n",
      "Epoch 18/100\n",
      "280/282 [============================>.] - ETA: 0s - loss: 8.9996 - accuracy: 0.5898\n",
      "Epoch 18: val_accuracy did not improve from 0.73700\n",
      "282/282 [==============================] - 2s 5ms/step - loss: 8.9975 - accuracy: 0.5904 - val_loss: 8.5455 - val_accuracy: 0.5880\n",
      "Epoch 19/100\n",
      "273/282 [============================>.] - ETA: 0s - loss: 8.1402 - accuracy: 0.5869\n",
      "Epoch 19: val_accuracy did not improve from 0.73700\n",
      "282/282 [==============================] - 2s 5ms/step - loss: 8.1283 - accuracy: 0.5868 - val_loss: 7.7090 - val_accuracy: 0.5920\n",
      "Epoch 20/100\n",
      "273/282 [============================>.] - ETA: 0s - loss: 7.3376 - accuracy: 0.5865\n",
      "Epoch 20: val_accuracy did not improve from 0.73700\n",
      "282/282 [==============================] - 2s 6ms/step - loss: 7.3265 - accuracy: 0.5860 - val_loss: 6.9374 - val_accuracy: 0.5970\n",
      "Epoch 21/100\n",
      "279/282 [============================>.] - ETA: 0s - loss: 6.5874 - accuracy: 0.5941\n",
      "Epoch 21: val_accuracy did not improve from 0.73700\n",
      "282/282 [==============================] - 2s 5ms/step - loss: 6.5848 - accuracy: 0.5934 - val_loss: 6.2268 - val_accuracy: 0.6080\n",
      "Epoch 22/100\n",
      "282/282 [==============================] - ETA: 0s - loss: 5.9059 - accuracy: 0.5957\n",
      "Epoch 22: val_accuracy did not improve from 0.73700\n",
      "282/282 [==============================] - 2s 5ms/step - loss: 5.9059 - accuracy: 0.5957 - val_loss: 5.5745 - val_accuracy: 0.6110\n",
      "Epoch 23/100\n",
      "276/282 [============================>.] - ETA: 0s - loss: 5.2853 - accuracy: 0.5970\n",
      "Epoch 23: val_accuracy did not improve from 0.73700\n",
      "282/282 [==============================] - 2s 5ms/step - loss: 5.2797 - accuracy: 0.5973 - val_loss: 4.9773 - val_accuracy: 0.6290\n",
      "Epoch 24/100\n",
      "273/282 [============================>.] - ETA: 0s - loss: 4.7146 - accuracy: 0.6003\n",
      "Epoch 24: val_accuracy did not improve from 0.73700\n",
      "282/282 [==============================] - 2s 5ms/step - loss: 4.7066 - accuracy: 0.6006 - val_loss: 4.4333 - val_accuracy: 0.6320\n",
      "Epoch 25/100\n",
      "278/282 [============================>.] - ETA: 0s - loss: 4.1892 - accuracy: 0.6197\n",
      "Epoch 25: val_accuracy did not improve from 0.73700\n",
      "282/282 [==============================] - 1s 5ms/step - loss: 4.1864 - accuracy: 0.6193 - val_loss: 3.9393 - val_accuracy: 0.6320\n",
      "Epoch 26/100\n",
      "273/282 [============================>.] - ETA: 0s - loss: 3.7259 - accuracy: 0.6218\n",
      "Epoch 26: val_accuracy did not improve from 0.73700\n",
      "282/282 [==============================] - 2s 5ms/step - loss: 3.7195 - accuracy: 0.6218 - val_loss: 3.5002 - val_accuracy: 0.6460\n",
      "Epoch 27/100\n",
      "279/282 [============================>.] - ETA: 0s - loss: 3.2997 - accuracy: 0.6344\n",
      "Epoch 27: val_accuracy did not improve from 0.73700\n",
      "282/282 [==============================] - 2s 6ms/step - loss: 3.2980 - accuracy: 0.6343 - val_loss: 3.1033 - val_accuracy: 0.6490\n",
      "Epoch 28/100\n",
      "280/282 [============================>.] - ETA: 0s - loss: 2.9260 - accuracy: 0.6395\n",
      "Epoch 28: val_accuracy did not improve from 0.73700\n",
      "282/282 [==============================] - 1s 5ms/step - loss: 2.9250 - accuracy: 0.6399 - val_loss: 2.7509 - val_accuracy: 0.6480\n",
      "Epoch 29/100\n",
      "274/282 [============================>.] - ETA: 0s - loss: 2.5919 - accuracy: 0.6472\n",
      "Epoch 29: val_accuracy did not improve from 0.73700\n",
      "282/282 [==============================] - 1s 5ms/step - loss: 2.5880 - accuracy: 0.6479 - val_loss: 2.4363 - val_accuracy: 0.6520\n",
      "Epoch 30/100\n",
      "278/282 [============================>.] - ETA: 0s - loss: 2.2933 - accuracy: 0.6596\n",
      "Epoch 30: val_accuracy did not improve from 0.73700\n",
      "282/282 [==============================] - 2s 5ms/step - loss: 2.2914 - accuracy: 0.6604 - val_loss: 2.1570 - val_accuracy: 0.6490\n",
      "Epoch 31/100\n",
      "282/282 [==============================] - ETA: 0s - loss: 2.0305 - accuracy: 0.6618\n",
      "Epoch 31: val_accuracy did not improve from 0.73700\n",
      "282/282 [==============================] - 2s 6ms/step - loss: 2.0305 - accuracy: 0.6618 - val_loss: 1.9157 - val_accuracy: 0.6600\n",
      "Epoch 32/100\n",
      "270/282 [===========================>..] - ETA: 0s - loss: 1.8069 - accuracy: 0.6678\n",
      "Epoch 32: val_accuracy did not improve from 0.73700\n",
      "282/282 [==============================] - 1s 5ms/step - loss: 1.8030 - accuracy: 0.6687 - val_loss: 1.7017 - val_accuracy: 0.6530\n",
      "Epoch 33/100\n",
      "279/282 [============================>.] - ETA: 0s - loss: 1.6032 - accuracy: 0.6771\n",
      "Epoch 33: val_accuracy did not improve from 0.73700\n",
      "282/282 [==============================] - 2s 5ms/step - loss: 1.6025 - accuracy: 0.6772 - val_loss: 1.5172 - val_accuracy: 0.6590\n",
      "Epoch 34/100\n",
      "274/282 [============================>.] - ETA: 0s - loss: 1.4333 - accuracy: 0.6802\n",
      "Epoch 34: val_accuracy did not improve from 0.73700\n",
      "282/282 [==============================] - 1s 5ms/step - loss: 1.4307 - accuracy: 0.6802 - val_loss: 1.3609 - val_accuracy: 0.6560\n",
      "Epoch 35/100\n",
      "276/282 [============================>.] - ETA: 0s - loss: 1.2841 - accuracy: 0.6817\n",
      "Epoch 35: val_accuracy did not improve from 0.73700\n",
      "282/282 [==============================] - 2s 5ms/step - loss: 1.2831 - accuracy: 0.6822 - val_loss: 1.2230 - val_accuracy: 0.6540\n",
      "Epoch 36/100\n",
      "274/282 [============================>.] - ETA: 0s - loss: 1.1578 - accuracy: 0.6841\n",
      "Epoch 36: val_accuracy did not improve from 0.73700\n",
      "282/282 [==============================] - 2s 6ms/step - loss: 1.1563 - accuracy: 0.6849 - val_loss: 1.1094 - val_accuracy: 0.6610\n",
      "Epoch 37/100\n",
      "275/282 [============================>.] - ETA: 0s - loss: 1.0555 - accuracy: 0.6842\n",
      "Epoch 37: val_accuracy did not improve from 0.73700\n",
      "282/282 [==============================] - 1s 5ms/step - loss: 1.0543 - accuracy: 0.6843 - val_loss: 1.0135 - val_accuracy: 0.6560\n",
      "Epoch 38/100\n",
      "277/282 [============================>.] - ETA: 0s - loss: 0.9637 - accuracy: 0.6934\n",
      "Epoch 38: val_accuracy did not improve from 0.73700\n",
      "282/282 [==============================] - 1s 5ms/step - loss: 0.9631 - accuracy: 0.6930 - val_loss: 0.9351 - val_accuracy: 0.6670\n",
      "Epoch 39/100\n",
      "276/282 [============================>.] - ETA: 0s - loss: 0.8919 - accuracy: 0.6966\n",
      "Epoch 39: val_accuracy did not improve from 0.73700\n",
      "282/282 [==============================] - 1s 5ms/step - loss: 0.8908 - accuracy: 0.6969 - val_loss: 0.8696 - val_accuracy: 0.6680\n",
      "Epoch 40/100\n",
      "279/282 [============================>.] - ETA: 0s - loss: 0.8320 - accuracy: 0.6999\n",
      "Epoch 40: val_accuracy did not improve from 0.73700\n",
      "282/282 [==============================] - 1s 4ms/step - loss: 0.8318 - accuracy: 0.6997 - val_loss: 0.8181 - val_accuracy: 0.6700\n",
      "Epoch 41/100\n",
      "282/282 [==============================] - ETA: 0s - loss: 0.7828 - accuracy: 0.7036\n",
      "Epoch 41: val_accuracy did not improve from 0.73700\n",
      "282/282 [==============================] - 2s 5ms/step - loss: 0.7828 - accuracy: 0.7036 - val_loss: 0.7769 - val_accuracy: 0.6720\n",
      "Epoch 42/100\n",
      "279/282 [============================>.] - ETA: 0s - loss: 0.7459 - accuracy: 0.7033\n",
      "Epoch 42: val_accuracy did not improve from 0.73700\n",
      "282/282 [==============================] - 1s 5ms/step - loss: 0.7455 - accuracy: 0.7038 - val_loss: 0.7451 - val_accuracy: 0.6650\n",
      "Epoch 43/100\n",
      "280/282 [============================>.] - ETA: 0s - loss: 0.7160 - accuracy: 0.7049\n",
      "Epoch 43: val_accuracy did not improve from 0.73700\n",
      "282/282 [==============================] - 2s 6ms/step - loss: 0.7162 - accuracy: 0.7046 - val_loss: 0.7216 - val_accuracy: 0.6750\n",
      "Epoch 44/100\n",
      "279/282 [============================>.] - ETA: 0s - loss: 0.6943 - accuracy: 0.7044\n",
      "Epoch 44: val_accuracy did not improve from 0.73700\n",
      "282/282 [==============================] - 1s 5ms/step - loss: 0.6942 - accuracy: 0.7048 - val_loss: 0.6996 - val_accuracy: 0.6680\n",
      "Epoch 45/100\n",
      "274/282 [============================>.] - ETA: 0s - loss: 0.6749 - accuracy: 0.7099\n",
      "Epoch 45: val_accuracy did not improve from 0.73700\n",
      "282/282 [==============================] - 2s 6ms/step - loss: 0.6748 - accuracy: 0.7099 - val_loss: 0.6828 - val_accuracy: 0.6740\n",
      "Epoch 46/100\n",
      "281/282 [============================>.] - ETA: 0s - loss: 0.6599 - accuracy: 0.7120\n",
      "Epoch 46: val_accuracy did not improve from 0.73700\n",
      "282/282 [==============================] - 2s 5ms/step - loss: 0.6598 - accuracy: 0.7121 - val_loss: 0.6746 - val_accuracy: 0.6760\n",
      "Epoch 47/100\n",
      "282/282 [==============================] - ETA: 0s - loss: 0.6509 - accuracy: 0.7136\n",
      "Epoch 47: val_accuracy did not improve from 0.73700\n",
      "282/282 [==============================] - 2s 6ms/step - loss: 0.6509 - accuracy: 0.7136 - val_loss: 0.6656 - val_accuracy: 0.6740\n",
      "Epoch 48/100\n",
      "274/282 [============================>.] - ETA: 0s - loss: 0.6409 - accuracy: 0.7132\n",
      "Epoch 48: val_accuracy did not improve from 0.73700\n",
      "282/282 [==============================] - 1s 5ms/step - loss: 0.6404 - accuracy: 0.7132 - val_loss: 0.6583 - val_accuracy: 0.6760\n",
      "Epoch 49/100\n",
      "273/282 [============================>.] - ETA: 0s - loss: 0.6338 - accuracy: 0.7169\n",
      "Epoch 49: val_accuracy did not improve from 0.73700\n",
      "282/282 [==============================] - 2s 6ms/step - loss: 0.6338 - accuracy: 0.7156 - val_loss: 0.6524 - val_accuracy: 0.6740\n",
      "Epoch 50/100\n",
      "281/282 [============================>.] - ETA: 0s - loss: 0.6311 - accuracy: 0.7133\n",
      "Epoch 50: val_accuracy did not improve from 0.73700\n",
      "282/282 [==============================] - 2s 6ms/step - loss: 0.6312 - accuracy: 0.7131 - val_loss: 0.6503 - val_accuracy: 0.6780\n",
      "Epoch 51/100\n",
      "281/282 [============================>.] - ETA: 0s - loss: 0.6243 - accuracy: 0.7169\n",
      "Epoch 51: val_accuracy did not improve from 0.73700\n",
      "282/282 [==============================] - 2s 6ms/step - loss: 0.6243 - accuracy: 0.7170 - val_loss: 0.6461 - val_accuracy: 0.6750\n",
      "Epoch 52/100\n",
      "274/282 [============================>.] - ETA: 0s - loss: 0.6248 - accuracy: 0.7164\n",
      "Epoch 52: val_accuracy did not improve from 0.73700\n",
      "282/282 [==============================] - 1s 5ms/step - loss: 0.6239 - accuracy: 0.7156 - val_loss: 0.6449 - val_accuracy: 0.6710\n",
      "Epoch 53/100\n",
      "282/282 [==============================] - ETA: 0s - loss: 0.6137 - accuracy: 0.7201\n",
      "Epoch 53: val_accuracy did not improve from 0.73700\n",
      "282/282 [==============================] - 1s 5ms/step - loss: 0.6137 - accuracy: 0.7201 - val_loss: 0.6408 - val_accuracy: 0.6760\n",
      "Epoch 54/100\n",
      "274/282 [============================>.] - ETA: 0s - loss: 0.6171 - accuracy: 0.7195\n",
      "Epoch 54: val_accuracy did not improve from 0.73700\n",
      "282/282 [==============================] - 2s 5ms/step - loss: 0.6160 - accuracy: 0.7207 - val_loss: 0.6424 - val_accuracy: 0.6760\n",
      "Epoch 55/100\n",
      "278/282 [============================>.] - ETA: 0s - loss: 0.6134 - accuracy: 0.7177\n",
      "Epoch 55: val_accuracy did not improve from 0.73700\n",
      "282/282 [==============================] - 2s 6ms/step - loss: 0.6128 - accuracy: 0.7181 - val_loss: 0.6385 - val_accuracy: 0.6810\n",
      "Epoch 56/100\n",
      "277/282 [============================>.] - ETA: 0s - loss: 0.6103 - accuracy: 0.7185\n",
      "Epoch 56: val_accuracy did not improve from 0.73700\n",
      "282/282 [==============================] - 2s 6ms/step - loss: 0.6099 - accuracy: 0.7190 - val_loss: 0.6357 - val_accuracy: 0.6850\n",
      "Epoch 57/100\n",
      "278/282 [============================>.] - ETA: 0s - loss: 0.6069 - accuracy: 0.7279\n",
      "Epoch 57: val_accuracy did not improve from 0.73700\n",
      "282/282 [==============================] - 2s 5ms/step - loss: 0.6064 - accuracy: 0.7283 - val_loss: 0.6350 - val_accuracy: 0.6740\n",
      "Epoch 58/100\n",
      "275/282 [============================>.] - ETA: 0s - loss: 0.6092 - accuracy: 0.7212\n",
      "Epoch 58: val_accuracy did not improve from 0.73700\n",
      "282/282 [==============================] - 2s 6ms/step - loss: 0.6093 - accuracy: 0.7209 - val_loss: 0.6351 - val_accuracy: 0.6840\n",
      "Epoch 59/100\n",
      "273/282 [============================>.] - ETA: 0s - loss: 0.6018 - accuracy: 0.7249\n",
      "Epoch 59: val_accuracy did not improve from 0.73700\n",
      "282/282 [==============================] - 2s 5ms/step - loss: 0.6020 - accuracy: 0.7252 - val_loss: 0.6331 - val_accuracy: 0.6900\n",
      "Epoch 60/100\n",
      "279/282 [============================>.] - ETA: 0s - loss: 0.5983 - accuracy: 0.7305\n",
      "Epoch 60: val_accuracy did not improve from 0.73700\n",
      "282/282 [==============================] - 2s 6ms/step - loss: 0.5983 - accuracy: 0.7303 - val_loss: 0.6355 - val_accuracy: 0.6930\n",
      "Epoch 61/100\n",
      "278/282 [============================>.] - ETA: 0s - loss: 0.6014 - accuracy: 0.7218\n",
      "Epoch 61: val_accuracy did not improve from 0.73700\n",
      "282/282 [==============================] - 1s 5ms/step - loss: 0.6018 - accuracy: 0.7221 - val_loss: 0.6333 - val_accuracy: 0.6760\n",
      "Epoch 62/100\n",
      "279/282 [============================>.] - ETA: 0s - loss: 0.5986 - accuracy: 0.7270\n",
      "Epoch 62: val_accuracy did not improve from 0.73700\n",
      "282/282 [==============================] - 2s 5ms/step - loss: 0.5987 - accuracy: 0.7269 - val_loss: 0.6299 - val_accuracy: 0.6910\n",
      "Epoch 63/100\n",
      "274/282 [============================>.] - ETA: 0s - loss: 0.5982 - accuracy: 0.7260\n",
      "Epoch 63: val_accuracy did not improve from 0.73700\n",
      "282/282 [==============================] - 2s 6ms/step - loss: 0.5971 - accuracy: 0.7274 - val_loss: 0.6296 - val_accuracy: 0.6760\n",
      "Epoch 64/100\n",
      "280/282 [============================>.] - ETA: 0s - loss: 0.5942 - accuracy: 0.7330\n",
      "Epoch 64: val_accuracy did not improve from 0.73700\n",
      "282/282 [==============================] - 2s 6ms/step - loss: 0.5943 - accuracy: 0.7329 - val_loss: 0.6295 - val_accuracy: 0.6750\n",
      "Epoch 65/100\n",
      "275/282 [============================>.] - ETA: 0s - loss: 0.5961 - accuracy: 0.7260\n",
      "Epoch 65: val_accuracy did not improve from 0.73700\n",
      "282/282 [==============================] - 2s 6ms/step - loss: 0.5967 - accuracy: 0.7260 - val_loss: 0.6261 - val_accuracy: 0.6800\n",
      "Epoch 66/100\n",
      "278/282 [============================>.] - ETA: 0s - loss: 0.5956 - accuracy: 0.7225\n",
      "Epoch 66: val_accuracy did not improve from 0.73700\n",
      "282/282 [==============================] - 2s 5ms/step - loss: 0.5957 - accuracy: 0.7224 - val_loss: 0.6272 - val_accuracy: 0.6790\n",
      "Epoch 67/100\n",
      "274/282 [============================>.] - ETA: 0s - loss: 0.5921 - accuracy: 0.7296\n",
      "Epoch 67: val_accuracy did not improve from 0.73700\n",
      "282/282 [==============================] - 2s 6ms/step - loss: 0.5931 - accuracy: 0.7283 - val_loss: 0.6243 - val_accuracy: 0.6790\n",
      "Epoch 68/100\n",
      "274/282 [============================>.] - ETA: 0s - loss: 0.5908 - accuracy: 0.7319\n",
      "Epoch 68: val_accuracy did not improve from 0.73700\n",
      "282/282 [==============================] - 2s 5ms/step - loss: 0.5902 - accuracy: 0.7321 - val_loss: 0.6238 - val_accuracy: 0.6810\n",
      "Epoch 69/100\n",
      "276/282 [============================>.] - ETA: 0s - loss: 0.5898 - accuracy: 0.7304\n",
      "Epoch 69: val_accuracy did not improve from 0.73700\n",
      "282/282 [==============================] - 2s 6ms/step - loss: 0.5892 - accuracy: 0.7308 - val_loss: 0.6223 - val_accuracy: 0.6790\n",
      "Epoch 70/100\n",
      "281/282 [============================>.] - ETA: 0s - loss: 0.5888 - accuracy: 0.7327\n",
      "Epoch 70: val_accuracy did not improve from 0.73700\n",
      "282/282 [==============================] - 1s 5ms/step - loss: 0.5888 - accuracy: 0.7327 - val_loss: 0.6245 - val_accuracy: 0.6780\n",
      "Epoch 71/100\n",
      "273/282 [============================>.] - ETA: 0s - loss: 0.5878 - accuracy: 0.7301\n",
      "Epoch 71: val_accuracy did not improve from 0.73700\n",
      "282/282 [==============================] - 2s 6ms/step - loss: 0.5885 - accuracy: 0.7293 - val_loss: 0.6234 - val_accuracy: 0.6740\n",
      "Epoch 72/100\n",
      "280/282 [============================>.] - ETA: 0s - loss: 0.5858 - accuracy: 0.7355\n",
      "Epoch 72: val_accuracy did not improve from 0.73700\n",
      "282/282 [==============================] - 2s 5ms/step - loss: 0.5857 - accuracy: 0.7356 - val_loss: 0.6323 - val_accuracy: 0.6750\n",
      "Epoch 73/100\n",
      "276/282 [============================>.] - ETA: 0s - loss: 0.5833 - accuracy: 0.7379\n",
      "Epoch 73: val_accuracy did not improve from 0.73700\n",
      "282/282 [==============================] - 2s 6ms/step - loss: 0.5850 - accuracy: 0.7357 - val_loss: 0.6256 - val_accuracy: 0.6780\n",
      "Epoch 74/100\n",
      "277/282 [============================>.] - ETA: 0s - loss: 0.5836 - accuracy: 0.7366\n",
      "Epoch 74: val_accuracy did not improve from 0.73700\n",
      "282/282 [==============================] - 2s 6ms/step - loss: 0.5832 - accuracy: 0.7369 - val_loss: 0.6226 - val_accuracy: 0.6830\n",
      "Epoch 75/100\n",
      "277/282 [============================>.] - ETA: 0s - loss: 0.5812 - accuracy: 0.7365\n",
      "Epoch 75: val_accuracy did not improve from 0.73700\n",
      "282/282 [==============================] - 2s 6ms/step - loss: 0.5817 - accuracy: 0.7361 - val_loss: 0.6199 - val_accuracy: 0.6750\n",
      "Epoch 76/100\n",
      "275/282 [============================>.] - ETA: 0s - loss: 0.5846 - accuracy: 0.7334\n",
      "Epoch 76: val_accuracy did not improve from 0.73700\n",
      "282/282 [==============================] - 2s 6ms/step - loss: 0.5845 - accuracy: 0.7336 - val_loss: 0.6218 - val_accuracy: 0.6830\n",
      "Epoch 77/100\n",
      "275/282 [============================>.] - ETA: 0s - loss: 0.5799 - accuracy: 0.7377\n",
      "Epoch 77: val_accuracy did not improve from 0.73700\n",
      "282/282 [==============================] - 2s 5ms/step - loss: 0.5810 - accuracy: 0.7366 - val_loss: 0.6209 - val_accuracy: 0.6790\n",
      "Epoch 78/100\n",
      "282/282 [==============================] - ETA: 0s - loss: 0.5789 - accuracy: 0.7352\n",
      "Epoch 78: val_accuracy did not improve from 0.73700\n",
      "282/282 [==============================] - 2s 6ms/step - loss: 0.5789 - accuracy: 0.7352 - val_loss: 0.6202 - val_accuracy: 0.6780\n",
      "Epoch 79/100\n",
      "279/282 [============================>.] - ETA: 0s - loss: 0.5809 - accuracy: 0.7361\n",
      "Epoch 79: val_accuracy did not improve from 0.73700\n",
      "282/282 [==============================] - 2s 6ms/step - loss: 0.5812 - accuracy: 0.7360 - val_loss: 0.6237 - val_accuracy: 0.6790\n",
      "Epoch 80/100\n",
      "280/282 [============================>.] - ETA: 0s - loss: 0.5766 - accuracy: 0.7423\n",
      "Epoch 80: val_accuracy did not improve from 0.73700\n",
      "282/282 [==============================] - 2s 6ms/step - loss: 0.5769 - accuracy: 0.7419 - val_loss: 0.6193 - val_accuracy: 0.6830\n",
      "Epoch 81/100\n",
      "277/282 [============================>.] - ETA: 0s - loss: 0.5828 - accuracy: 0.7315\n",
      "Epoch 81: val_accuracy did not improve from 0.73700\n",
      "282/282 [==============================] - 2s 6ms/step - loss: 0.5825 - accuracy: 0.7321 - val_loss: 0.6182 - val_accuracy: 0.6800\n",
      "Epoch 82/100\n",
      "277/282 [============================>.] - ETA: 0s - loss: 0.5758 - accuracy: 0.7367\n",
      "Epoch 82: val_accuracy did not improve from 0.73700\n",
      "282/282 [==============================] - 2s 6ms/step - loss: 0.5761 - accuracy: 0.7362 - val_loss: 0.6198 - val_accuracy: 0.6760\n",
      "Epoch 83/100\n",
      "280/282 [============================>.] - ETA: 0s - loss: 0.5790 - accuracy: 0.7340\n",
      "Epoch 83: val_accuracy did not improve from 0.73700\n",
      "282/282 [==============================] - 2s 6ms/step - loss: 0.5791 - accuracy: 0.7337 - val_loss: 0.6219 - val_accuracy: 0.6800\n",
      "Epoch 84/100\n",
      "280/282 [============================>.] - ETA: 0s - loss: 0.5732 - accuracy: 0.7392\n",
      "Epoch 84: val_accuracy did not improve from 0.73700\n",
      "282/282 [==============================] - 2s 6ms/step - loss: 0.5731 - accuracy: 0.7393 - val_loss: 0.6185 - val_accuracy: 0.6750\n",
      "Epoch 85/100\n",
      "275/282 [============================>.] - ETA: 0s - loss: 0.5742 - accuracy: 0.7395\n",
      "Epoch 85: val_accuracy did not improve from 0.73700\n",
      "282/282 [==============================] - 2s 6ms/step - loss: 0.5754 - accuracy: 0.7388 - val_loss: 0.6222 - val_accuracy: 0.6810\n",
      "Epoch 86/100\n",
      "278/282 [============================>.] - ETA: 0s - loss: 0.5749 - accuracy: 0.7380\n",
      "Epoch 86: val_accuracy did not improve from 0.73700\n",
      "282/282 [==============================] - 2s 5ms/step - loss: 0.5745 - accuracy: 0.7389 - val_loss: 0.6176 - val_accuracy: 0.6860\n",
      "Epoch 87/100\n",
      "280/282 [============================>.] - ETA: 0s - loss: 0.5685 - accuracy: 0.7419\n",
      "Epoch 87: val_accuracy did not improve from 0.73700\n",
      "282/282 [==============================] - 1s 5ms/step - loss: 0.5687 - accuracy: 0.7416 - val_loss: 0.6214 - val_accuracy: 0.6820\n",
      "Epoch 88/100\n",
      "274/282 [============================>.] - ETA: 0s - loss: 0.5688 - accuracy: 0.7474\n",
      "Epoch 88: val_accuracy did not improve from 0.73700\n",
      "282/282 [==============================] - 1s 5ms/step - loss: 0.5693 - accuracy: 0.7470 - val_loss: 0.6208 - val_accuracy: 0.6750\n",
      "Epoch 89/100\n",
      "280/282 [============================>.] - ETA: 0s - loss: 0.5716 - accuracy: 0.7391\n",
      "Epoch 89: val_accuracy did not improve from 0.73700\n",
      "282/282 [==============================] - 2s 5ms/step - loss: 0.5717 - accuracy: 0.7387 - val_loss: 0.6171 - val_accuracy: 0.6810\n",
      "Epoch 90/100\n",
      "281/282 [============================>.] - ETA: 0s - loss: 0.5676 - accuracy: 0.7480\n",
      "Epoch 90: val_accuracy did not improve from 0.73700\n",
      "282/282 [==============================] - 2s 6ms/step - loss: 0.5676 - accuracy: 0.7480 - val_loss: 0.6195 - val_accuracy: 0.6840\n",
      "Epoch 91/100\n",
      "276/282 [============================>.] - ETA: 0s - loss: 0.5682 - accuracy: 0.7463\n",
      "Epoch 91: val_accuracy did not improve from 0.73700\n",
      "282/282 [==============================] - 2s 6ms/step - loss: 0.5691 - accuracy: 0.7454 - val_loss: 0.6251 - val_accuracy: 0.6750\n",
      "Epoch 92/100\n",
      "278/282 [============================>.] - ETA: 0s - loss: 0.5712 - accuracy: 0.7419\n",
      "Epoch 92: val_accuracy did not improve from 0.73700\n",
      "282/282 [==============================] - 2s 6ms/step - loss: 0.5711 - accuracy: 0.7414 - val_loss: 0.6187 - val_accuracy: 0.6760\n",
      "Epoch 93/100\n",
      "281/282 [============================>.] - ETA: 0s - loss: 0.5712 - accuracy: 0.7430\n",
      "Epoch 93: val_accuracy did not improve from 0.73700\n",
      "282/282 [==============================] - 2s 5ms/step - loss: 0.5715 - accuracy: 0.7426 - val_loss: 0.6176 - val_accuracy: 0.6790\n",
      "Epoch 94/100\n",
      "273/282 [============================>.] - ETA: 0s - loss: 0.5665 - accuracy: 0.7442\n",
      "Epoch 94: val_accuracy did not improve from 0.73700\n",
      "282/282 [==============================] - 1s 5ms/step - loss: 0.5675 - accuracy: 0.7434 - val_loss: 0.6181 - val_accuracy: 0.6880\n",
      "Epoch 95/100\n",
      "275/282 [============================>.] - ETA: 0s - loss: 0.5697 - accuracy: 0.7426\n",
      "Epoch 95: val_accuracy did not improve from 0.73700\n",
      "282/282 [==============================] - 1s 5ms/step - loss: 0.5693 - accuracy: 0.7431 - val_loss: 0.6200 - val_accuracy: 0.6830\n",
      "Epoch 96/100\n",
      "282/282 [==============================] - ETA: 0s - loss: 0.5644 - accuracy: 0.7488\n",
      "Epoch 96: val_accuracy did not improve from 0.73700\n",
      "282/282 [==============================] - 2s 5ms/step - loss: 0.5644 - accuracy: 0.7488 - val_loss: 0.6179 - val_accuracy: 0.6820\n",
      "Epoch 97/100\n",
      "280/282 [============================>.] - ETA: 0s - loss: 0.5646 - accuracy: 0.7462\n",
      "Epoch 97: val_accuracy did not improve from 0.73700\n",
      "282/282 [==============================] - 2s 6ms/step - loss: 0.5644 - accuracy: 0.7464 - val_loss: 0.6206 - val_accuracy: 0.6840\n",
      "Epoch 98/100\n",
      "271/282 [===========================>..] - ETA: 0s - loss: 0.5682 - accuracy: 0.7402\n",
      "Epoch 98: val_accuracy did not improve from 0.73700\n",
      "282/282 [==============================] - 1s 5ms/step - loss: 0.5678 - accuracy: 0.7403 - val_loss: 0.6192 - val_accuracy: 0.6730\n",
      "Epoch 99/100\n",
      "282/282 [==============================] - ETA: 0s - loss: 0.5667 - accuracy: 0.7424\n",
      "Epoch 99: val_accuracy did not improve from 0.73700\n",
      "282/282 [==============================] - 1s 5ms/step - loss: 0.5667 - accuracy: 0.7424 - val_loss: 0.6257 - val_accuracy: 0.6750\n",
      "Epoch 100/100\n",
      "275/282 [============================>.] - ETA: 0s - loss: 0.5650 - accuracy: 0.7428\n",
      "Epoch 100: val_accuracy did not improve from 0.73700\n",
      "282/282 [==============================] - 2s 6ms/step - loss: 0.5650 - accuracy: 0.7430 - val_loss: 0.6181 - val_accuracy: 0.6780\n"
     ]
    }
   ],
   "source": [
    "history = model.fit(x=x_train,\n",
    "                    y=y_train,batch_size=32,\n",
    "                    validation_data=(x_val,y_val),\n",
    "                    epochs=100,\n",
    "                    callbacks=callbacks)"
   ]
  },
  {
   "cell_type": "code",
   "execution_count": 27,
   "metadata": {
    "pycharm": {
     "name": "#%%\n"
    }
   },
   "outputs": [],
   "source": [
    "def plot_accuracy_loss_chart(history,epoch_count):\n",
    "    \"\"\"\n",
    "    Plots accuracy and losses for each epoch\n",
    "    :param history: history from fitting model\n",
    "    :param epoch_count: amount of epochs to plot\n",
    "    :return: None\n",
    "    \"\"\"\n",
    "    epochs = [i for i in range(epoch_count)]\n",
    "    fig , ax = plt.subplots(1,2)\n",
    "    train_acc = history.history['accuracy']\n",
    "    train_loss = history.history['loss']\n",
    "    val_acc = history.history['val_accuracy']\n",
    "    val_loss = history.history['val_loss']\n",
    "    fig.set_size_inches(20,10)\n",
    "    ax[0].plot(epochs , train_acc , 'go-' , label = 'Training Accuracy')\n",
    "    ax[0].plot(epochs , val_acc , 'ro-' , label = 'Validation Accuracy')\n",
    "    ax[0].set_title('Training & Validation Accuracy')\n",
    "    ax[0].legend()\n",
    "    ax[0].set_xlabel(\"Epochs\")\n",
    "    ax[0].set_ylabel(\"Accuracy\")\n",
    "\n",
    "    ax[1].plot(epochs , train_loss , 'g-o' , label = 'Training Loss')\n",
    "    ax[1].plot(epochs , val_loss , 'r-o' , label = 'Validation Loss')\n",
    "    ax[1].set_title('Training & Validation Loss')\n",
    "    ax[1].legend()\n",
    "    ax[1].set_xlabel(\"Epochs\")\n",
    "    ax[1].set_ylabel(\"Training & Validation Loss\")\n",
    "    plt.show()"
   ]
  },
  {
   "cell_type": "code",
   "execution_count": 53,
   "metadata": {
    "pycharm": {
     "name": "#%%\n"
    }
   },
   "outputs": [
    {
     "data": {
      "text/plain": "<Figure size 1440x720 with 2 Axes>",
      "image/png": "[encoded data removed]"
     },
     "metadata": {
      "needs_background": "light"
     },
     "output_type": "display_data"
    }
   ],
   "source": [
    "plot_accuracy_loss_chart(history,100)"
   ]
  },
  {
   "cell_type": "code",
   "execution_count": null,
   "metadata": {},
   "outputs": [],
   "source": []
  }
 ],
 "metadata": {
  "kernelspec": {
   "display_name": "Python 3 (ipykernel)",
   "language": "python",
   "name": "python3"
  },
  "language_info": {
   "codemirror_mode": {
    "name": "ipython",
    "version": 3
   },
   "file_extension": ".py",
   "mimetype": "text/x-python",
   "name": "python",
   "nbconvert_exporter": "python",
   "pygments_lexer": "ipython3",
   "version": "3.8.8"
  }
 },
 "nbformat": 4,
 "nbformat_minor": 4
}