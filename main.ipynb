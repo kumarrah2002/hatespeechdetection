{
 "cells": [
  {
   "cell_type": "code",
   "execution_count": 1,
   "metadata": {
    "collapsed": true
   },
   "outputs": [
    {
     "name": "stderr",
     "output_type": "stream",
     "text": [
      "2022-03-23 19:31:34.941928: I tensorflow/stream_executor/platform/default/dso_loader.cc:49] Successfully opened dynamic library libcudart.so.10.1\n"
     ]
    }
   ],
   "source": [
    "import numpy as np\n",
    "import pandas as pd\n",
    "import seaborn as sns\n",
    "import tensorflow as tf\n",
    "import matplotlib.pyplot as plt\n",
    "#import fasttext\n",
    "import codecs\n",
    "from tqdm import tqdm\n",
    "import re"
   ]
  },
  {
   "cell_type": "code",
   "execution_count": 2,
   "outputs": [
    {
     "name": "stderr",
     "output_type": "stream",
     "text": [
      "/tmp/ipykernel_3195/675437588.py:5: FutureWarning: In a future version of pandas all arguments of DataFrame.drop except for the argument 'labels' will be keyword-only.\n",
      "  train = train.drop(['TR','AG'],1)\n",
      "/tmp/ipykernel_3195/675437588.py:6: FutureWarning: In a future version of pandas all arguments of DataFrame.drop except for the argument 'labels' will be keyword-only.\n",
      "  test = test.drop(['TR','AG'],1)\n",
      "/tmp/ipykernel_3195/675437588.py:7: FutureWarning: In a future version of pandas all arguments of DataFrame.drop except for the argument 'labels' will be keyword-only.\n",
      "  val = val.drop(['TR','AG'],1)\n"
     ]
    }
   ],
   "source": [
    "train = pd.read_csv('data/hateval2019_en_train.csv')\n",
    "test = pd.read_csv('data/hateval2019_en_test.csv')\n",
    "val = pd.read_csv('data/hateval2019_en_dev.csv')\n",
    "\n",
    "train = train.drop(['TR','AG'],1)\n",
    "test = test.drop(['TR','AG'],1)\n",
    "val = val.drop(['TR','AG'],1)"
   ],
   "metadata": {
    "collapsed": false,
    "pycharm": {
     "name": "#%%\n"
    }
   }
  },
  {
   "cell_type": "code",
   "execution_count": 3,
   "outputs": [
    {
     "data": {
      "text/plain": "<AxesSubplot:xlabel='HS', ylabel='count'>"
     },
     "execution_count": 3,
     "metadata": {},
     "output_type": "execute_result"
    },
    {
     "data": {
      "text/plain": "<Figure size 432x288 with 1 Axes>",
      "image/png": "[encoded data removed]"
     },
     "metadata": {
      "needs_background": "light"
     },
     "output_type": "display_data"
    }
   ],
   "source": [
    "sns.countplot(data=train,x='HS')"
   ],
   "metadata": {
    "collapsed": false,
    "pycharm": {
     "name": "#%%\n"
    }
   }
  },
  {
   "cell_type": "markdown",
   "source": [
    "Unbalanced but not massively"
   ],
   "metadata": {
    "collapsed": false,
    "pycharm": {
     "name": "#%% md\n"
    }
   }
  },
  {
   "cell_type": "markdown",
   "source": [
    "Fasttext model. tokenizer->fast text embedding ->LSTM->Linear->linear->sigmoid"
   ],
   "metadata": {
    "collapsed": false
   }
  },
  {
   "cell_type": "code",
   "execution_count": 4,
   "outputs": [],
   "source": [
    "from tensorflow.keras.preprocessing.text import Tokenizer\n",
    "from tensorflow.keras.preprocessing.sequence import pad_sequences\n",
    "from tensorflow.keras.models import Sequential\n",
    "from tensorflow.keras.layers import Dense, LSTM, Dropout, Embedding\n",
    "from tensorflow.keras.optimizers import Adam\n",
    "from tensorflow.keras.losses import BinaryCrossentropy\n",
    "from tensorflow.keras.regularizers import L1,L2, l1_l2\n",
    "import io"
   ],
   "metadata": {
    "collapsed": false,
    "pycharm": {
     "name": "#%%\n"
    }
   }
  },
  {
   "cell_type": "code",
   "execution_count": 29,
   "outputs": [],
   "source": [
    "def normalize_tweet(text):\n",
    "    \"\"\"\n",
    "    Removes hashtags, @s, links, and punctuation\n",
    "    :param text:Text to be cleaned\n",
    "    :return: text with mentions, hashtages, and urls removes\n",
    "    \"\"\"\n",
    "    processed_text = re.sub(r\"(?:\\@|http?\\://|https?\\://|www|t\\.)\\S+\", \"\", text)\n",
    "    processed_text = re.sub(r\"(?:\\.|,|\\?|-)\", \" \", processed_text)\n",
    "    processed_text = re.sub(r\"(?:\\@|http?\\://|https?\\://|www|\\.com)\", \"\", processed_text)\n",
    "    processed_text = re.sub(r'[^\\w\\s]', '', processed_text)\n",
    "    processed_text = \" \".join(processed_text.split())\n",
    "    return processed_text\n",
    "\n",
    "def x_y_split(data):\n",
    "    \"\"\"splits and X and y from dataframe\n",
    "\n",
    "    Args:\n",
    "        data:dataframe to split from\n",
    "\n",
    "    Returns:\n",
    "        tuple:X data, y data\n",
    "    \"\"\"\n",
    "    X = data['text']\n",
    "    X = X.apply(normalize_tweet)\n",
    "    y = data['HS']\n",
    "    return X, y"
   ],
   "metadata": {
    "collapsed": false,
    "pycharm": {
     "name": "#%%\n"
    }
   }
  },
  {
   "cell_type": "code",
   "execution_count": 30,
   "outputs": [
    {
     "name": "stdout",
     "output_type": "stream",
     "text": [
      "0       Hurray saving us in so many ways LockThemUp Bu...\n",
      "1       Why would young fighting age men be the vast m...\n",
      "2       Illegals Dump their Kids at the border like Ro...\n",
      "3       NY Times Nearly All White States Pose an Array...\n",
      "4       Orban in Brussels European leaders are ignorin...\n",
      "                              ...                        \n",
      "8995                  I am proud to be a hysterical woman\n",
      "8996    Hollywood is complicit in the rape and sexual ...\n",
      "8997    What a fucking cunt I hate seeing kids getting...\n",
      "8998                                Hysterical woman like\n",
      "8999    Nearly every woman I know has meToo in their f...\n",
      "Name: text, Length: 9000, dtype: object\n"
     ]
    }
   ],
   "source": [
    "#Split x and ys\n",
    "x_train, y_train = x_y_split(train)\n",
    "print(x_train)\n",
    "x_train.to_csv('test.csv')"
   ],
   "metadata": {
    "collapsed": false,
    "pycharm": {
     "name": "#%%\n"
    }
   }
  },
  {
   "cell_type": "code",
   "execution_count": 31,
   "outputs": [],
   "source": [
    "max_features = 5000\n",
    "tokenizer = Tokenizer(num_words=max_features, split=' ', lower=True)\n",
    "tokenizer.fit_on_texts(x_train)\n",
    "def tokenize_and_pad(x_data,tokenizer=tokenizer,length=57):\n",
    "    \"\"\"\n",
    "    Tokenizes and pads input\n",
    "    :param x_data: X column of data\n",
    "    :param tokenizer: fitted tokenizer\n",
    "    :param length: length to pad\n",
    "    :return: tokenized and padded x_data\n",
    "    \"\"\"\n",
    "    x_data = tokenizer.texts_to_sequences(x_data)\n",
    "    x_data = pad_sequences(x_data,maxlen=length)\n",
    "    return x_data\n",
    "x_train = tokenize_and_pad(x_train,tokenizer)\n",
    "def split_and_tokenize(data,tokenizer=tokenizer):\n",
    "    \"\"\"\n",
    "    Splits tokenizes and pads data\n",
    "    :param data:\n",
    "    :return: tupple of (X,y)\n",
    "    \"\"\"\n",
    "    X, y = x_y_split(data)\n",
    "    X = tokenize_and_pad(X)\n",
    "    return X, y"
   ],
   "metadata": {
    "collapsed": false,
    "pycharm": {
     "name": "#%%\n"
    }
   }
  },
  {
   "cell_type": "code",
   "execution_count": 32,
   "outputs": [],
   "source": [
    "x_val , y_val = split_and_tokenize(val)\n",
    "x_test, y_test = split_and_tokenize(test)"
   ],
   "metadata": {
    "collapsed": false,
    "pycharm": {
     "name": "#%%\n"
    }
   }
  },
  {
   "cell_type": "code",
   "execution_count": 33,
   "outputs": [],
   "source": [
    "embed_dim = 300\n",
    "lstm_out = 392\n",
    "input_length=x_train.shape[1]"
   ],
   "metadata": {
    "collapsed": false,
    "pycharm": {
     "name": "#%%\n"
    }
   }
  },
  {
   "cell_type": "code",
   "execution_count": 34,
   "outputs": [
    {
     "name": "stdout",
     "output_type": "stream",
     "text": [
      "loading word embeddings...\n"
     ]
    },
    {
     "name": "stderr",
     "output_type": "stream",
     "text": [
      "999995it [00:42, 23710.09it/s]"
     ]
    },
    {
     "name": "stdout",
     "output_type": "stream",
     "text": [
      "found 999995 word vectors\n"
     ]
    },
    {
     "name": "stderr",
     "output_type": "stream",
     "text": [
      "\n"
     ]
    }
   ],
   "source": [
    "#https://www.kaggle.com/vsmolyakov/keras-cnn-with-fasttext-embeddings\n",
    "#load embeddings\n",
    "print('loading word embeddings...')\n",
    "embeddings_index = {}\n",
    "f = codecs.open('data/wiki-news-300d-1M.vec', encoding='utf-8')\n",
    "for line in tqdm(f):\n",
    "    values = line.rstrip().rsplit(' ')\n",
    "    word = values[0]\n",
    "    coefs = np.asarray(values[1:], dtype='float32')\n",
    "    embeddings_index[word] = coefs\n",
    "f.close()\n",
    "print('found %s word vectors' % len(embeddings_index))\n",
    "\n"
   ],
   "metadata": {
    "collapsed": false,
    "pycharm": {
     "name": "#%%\n"
    }
   }
  },
  {
   "cell_type": "code",
   "execution_count": 35,
   "outputs": [
    {
     "name": "stdout",
     "output_type": "stream",
     "text": [
      "number of null word embeddings: 235\n"
     ]
    }
   ],
   "source": [
    "#embedding matrix\n",
    "nb_words = min(max_features, len(tokenizer.word_index))\n",
    "words_not_found = []\n",
    "embedding_matrix = np.zeros((nb_words,embed_dim))\n",
    "word_index = tokenizer.word_index\n",
    "for word, i in word_index.items():\n",
    "    if i >= nb_words:\n",
    "        continue\n",
    "    embedding_vector = embeddings_index.get(word)\n",
    "    if (embedding_vector is not None) and len(embedding_vector) > 0:\n",
    "        # words not found in embedding index will be all-zeros.\n",
    "        embedding_matrix[i] = embedding_vector\n",
    "    else:\n",
    "        words_not_found.append(word)\n",
    "print('number of null word embeddings: %d' % np.sum(np.sum(embedding_matrix, axis=1) == 0))"
   ],
   "metadata": {
    "collapsed": false,
    "pycharm": {
     "name": "#%%\n"
    }
   }
  },
  {
   "cell_type": "code",
   "execution_count": 36,
   "outputs": [
    {
     "name": "stdout",
     "output_type": "stream",
     "text": [
      "sample words not found:  ['lockthemallup' 'redwaverising2018' 'orbãn' 'deportillegalaliens'\n",
      " 'illegalimmigration' 'travelban' 'wewelcomerefugees' 'x008d'\n",
      " 'madonnawhore' 'sendthemback']\n"
     ]
    }
   ],
   "source": [
    "print(\"sample words not found: \", np.random.choice(words_not_found, 10))"
   ],
   "metadata": {
    "collapsed": false,
    "pycharm": {
     "name": "#%%\n"
    }
   }
  },
  {
   "cell_type": "markdown",
   "source": [],
   "metadata": {
    "collapsed": false
   }
  },
  {
   "cell_type": "code",
   "execution_count": 42,
   "outputs": [],
   "source": [
    "REG_STRENGTH_l1 = 0\n",
    "REG_STRENGTH_l2 = 0.075\n",
    "model = Sequential()\n",
    "model.add(Embedding(max_features,embed_dim,input_length=input_length, weights=[embedding_matrix],trainable=False))\n",
    "model.add(LSTM(lstm_out,dropout=0.6, kernel_regularizer=L2(REG_STRENGTH_l2)))\n",
    "model.add(Dense(256,activation='relu', kernel_regularizer=L2(REG_STRENGTH_l2)))\n",
    "model.add(Dropout(.7))\n",
    "model.add(Dense(256,activation='relu', kernel_regularizer=L2(REG_STRENGTH_l2)))\n",
    "model.add(Dropout(.7))\n",
    "model.add(Dense(1,activation='sigmoid'))\n",
    "model.compile(loss=BinaryCrossentropy(),optimizer=Adam(learning_rate=0.0001),metrics=['accuracy'])\n",
    "#print(model.summary())"
   ],
   "metadata": {
    "collapsed": false,
    "pycharm": {
     "name": "#%%\n"
    }
   }
  },
  {
   "cell_type": "code",
   "execution_count": 43,
   "outputs": [
    {
     "name": "stdout",
     "output_type": "stream",
     "text": [
      "Epoch 1/100\n",
      "36/36 [==============================] - 2s 32ms/step - loss: 78.0778 - accuracy: 0.5345 - val_loss: 69.9024 - val_accuracy: 0.5730\n",
      "\n",
      "Epoch 00001: val_loss improved from inf to 69.90239, saving model to checkpoints/fast_text_model.hdf5\n",
      "Epoch 2/100\n",
      "36/36 [==============================] - 1s 25ms/step - loss: 67.4304 - accuracy: 0.5705 - val_loss: 60.3693 - val_accuracy: 0.5730\n",
      "\n",
      "Epoch 00002: val_loss improved from 69.90239 to 60.36932, saving model to checkpoints/fast_text_model.hdf5\n",
      "Epoch 3/100\n",
      "36/36 [==============================] - 1s 25ms/step - loss: 58.2440 - accuracy: 0.5786 - val_loss: 52.1669 - val_accuracy: 0.5730\n",
      "\n",
      "Epoch 00003: val_loss improved from 60.36932 to 52.16687, saving model to checkpoints/fast_text_model.hdf5\n",
      "Epoch 4/100\n",
      "36/36 [==============================] - 1s 27ms/step - loss: 50.3371 - accuracy: 0.5785 - val_loss: 45.0979 - val_accuracy: 0.5730\n",
      "\n",
      "Epoch 00004: val_loss improved from 52.16687 to 45.09790, saving model to checkpoints/fast_text_model.hdf5\n",
      "Epoch 5/100\n",
      "36/36 [==============================] - 1s 28ms/step - loss: 43.5191 - accuracy: 0.5765 - val_loss: 38.9951 - val_accuracy: 0.5730\n",
      "\n",
      "Epoch 00005: val_loss improved from 45.09790 to 38.99509, saving model to checkpoints/fast_text_model.hdf5\n",
      "Epoch 6/100\n",
      "36/36 [==============================] - 1s 28ms/step - loss: 37.6366 - accuracy: 0.5807 - val_loss: 33.7444 - val_accuracy: 0.5730\n",
      "\n",
      "Epoch 00006: val_loss improved from 38.99509 to 33.74440, saving model to checkpoints/fast_text_model.hdf5\n",
      "Epoch 7/100\n",
      "36/36 [==============================] - 1s 26ms/step - loss: 32.5659 - accuracy: 0.5869 - val_loss: 29.1992 - val_accuracy: 0.5730\n",
      "\n",
      "Epoch 00007: val_loss improved from 33.74440 to 29.19915, saving model to checkpoints/fast_text_model.hdf5\n",
      "Epoch 8/100\n",
      "36/36 [==============================] - 1s 25ms/step - loss: 28.1829 - accuracy: 0.5810 - val_loss: 25.2795 - val_accuracy: 0.5730\n",
      "\n",
      "Epoch 00008: val_loss improved from 29.19915 to 25.27949, saving model to checkpoints/fast_text_model.hdf5\n",
      "Epoch 9/100\n",
      "36/36 [==============================] - 1s 25ms/step - loss: 24.4052 - accuracy: 0.5825 - val_loss: 21.9069 - val_accuracy: 0.5730\n",
      "\n",
      "Epoch 00009: val_loss improved from 25.27949 to 21.90689, saving model to checkpoints/fast_text_model.hdf5\n",
      "Epoch 10/100\n",
      "36/36 [==============================] - 1s 25ms/step - loss: 21.1472 - accuracy: 0.5811 - val_loss: 18.9864 - val_accuracy: 0.5730\n",
      "\n",
      "Epoch 00010: val_loss improved from 21.90689 to 18.98640, saving model to checkpoints/fast_text_model.hdf5\n",
      "Epoch 11/100\n",
      "36/36 [==============================] - 1s 25ms/step - loss: 18.3362 - accuracy: 0.5763 - val_loss: 16.4798 - val_accuracy: 0.5730\n",
      "\n",
      "Epoch 00011: val_loss improved from 18.98640 to 16.47978, saving model to checkpoints/fast_text_model.hdf5\n",
      "Epoch 12/100\n",
      "36/36 [==============================] - 1s 25ms/step - loss: 15.9123 - accuracy: 0.5760 - val_loss: 14.3033 - val_accuracy: 0.5730\n",
      "\n",
      "Epoch 00012: val_loss improved from 16.47978 to 14.30334, saving model to checkpoints/fast_text_model.hdf5\n",
      "Epoch 13/100\n",
      "36/36 [==============================] - 1s 25ms/step - loss: 13.8196 - accuracy: 0.5861 - val_loss: 12.4464 - val_accuracy: 0.5730\n",
      "\n",
      "Epoch 00013: val_loss improved from 14.30334 to 12.44636, saving model to checkpoints/fast_text_model.hdf5\n",
      "Epoch 14/100\n",
      "36/36 [==============================] - 1s 25ms/step - loss: 12.0327 - accuracy: 0.5783 - val_loss: 10.8312 - val_accuracy: 0.5730\n",
      "\n",
      "Epoch 00014: val_loss improved from 12.44636 to 10.83121, saving model to checkpoints/fast_text_model.hdf5\n",
      "Epoch 15/100\n",
      "36/36 [==============================] - 1s 25ms/step - loss: 10.4675 - accuracy: 0.5796 - val_loss: 9.4490 - val_accuracy: 0.5730\n",
      "\n",
      "Epoch 00015: val_loss improved from 10.83121 to 9.44896, saving model to checkpoints/fast_text_model.hdf5\n",
      "Epoch 16/100\n",
      "36/36 [==============================] - 1s 25ms/step - loss: 9.1337 - accuracy: 0.5820 - val_loss: 8.2365 - val_accuracy: 0.5730\n",
      "\n",
      "Epoch 00016: val_loss improved from 9.44896 to 8.23647, saving model to checkpoints/fast_text_model.hdf5\n",
      "Epoch 17/100\n",
      "36/36 [==============================] - 1s 25ms/step - loss: 7.9647 - accuracy: 0.5741 - val_loss: 7.2081 - val_accuracy: 0.5730\n",
      "\n",
      "Epoch 00017: val_loss improved from 8.23647 to 7.20813, saving model to checkpoints/fast_text_model.hdf5\n",
      "Epoch 18/100\n",
      "36/36 [==============================] - 1s 25ms/step - loss: 6.9772 - accuracy: 0.5808 - val_loss: 6.3070 - val_accuracy: 0.5730\n",
      "\n",
      "Epoch 00018: val_loss improved from 7.20813 to 6.30698, saving model to checkpoints/fast_text_model.hdf5\n",
      "Epoch 19/100\n",
      "36/36 [==============================] - 1s 25ms/step - loss: 6.1044 - accuracy: 0.5785 - val_loss: 5.5143 - val_accuracy: 0.5730\n",
      "\n",
      "Epoch 00019: val_loss improved from 6.30698 to 5.51431, saving model to checkpoints/fast_text_model.hdf5\n",
      "Epoch 20/100\n",
      "36/36 [==============================] - 1s 26ms/step - loss: 5.3495 - accuracy: 0.5848 - val_loss: 4.8524 - val_accuracy: 0.5730\n",
      "\n",
      "Epoch 00020: val_loss improved from 5.51431 to 4.85239, saving model to checkpoints/fast_text_model.hdf5\n",
      "Epoch 21/100\n",
      "36/36 [==============================] - 1s 27ms/step - loss: 4.7010 - accuracy: 0.5775 - val_loss: 4.2968 - val_accuracy: 0.5740\n",
      "\n",
      "Epoch 00021: val_loss improved from 4.85239 to 4.29681, saving model to checkpoints/fast_text_model.hdf5\n",
      "Epoch 22/100\n",
      "36/36 [==============================] - 1s 29ms/step - loss: 4.1706 - accuracy: 0.5777 - val_loss: 3.7709 - val_accuracy: 0.5730\n",
      "\n",
      "Epoch 00022: val_loss improved from 4.29681 to 3.77092, saving model to checkpoints/fast_text_model.hdf5\n",
      "Epoch 23/100\n",
      "36/36 [==============================] - 1s 27ms/step - loss: 3.6573 - accuracy: 0.5759 - val_loss: 3.3626 - val_accuracy: 0.4520\n",
      "\n",
      "Epoch 00023: val_loss improved from 3.77092 to 3.36259, saving model to checkpoints/fast_text_model.hdf5\n",
      "Epoch 24/100\n",
      "36/36 [==============================] - 1s 25ms/step - loss: 3.2450 - accuracy: 0.5784 - val_loss: 2.9717 - val_accuracy: 0.5730\n",
      "\n",
      "Epoch 00024: val_loss improved from 3.36259 to 2.97169, saving model to checkpoints/fast_text_model.hdf5\n",
      "Epoch 25/100\n",
      "36/36 [==============================] - 1s 25ms/step - loss: 2.8794 - accuracy: 0.5758 - val_loss: 2.6429 - val_accuracy: 0.5730\n",
      "\n",
      "Epoch 00025: val_loss improved from 2.97169 to 2.64289, saving model to checkpoints/fast_text_model.hdf5\n",
      "Epoch 26/100\n",
      "36/36 [==============================] - 1s 27ms/step - loss: 2.5595 - accuracy: 0.5799 - val_loss: 2.3521 - val_accuracy: 0.5730\n",
      "\n",
      "Epoch 00026: val_loss improved from 2.64289 to 2.35208, saving model to checkpoints/fast_text_model.hdf5\n",
      "Epoch 27/100\n",
      "36/36 [==============================] - 1s 26ms/step - loss: 2.2831 - accuracy: 0.5944 - val_loss: 2.1004 - val_accuracy: 0.5790\n",
      "\n",
      "Epoch 00027: val_loss improved from 2.35208 to 2.10045, saving model to checkpoints/fast_text_model.hdf5\n",
      "Epoch 28/100\n",
      "36/36 [==============================] - 1s 26ms/step - loss: 2.0426 - accuracy: 0.5984 - val_loss: 1.8872 - val_accuracy: 0.6260\n",
      "\n",
      "Epoch 00028: val_loss improved from 2.10045 to 1.88716, saving model to checkpoints/fast_text_model.hdf5\n",
      "Epoch 29/100\n",
      "36/36 [==============================] - 1s 26ms/step - loss: 1.8442 - accuracy: 0.6107 - val_loss: 1.7043 - val_accuracy: 0.6360\n",
      "\n",
      "Epoch 00029: val_loss improved from 1.88716 to 1.70428, saving model to checkpoints/fast_text_model.hdf5\n",
      "Epoch 30/100\n",
      "36/36 [==============================] - 1s 26ms/step - loss: 1.6810 - accuracy: 0.6195 - val_loss: 1.5539 - val_accuracy: 0.6530\n",
      "\n",
      "Epoch 00030: val_loss improved from 1.70428 to 1.55389, saving model to checkpoints/fast_text_model.hdf5\n",
      "Epoch 31/100\n",
      "36/36 [==============================] - 1s 28ms/step - loss: 1.5271 - accuracy: 0.6228 - val_loss: 1.4382 - val_accuracy: 0.6550\n",
      "\n",
      "Epoch 00031: val_loss improved from 1.55389 to 1.43817, saving model to checkpoints/fast_text_model.hdf5\n",
      "Epoch 32/100\n",
      "36/36 [==============================] - 1s 26ms/step - loss: 1.3951 - accuracy: 0.6213 - val_loss: 1.3129 - val_accuracy: 0.6480\n",
      "\n",
      "Epoch 00032: val_loss improved from 1.43817 to 1.31288, saving model to checkpoints/fast_text_model.hdf5\n",
      "Epoch 33/100\n",
      "36/36 [==============================] - 1s 26ms/step - loss: 1.2835 - accuracy: 0.6200 - val_loss: 1.2268 - val_accuracy: 0.5980\n",
      "\n",
      "Epoch 00033: val_loss improved from 1.31288 to 1.22684, saving model to checkpoints/fast_text_model.hdf5\n",
      "Epoch 34/100\n",
      "36/36 [==============================] - 1s 24ms/step - loss: 1.1957 - accuracy: 0.6254 - val_loss: 1.1160 - val_accuracy: 0.6540\n",
      "\n",
      "Epoch 00034: val_loss improved from 1.22684 to 1.11605, saving model to checkpoints/fast_text_model.hdf5\n",
      "Epoch 35/100\n",
      "36/36 [==============================] - 1s 24ms/step - loss: 1.0969 - accuracy: 0.6430 - val_loss: 1.0379 - val_accuracy: 0.6430\n",
      "\n",
      "Epoch 00035: val_loss improved from 1.11605 to 1.03791, saving model to checkpoints/fast_text_model.hdf5\n",
      "Epoch 36/100\n",
      "36/36 [==============================] - 1s 25ms/step - loss: 1.0226 - accuracy: 0.6566 - val_loss: 0.9763 - val_accuracy: 0.6480\n",
      "\n",
      "Epoch 00036: val_loss improved from 1.03791 to 0.97632, saving model to checkpoints/fast_text_model.hdf5\n",
      "Epoch 37/100\n",
      "36/36 [==============================] - 1s 28ms/step - loss: 0.9612 - accuracy: 0.6569 - val_loss: 0.9518 - val_accuracy: 0.6520\n",
      "\n",
      "Epoch 00037: val_loss improved from 0.97632 to 0.95176, saving model to checkpoints/fast_text_model.hdf5\n",
      "Epoch 38/100\n",
      "36/36 [==============================] - 1s 29ms/step - loss: 0.9233 - accuracy: 0.6519 - val_loss: 0.9019 - val_accuracy: 0.6760\n",
      "\n",
      "Epoch 00038: val_loss improved from 0.95176 to 0.90192, saving model to checkpoints/fast_text_model.hdf5\n",
      "Epoch 39/100\n",
      "36/36 [==============================] - 1s 30ms/step - loss: 0.8852 - accuracy: 0.6416 - val_loss: 0.8680 - val_accuracy: 0.6280\n",
      "\n",
      "Epoch 00039: val_loss improved from 0.90192 to 0.86798, saving model to checkpoints/fast_text_model.hdf5\n",
      "Epoch 40/100\n",
      "36/36 [==============================] - 1s 27ms/step - loss: 0.8402 - accuracy: 0.6578 - val_loss: 0.8129 - val_accuracy: 0.6390\n",
      "\n",
      "Epoch 00040: val_loss improved from 0.86798 to 0.81289, saving model to checkpoints/fast_text_model.hdf5\n",
      "Epoch 41/100\n",
      "36/36 [==============================] - 1s 28ms/step - loss: 0.8098 - accuracy: 0.6416 - val_loss: 0.7861 - val_accuracy: 0.6460\n",
      "\n",
      "Epoch 00041: val_loss improved from 0.81289 to 0.78612, saving model to checkpoints/fast_text_model.hdf5\n",
      "Epoch 42/100\n",
      "36/36 [==============================] - 1s 27ms/step - loss: 0.7797 - accuracy: 0.6548 - val_loss: 0.7594 - val_accuracy: 0.6500\n",
      "\n",
      "Epoch 00042: val_loss improved from 0.78612 to 0.75938, saving model to checkpoints/fast_text_model.hdf5\n",
      "Epoch 43/100\n",
      "36/36 [==============================] - 1s 26ms/step - loss: 0.7648 - accuracy: 0.6481 - val_loss: 0.7480 - val_accuracy: 0.6610\n",
      "\n",
      "Epoch 00043: val_loss improved from 0.75938 to 0.74796, saving model to checkpoints/fast_text_model.hdf5\n",
      "Epoch 44/100\n",
      "36/36 [==============================] - 1s 25ms/step - loss: 0.7365 - accuracy: 0.6614 - val_loss: 0.7324 - val_accuracy: 0.6460\n",
      "\n",
      "Epoch 00044: val_loss improved from 0.74796 to 0.73237, saving model to checkpoints/fast_text_model.hdf5\n",
      "Epoch 45/100\n",
      "36/36 [==============================] - 1s 26ms/step - loss: 0.7179 - accuracy: 0.6638 - val_loss: 0.7143 - val_accuracy: 0.6660\n",
      "\n",
      "Epoch 00045: val_loss improved from 0.73237 to 0.71434, saving model to checkpoints/fast_text_model.hdf5\n",
      "Epoch 46/100\n",
      "36/36 [==============================] - 1s 26ms/step - loss: 0.7135 - accuracy: 0.6579 - val_loss: 0.7041 - val_accuracy: 0.6510\n",
      "\n",
      "Epoch 00046: val_loss improved from 0.71434 to 0.70410, saving model to checkpoints/fast_text_model.hdf5\n",
      "Epoch 47/100\n",
      "36/36 [==============================] - 1s 26ms/step - loss: 0.7074 - accuracy: 0.6528 - val_loss: 0.7126 - val_accuracy: 0.6500\n",
      "\n",
      "Epoch 00047: val_loss did not improve from 0.70410\n",
      "Epoch 48/100\n",
      "36/36 [==============================] - 1s 26ms/step - loss: 0.6993 - accuracy: 0.6526 - val_loss: 0.6768 - val_accuracy: 0.6640\n",
      "\n",
      "Epoch 00048: val_loss improved from 0.70410 to 0.67685, saving model to checkpoints/fast_text_model.hdf5\n",
      "Epoch 49/100\n",
      "36/36 [==============================] - 1s 26ms/step - loss: 0.6886 - accuracy: 0.6583 - val_loss: 0.6748 - val_accuracy: 0.6680\n",
      "\n",
      "Epoch 00049: val_loss improved from 0.67685 to 0.67483, saving model to checkpoints/fast_text_model.hdf5\n",
      "Epoch 50/100\n",
      "36/36 [==============================] - 1s 25ms/step - loss: 0.6988 - accuracy: 0.6228 - val_loss: 0.6702 - val_accuracy: 0.6610\n",
      "\n",
      "Epoch 00050: val_loss improved from 0.67483 to 0.67025, saving model to checkpoints/fast_text_model.hdf5\n",
      "Epoch 51/100\n",
      "36/36 [==============================] - 1s 26ms/step - loss: 0.6674 - accuracy: 0.6684 - val_loss: 0.6574 - val_accuracy: 0.6660\n",
      "\n",
      "Epoch 00051: val_loss improved from 0.67025 to 0.65742, saving model to checkpoints/fast_text_model.hdf5\n",
      "Epoch 52/100\n",
      "36/36 [==============================] - 1s 26ms/step - loss: 0.6552 - accuracy: 0.6743 - val_loss: 0.6550 - val_accuracy: 0.6740\n",
      "\n",
      "Epoch 00052: val_loss improved from 0.65742 to 0.65499, saving model to checkpoints/fast_text_model.hdf5\n",
      "Epoch 53/100\n",
      "36/36 [==============================] - 1s 28ms/step - loss: 0.6604 - accuracy: 0.6752 - val_loss: 0.6503 - val_accuracy: 0.6720\n",
      "\n",
      "Epoch 00053: val_loss improved from 0.65499 to 0.65030, saving model to checkpoints/fast_text_model.hdf5\n",
      "Epoch 54/100\n",
      "36/36 [==============================] - 1s 28ms/step - loss: 0.6484 - accuracy: 0.6773 - val_loss: 0.6498 - val_accuracy: 0.6640\n",
      "\n",
      "Epoch 00054: val_loss improved from 0.65030 to 0.64985, saving model to checkpoints/fast_text_model.hdf5\n",
      "Epoch 55/100\n",
      "36/36 [==============================] - 1s 27ms/step - loss: 0.6532 - accuracy: 0.6714 - val_loss: 0.6765 - val_accuracy: 0.6470\n",
      "\n",
      "Epoch 00055: val_loss did not improve from 0.64985\n",
      "Epoch 56/100\n",
      "36/36 [==============================] - 1s 24ms/step - loss: 0.6556 - accuracy: 0.6639 - val_loss: 0.6622 - val_accuracy: 0.6800\n",
      "\n",
      "Epoch 00056: val_loss did not improve from 0.64985\n",
      "Epoch 57/100\n",
      "36/36 [==============================] - 1s 24ms/step - loss: 0.6602 - accuracy: 0.6716 - val_loss: 0.6690 - val_accuracy: 0.6780\n",
      "\n",
      "Epoch 00057: val_loss did not improve from 0.64985\n",
      "Epoch 58/100\n",
      "36/36 [==============================] - 1s 27ms/step - loss: 0.6532 - accuracy: 0.6645 - val_loss: 0.6427 - val_accuracy: 0.6800\n",
      "\n",
      "Epoch 00058: val_loss improved from 0.64985 to 0.64267, saving model to checkpoints/fast_text_model.hdf5\n",
      "Epoch 59/100\n",
      "36/36 [==============================] - 1s 30ms/step - loss: 0.6487 - accuracy: 0.6696 - val_loss: 0.6648 - val_accuracy: 0.6260\n",
      "\n",
      "Epoch 00059: val_loss did not improve from 0.64267\n",
      "Epoch 60/100\n",
      "36/36 [==============================] - 1s 28ms/step - loss: 0.6468 - accuracy: 0.6698 - val_loss: 0.6678 - val_accuracy: 0.6460\n",
      "\n",
      "Epoch 00060: val_loss did not improve from 0.64267\n",
      "Epoch 61/100\n",
      "36/36 [==============================] - 1s 26ms/step - loss: 0.6626 - accuracy: 0.6607 - val_loss: 0.6400 - val_accuracy: 0.6800\n",
      "\n",
      "Epoch 00061: val_loss improved from 0.64267 to 0.64000, saving model to checkpoints/fast_text_model.hdf5\n",
      "Epoch 62/100\n",
      "36/36 [==============================] - 1s 25ms/step - loss: 0.6455 - accuracy: 0.6712 - val_loss: 0.6385 - val_accuracy: 0.6780\n",
      "\n",
      "Epoch 00062: val_loss improved from 0.64000 to 0.63850, saving model to checkpoints/fast_text_model.hdf5\n",
      "Epoch 63/100\n",
      "36/36 [==============================] - 1s 25ms/step - loss: 0.6381 - accuracy: 0.6805 - val_loss: 0.6464 - val_accuracy: 0.6770\n",
      "\n",
      "Epoch 00063: val_loss did not improve from 0.63850\n",
      "Epoch 64/100\n",
      "36/36 [==============================] - 1s 25ms/step - loss: 0.6485 - accuracy: 0.6647 - val_loss: 0.6497 - val_accuracy: 0.6610\n",
      "\n",
      "Epoch 00064: val_loss did not improve from 0.63850\n",
      "Epoch 65/100\n",
      "36/36 [==============================] - 1s 25ms/step - loss: 0.6542 - accuracy: 0.6574 - val_loss: 0.6453 - val_accuracy: 0.6650\n",
      "\n",
      "Epoch 00065: val_loss did not improve from 0.63850\n",
      "Epoch 66/100\n",
      "36/36 [==============================] - 1s 25ms/step - loss: 0.6371 - accuracy: 0.6839 - val_loss: 0.6321 - val_accuracy: 0.6730\n",
      "\n",
      "Epoch 00066: val_loss improved from 0.63850 to 0.63210, saving model to checkpoints/fast_text_model.hdf5\n",
      "Epoch 67/100\n",
      "36/36 [==============================] - 1s 26ms/step - loss: 0.6355 - accuracy: 0.6828 - val_loss: 0.6313 - val_accuracy: 0.6790\n",
      "\n",
      "Epoch 00067: val_loss improved from 0.63210 to 0.63128, saving model to checkpoints/fast_text_model.hdf5\n",
      "Epoch 68/100\n",
      "36/36 [==============================] - 1s 26ms/step - loss: 0.6325 - accuracy: 0.6862 - val_loss: 0.6368 - val_accuracy: 0.6750\n",
      "\n",
      "Epoch 00068: val_loss did not improve from 0.63128\n",
      "Epoch 69/100\n",
      "36/36 [==============================] - 1s 27ms/step - loss: 0.6413 - accuracy: 0.6727 - val_loss: 0.6634 - val_accuracy: 0.6350\n",
      "\n",
      "Epoch 00069: val_loss did not improve from 0.63128\n",
      "Epoch 70/100\n",
      "36/36 [==============================] - 1s 26ms/step - loss: 0.6497 - accuracy: 0.6516 - val_loss: 0.6361 - val_accuracy: 0.6730\n",
      "\n",
      "Epoch 00070: val_loss did not improve from 0.63128\n",
      "Epoch 71/100\n",
      "36/36 [==============================] - 1s 26ms/step - loss: 0.6405 - accuracy: 0.6734 - val_loss: 0.6282 - val_accuracy: 0.6740\n",
      "\n",
      "Epoch 00071: val_loss improved from 0.63128 to 0.62825, saving model to checkpoints/fast_text_model.hdf5\n",
      "Epoch 72/100\n",
      "36/36 [==============================] - 1s 25ms/step - loss: 0.6383 - accuracy: 0.6730 - val_loss: 0.6387 - val_accuracy: 0.6780\n",
      "\n",
      "Epoch 00072: val_loss did not improve from 0.62825\n",
      "Epoch 73/100\n",
      "36/36 [==============================] - 1s 24ms/step - loss: 0.6442 - accuracy: 0.6675 - val_loss: 0.6357 - val_accuracy: 0.6740\n",
      "\n",
      "Epoch 00073: val_loss did not improve from 0.62825\n",
      "Epoch 74/100\n",
      "36/36 [==============================] - 1s 24ms/step - loss: 0.6337 - accuracy: 0.6901 - val_loss: 0.6624 - val_accuracy: 0.6410\n",
      "\n",
      "Epoch 00074: val_loss did not improve from 0.62825\n",
      "Epoch 75/100\n",
      "36/36 [==============================] - 1s 24ms/step - loss: 0.6514 - accuracy: 0.6614 - val_loss: 0.6312 - val_accuracy: 0.6720\n",
      "\n",
      "Epoch 00075: val_loss did not improve from 0.62825\n",
      "Epoch 76/100\n",
      "36/36 [==============================] - 1s 27ms/step - loss: 0.6385 - accuracy: 0.6792 - val_loss: 0.6313 - val_accuracy: 0.6750\n",
      "\n",
      "Epoch 00076: val_loss did not improve from 0.62825\n",
      "Epoch 77/100\n",
      "36/36 [==============================] - 1s 30ms/step - loss: 0.6317 - accuracy: 0.6855 - val_loss: 0.6322 - val_accuracy: 0.6830\n",
      "\n",
      "Epoch 00077: val_loss did not improve from 0.62825\n",
      "Epoch 78/100\n",
      "36/36 [==============================] - 1s 28ms/step - loss: 0.6403 - accuracy: 0.6757 - val_loss: 0.6321 - val_accuracy: 0.6880\n",
      "\n",
      "Epoch 00078: val_loss did not improve from 0.62825\n",
      "Epoch 79/100\n",
      "36/36 [==============================] - 1s 27ms/step - loss: 0.6422 - accuracy: 0.6723 - val_loss: 0.6659 - val_accuracy: 0.6480\n",
      "\n",
      "Epoch 00079: val_loss did not improve from 0.62825\n",
      "Epoch 80/100\n",
      "36/36 [==============================] - 1s 28ms/step - loss: 0.6496 - accuracy: 0.6616 - val_loss: 0.6316 - val_accuracy: 0.6750\n",
      "\n",
      "Epoch 00080: val_loss did not improve from 0.62825\n",
      "Epoch 81/100\n",
      "36/36 [==============================] - 1s 26ms/step - loss: 0.6328 - accuracy: 0.6749 - val_loss: 0.6376 - val_accuracy: 0.6670\n",
      "\n",
      "Epoch 00081: val_loss did not improve from 0.62825\n",
      "Epoch 82/100\n",
      "36/36 [==============================] - 1s 26ms/step - loss: 0.6350 - accuracy: 0.6857 - val_loss: 0.6235 - val_accuracy: 0.6780\n",
      "\n",
      "Epoch 00082: val_loss improved from 0.62825 to 0.62354, saving model to checkpoints/fast_text_model.hdf5\n",
      "Epoch 83/100\n",
      "36/36 [==============================] - 1s 26ms/step - loss: 0.6288 - accuracy: 0.6833 - val_loss: 0.6239 - val_accuracy: 0.6790\n",
      "\n",
      "Epoch 00083: val_loss did not improve from 0.62354\n",
      "Epoch 84/100\n",
      "36/36 [==============================] - 1s 26ms/step - loss: 0.6287 - accuracy: 0.6918 - val_loss: 0.6379 - val_accuracy: 0.6740\n",
      "\n",
      "Epoch 00084: val_loss did not improve from 0.62354\n",
      "Epoch 85/100\n",
      "36/36 [==============================] - 1s 26ms/step - loss: 0.6307 - accuracy: 0.6813 - val_loss: 0.6718 - val_accuracy: 0.6250\n",
      "\n",
      "Epoch 00085: val_loss did not improve from 0.62354\n",
      "Epoch 86/100\n",
      "36/36 [==============================] - 1s 27ms/step - loss: 0.6547 - accuracy: 0.6597 - val_loss: 0.6581 - val_accuracy: 0.6420\n",
      "\n",
      "Epoch 00086: val_loss did not improve from 0.62354\n",
      "Epoch 87/100\n",
      "36/36 [==============================] - 1s 25ms/step - loss: 0.6386 - accuracy: 0.6681 - val_loss: 0.6259 - val_accuracy: 0.6750\n",
      "\n",
      "Epoch 00087: val_loss did not improve from 0.62354\n",
      "Epoch 88/100\n",
      "36/36 [==============================] - 1s 27ms/step - loss: 0.6210 - accuracy: 0.6983 - val_loss: 0.6388 - val_accuracy: 0.6840\n",
      "\n",
      "Epoch 00088: val_loss did not improve from 0.62354\n",
      "Epoch 89/100\n",
      "36/36 [==============================] - 1s 30ms/step - loss: 0.6281 - accuracy: 0.6909 - val_loss: 0.6226 - val_accuracy: 0.6780\n",
      "\n",
      "Epoch 00089: val_loss improved from 0.62354 to 0.62261, saving model to checkpoints/fast_text_model.hdf5\n",
      "Epoch 90/100\n",
      "36/36 [==============================] - 1s 25ms/step - loss: 0.6214 - accuracy: 0.6940 - val_loss: 0.6241 - val_accuracy: 0.6720\n",
      "\n",
      "Epoch 00090: val_loss did not improve from 0.62261\n",
      "Epoch 91/100\n",
      "36/36 [==============================] - 1s 27ms/step - loss: 0.6216 - accuracy: 0.6937 - val_loss: 0.6355 - val_accuracy: 0.6750\n",
      "\n",
      "Epoch 00091: val_loss did not improve from 0.62261\n",
      "Epoch 92/100\n",
      "36/36 [==============================] - 1s 26ms/step - loss: 0.6333 - accuracy: 0.6801 - val_loss: 0.6224 - val_accuracy: 0.6760\n",
      "\n",
      "Epoch 00092: val_loss improved from 0.62261 to 0.62241, saving model to checkpoints/fast_text_model.hdf5\n",
      "Epoch 93/100\n",
      "36/36 [==============================] - 1s 26ms/step - loss: 0.6224 - accuracy: 0.6845 - val_loss: 0.6777 - val_accuracy: 0.6570\n",
      "\n",
      "Epoch 00093: val_loss did not improve from 0.62241\n",
      "Epoch 94/100\n",
      "36/36 [==============================] - 1s 26ms/step - loss: 0.6353 - accuracy: 0.6874 - val_loss: 0.6297 - val_accuracy: 0.6800\n",
      "\n",
      "Epoch 00094: val_loss did not improve from 0.62241\n",
      "Epoch 95/100\n",
      "36/36 [==============================] - 1s 26ms/step - loss: 0.6342 - accuracy: 0.6813 - val_loss: 0.6451 - val_accuracy: 0.6650\n",
      "\n",
      "Epoch 00095: val_loss did not improve from 0.62241\n",
      "Epoch 96/100\n",
      "36/36 [==============================] - 1s 27ms/step - loss: 0.6372 - accuracy: 0.6768 - val_loss: 0.6249 - val_accuracy: 0.6820\n",
      "\n",
      "Epoch 00096: val_loss did not improve from 0.62241\n",
      "Epoch 97/100\n",
      "36/36 [==============================] - 1s 27ms/step - loss: 0.6216 - accuracy: 0.6916 - val_loss: 0.6268 - val_accuracy: 0.6780\n",
      "\n",
      "Epoch 00097: val_loss did not improve from 0.62241\n",
      "Epoch 98/100\n",
      "36/36 [==============================] - 1s 25ms/step - loss: 0.6231 - accuracy: 0.6928 - val_loss: 0.6240 - val_accuracy: 0.6770\n",
      "\n",
      "Epoch 00098: val_loss did not improve from 0.62241\n",
      "Epoch 99/100\n",
      "36/36 [==============================] - 1s 27ms/step - loss: 0.6341 - accuracy: 0.6795 - val_loss: 0.6316 - val_accuracy: 0.6760\n",
      "\n",
      "Epoch 00099: val_loss did not improve from 0.62241\n",
      "Epoch 100/100\n",
      "36/36 [==============================] - 1s 26ms/step - loss: 0.6220 - accuracy: 0.6915 - val_loss: 0.6205 - val_accuracy: 0.6820\n",
      "\n",
      "Epoch 00100: val_loss improved from 0.62241 to 0.62053, saving model to checkpoints/fast_text_model.hdf5\n"
     ]
    }
   ],
   "source": [
    "filepath = 'checkpoints/fast_text_model.hdf5'\n",
    "checkpoint = tf.keras.callbacks.ModelCheckpoint(filepath=filepath,\n",
    "                                                 monitor='val_loss',\n",
    "                                                save_best_only=True,\n",
    "                                                 verbose=1,\n",
    "                                                mode='min')\n",
    "callbacks = [checkpoint]\n",
    "\n",
    "history = model.fit(x=x_train,\n",
    "                    y=y_train,batch_size=256,\n",
    "                    validation_data=(x_val,y_val),\n",
    "                    epochs=100,\n",
    "                    callbacks=callbacks)"
   ],
   "metadata": {
    "collapsed": false,
    "pycharm": {
     "name": "#%%\n"
    }
   }
  },
  {
   "cell_type": "code",
   "execution_count": 39,
   "outputs": [],
   "source": [
    "def plot_accuracy_loss_chart(history,epoch_count):\n",
    "    \"\"\"\n",
    "    Plots accuracy and losses for each epoch\n",
    "    :param history: history from fitting model\n",
    "    :param epoch_count: amount of epochs to plot\n",
    "    :return: None\n",
    "    \"\"\"\n",
    "    epochs = [i for i in range(epoch_count)]\n",
    "    fig , ax = plt.subplots(1,2)\n",
    "    train_acc = history.history['accuracy']\n",
    "    train_loss = history.history['loss']\n",
    "    val_acc = history.history['val_accuracy']\n",
    "    val_loss = history.history['val_loss']\n",
    "    fig.set_size_inches(20,10)\n",
    "    ax[0].plot(epochs , train_acc , 'go-' , label = 'Training Accuracy')\n",
    "    ax[0].plot(epochs , val_acc , 'ro-' , label = 'Validation Accuracy')\n",
    "    ax[0].set_title('Training & Validation Accuracy')\n",
    "    ax[0].legend()\n",
    "    ax[0].set_xlabel(\"Epochs\")\n",
    "    ax[0].set_ylabel(\"Accuracy\")\n",
    "\n",
    "    ax[1].plot(epochs , train_loss , 'g-o' , label = 'Training Loss')\n",
    "    ax[1].plot(epochs , val_loss , 'r-o' , label = 'Validation Loss')\n",
    "    ax[1].set_title('Training & Validation Loss')\n",
    "    ax[1].legend()\n",
    "    ax[1].set_xlabel(\"Epochs\")\n",
    "    ax[1].set_ylabel(\"Training & Validation Loss\")\n",
    "    plt.show()"
   ],
   "metadata": {
    "collapsed": false,
    "pycharm": {
     "name": "#%%\n"
    }
   }
  },
  {
   "cell_type": "code",
   "execution_count": 45,
   "outputs": [
    {
     "data": {
      "text/plain": "<Figure size 1440x720 with 2 Axes>",
      "image/png": "[encoded data removed]"
     },
     "metadata": {
      "needs_background": "light"
     },
     "output_type": "display_data"
    }
   ],
   "source": [
    "plot_accuracy_loss_chart(history,100)"
   ],
   "metadata": {
    "collapsed": false,
    "pycharm": {
     "name": "#%%\n"
    }
   }
  },
  {
   "cell_type": "code",
   "execution_count": 49,
   "outputs": [
    {
     "name": "stdout",
     "output_type": "stream",
     "text": [
      "              precision    recall  f1-score   support\n",
      "\n",
      "           0       0.71      0.48      0.57      1740\n",
      "           1       0.50      0.74      0.60      1260\n",
      "\n",
      "    accuracy                           0.59      3000\n",
      "   macro avg       0.61      0.61      0.59      3000\n",
      "weighted avg       0.63      0.59      0.58      3000\n",
      "\n"
     ]
    }
   ],
   "source": [
    "from sklearn.metrics import classification_report\n",
    "model = tf.keras.models.load_model('checkpoints/fast_text_model.hdf5')\n",
    "#print(val)\n",
    "pred = model.predict(x_test)\n",
    "pred = np.round(pred)\n",
    "#print(pred)\n",
    "print(classification_report(y_test,pred))\n",
    "\n"
   ],
   "metadata": {
    "collapsed": false,
    "pycharm": {
     "name": "#%%\n"
    }
   }
  },
  {
   "cell_type": "markdown",
   "source": [
    "         precision    recall  f1-score   support\n",
    "\n",
    "           0       0.71      0.48      0.57      1740\n",
    "           1       0.50      0.74      0.60      1260\n",
    "\n",
    "    accuracy                           0.59      3000\n",
    "   macro avg       0.61      0.61      0.59      3000\n",
    "weighted avg       0.63      0.59      0.58      3000\n"
   ],
   "metadata": {
    "collapsed": false
   }
  },
  {
   "cell_type": "code",
   "execution_count": null,
   "outputs": [],
   "source": [
    "#model.save('checkpoints/full_fast_textmodel')"
   ],
   "metadata": {
    "collapsed": false,
    "pycharm": {
     "name": "#%%\n"
    }
   }
  },
  {
   "cell_type": "code",
   "execution_count": null,
   "outputs": [],
   "source": [],
   "metadata": {
    "collapsed": false,
    "pycharm": {
     "name": "#%%\n"
    }
   }
  },
  {
   "cell_type": "markdown",
   "source": [
    "Node2vec"
   ],
   "metadata": {
    "collapsed": false
   }
  },
  {
   "cell_type": "code",
   "execution_count": 50,
   "outputs": [],
   "source": [
    "\n",
    "import requests\n",
    "x_train, y_train = x_y_split(train)\n",
    "\n",
    "api_key_file = open('TagMeApiKey','r')\n",
    "api_key = api_key_file.read()\n",
    "api_key_file.close()\n",
    "json_list = []"
   ],
   "metadata": {
    "collapsed": false,
    "pycharm": {
     "name": "#%%\n"
    }
   }
  },
  {
   "cell_type": "code",
   "execution_count": 51,
   "outputs": [
    {
     "name": "stderr",
     "output_type": "stream",
     "text": [
      "100%|██████████| 9000/9000 [1:38:42<00:00,  1.52it/s]   \n"
     ]
    }
   ],
   "source": [
    "\n",
    "\n",
    "def tag_me_api_call(text,api_key=api_key):\n",
    "    \"\"\"\n",
    "\n",
    "    :param api_key: key to access api\n",
    "    :param text: text to pass\n",
    "    :return: json returned from TagMe\n",
    "    \"\"\"\n",
    "    URL = 'https://tagme.d4science.org/tagme/tag'\n",
    "    PARAMS = {'text' : text, 'lang': 'en', 'gcube-token':api_key,'include_abstract':'true','include_categories':'true'}\n",
    "    json = requests.post(URL,params=PARAMS)\n",
    "    return json.json()\n",
    "\n",
    "#json_list = x_train.apply(tag_me_api_call)\n",
    "#print(json_list)\n",
    "for i in  tqdm(range((len(x_train)))):\n",
    "    if len(x_train[i]) == 0:\n",
    "        json_list.append({})\n",
    "    else:\n",
    "        x = tag_me_api_call(x_train[i])\n",
    "        json_list.append(x)\n"
   ],
   "metadata": {
    "collapsed": false,
    "pycharm": {
     "name": "#%%\n"
    }
   }
  },
  {
   "cell_type": "code",
   "execution_count": null,
   "outputs": [],
   "source": [],
   "metadata": {
    "collapsed": false,
    "pycharm": {
     "name": "#%%\n"
    }
   }
  },
  {
   "cell_type": "code",
   "execution_count": 52,
   "outputs": [],
   "source": [
    "json_list = pd.DataFrame(json_list)\n",
    "json_list.to_csv('data/tag-me-train-spots.csv')"
   ],
   "metadata": {
    "collapsed": false,
    "pycharm": {
     "name": "#%%\n"
    }
   }
  },
  {
   "cell_type": "code",
   "execution_count": 53,
   "outputs": [
    {
     "name": "stderr",
     "output_type": "stream",
     "text": [
      "100%|██████████| 1000/1000 [10:35<00:00,  1.57it/s]\n"
     ]
    }
   ],
   "source": [
    "test = pd.read_csv('data/hateval2019_en_test.csv')\n",
    "val = pd.read_csv('data/hateval2019_en_dev.csv')\n",
    "x_val, y_val = x_y_split(val)\n",
    "x_test, y_test = x_y_split(test)\n",
    "\n",
    "json_list2 = []\n",
    "for i in  tqdm(range((len(x_val)))):\n",
    "    if len(x_val[i]) == 0:\n",
    "        json_list2.append({})\n",
    "    else:\n",
    "        x = tag_me_api_call(x_val[i])\n",
    "        json_list2.append(x)\n",
    "\n",
    "json_list2 = pd.DataFrame(json_list2)\n",
    "json_list2.to_csv('data/tag-me-val-spots.csv')\n"
   ],
   "metadata": {
    "collapsed": false,
    "pycharm": {
     "name": "#%%\n"
    }
   }
  },
  {
   "cell_type": "code",
   "execution_count": 54,
   "outputs": [
    {
     "name": "stderr",
     "output_type": "stream",
     "text": [
      "100%|██████████| 3000/3000 [29:32<00:00,  1.69it/s]  \n"
     ]
    }
   ],
   "source": [
    "json_list3 = []\n",
    "for i in  tqdm(range((len(x_test)))):\n",
    "    if len(x_test[i]) == 0:\n",
    "        json_list3.append({})\n",
    "    else:\n",
    "        x = tag_me_api_call(x_test[i])\n",
    "        json_list3.append(x)"
   ],
   "metadata": {
    "collapsed": false,
    "pycharm": {
     "name": "#%%\n"
    }
   }
  },
  {
   "cell_type": "code",
   "execution_count": 55,
   "outputs": [],
   "source": [
    "test_spots = pd.DataFrame(json_list3)\n",
    "test_spots.to_csv('data/tag-me-test-spots.csv')"
   ],
   "metadata": {
    "collapsed": false,
    "pycharm": {
     "name": "#%%\n"
    }
   }
  },
  {
   "cell_type": "code",
   "execution_count": 93,
   "outputs": [],
   "source": [
    "def dpedia_annotate(text):\n",
    "    \"\"\"\n",
    "    :param text: text to pass\n",
    "    :return: json returned from TagMe\n",
    "    \"\"\"\n",
    "    URL = 'https://api.dbpedia-spotlight.org/en/annotate'\n",
    "    PARAMS = {'text' : text}\n",
    "    HEADERS = {'accept' : 'application/json'}\n",
    "    json = requests.get(URL,params=PARAMS,headers=HEADERS)\n",
    "    return json"
   ],
   "metadata": {
    "collapsed": false,
    "pycharm": {
     "name": "#%%\n"
    }
   }
  },
  {
   "cell_type": "code",
   "execution_count": 94,
   "outputs": [
    {
     "name": "stdout",
     "output_type": "stream",
     "text": [
      "{'@text': 'Several of the wild fires in california and Colorado were intentionally set by IllegalAliens', '@confidence': '0.5', '@support': '0', '@types': '', '@sparql': '', '@policy': 'whitelist', 'Resources': [{'@URI': 'http://dbpedia.org/resource/California', '@support': '194920', '@types': 'Wikidata:Q3455524,Schema:Place,Schema:AdministrativeArea,DBpedia:Region,DBpedia:PopulatedPlace,DBpedia:Place,DBpedia:Location,DBpedia:AdministrativeRegion', '@surfaceForm': 'california', '@offset': '29', '@similarityScore': '0.9843660919243353', '@percentageOfSecondRank': '0.008473960269075612'}, {'@URI': 'http://dbpedia.org/resource/Colorado', '@support': '52524', '@types': 'Wikidata:Q3455524,Schema:Place,Schema:AdministrativeArea,DBpedia:Region,DBpedia:PopulatedPlace,DBpedia:Place,DBpedia:Location,DBpedia:AdministrativeRegion', '@surfaceForm': 'Colorado', '@offset': '44', '@similarityScore': '0.576050749611837', '@percentageOfSecondRank': '0.5081307190956813'}]}\n"
     ]
    }
   ],
   "source": [
    "x = dpedia_annotate(x_test[1])\n",
    "print(x.json())"
   ],
   "metadata": {
    "collapsed": false,
    "pycharm": {
     "name": "#%%\n"
    }
   }
  },
  {
   "cell_type": "code",
   "execution_count": 96,
   "outputs": [],
   "source": [
    "def dpedia_annotate_list(list):\n",
    "    \"\"\"\n",
    "    annotates list\n",
    "    :param list: list to annotate\n",
    "    :return: list of annotations\n",
    "    \"\"\"\n",
    "    annotation_list = []\n",
    "    for i in  tqdm(range((len(list)))):\n",
    "        if len(list[i]) == 0:\n",
    "            annotation_list.append({})\n",
    "        else:\n",
    "            x = dpedia_annotate(list[i])\n",
    "            annotation_list.append(x)\n",
    "    return annotation_list"
   ],
   "metadata": {
    "collapsed": false,
    "pycharm": {
     "name": "#%%\n"
    }
   }
  },
  {
   "cell_type": "code",
   "execution_count": null,
   "outputs": [
    {
     "name": "stderr",
     "output_type": "stream",
     "text": [
      "  2%|▏         | 144/9000 [00:46<47:36,  3.10it/s]"
     ]
    }
   ],
   "source": [
    "train_annotations = dpedia_annotate_list(x_train)\n",
    "train_annotations = pd.DataFrame(train_annotations)\n",
    "train_annotations.to_csv('data/annotations_train')"
   ],
   "metadata": {
    "collapsed": false,
    "pycharm": {
     "name": "#%%\n",
     "is_executing": true
    }
   }
  },
  {
   "cell_type": "code",
   "execution_count": null,
   "outputs": [],
   "source": [
    "val_annotations = dpedia_annotate_list(x_val)\n",
    "val_annotations = pd.DataFrame(val_annotations)\n",
    "val_annotations.to_csv('data/annotations_val')"
   ],
   "metadata": {
    "collapsed": false,
    "pycharm": {
     "name": "#%%\n"
    }
   }
  },
  {
   "cell_type": "code",
   "execution_count": null,
   "outputs": [],
   "source": [
    "test_annotations = dpedia_annotate_list(x_test)\n",
    "test_annotations = pd.DataFrame(test_annotations)\n",
    "test_annotations.to_csv('data/annotations_test')"
   ],
   "metadata": {
    "collapsed": false,
    "pycharm": {
     "name": "#%%\n"
    }
   }
  }
 ],
 "metadata": {
  "kernelspec": {
   "display_name": "Python 3",
   "language": "python",
   "name": "python3"
  },
  "language_info": {
   "codemirror_mode": {
    "name": "ipython",
    "version": 2
   },
   "file_extension": ".py",
   "mimetype": "text/x-python",
   "name": "python",
   "nbconvert_exporter": "python",
   "pygments_lexer": "ipython2",
   "version": "2.7.6"
  }
 },
 "nbformat": 4,
 "nbformat_minor": 0
}