{
 "cells": [
  {
   "cell_type": "code",
   "execution_count": 1,
   "metadata": {
    "collapsed": true
   },
   "outputs": [
    {
     "name": "stderr",
     "output_type": "stream",
     "text": [
      "2022-03-14 22:32:02.385351: I tensorflow/stream_executor/platform/default/dso_loader.cc:49] Successfully opened dynamic library libcudart.so.10.1\n"
     ]
    }
   ],
   "source": [
    "import numpy as np\n",
    "import pandas as pd\n",
    "import seaborn as sns\n",
    "import tensorflow as tf\n",
    "import matplotlib.pyplot as plt\n",
    "#import fasttext\n",
    "import codecs\n",
    "from tqdm import tqdm"
   ]
  },
  {
   "cell_type": "code",
   "execution_count": 2,
   "outputs": [
    {
     "name": "stderr",
     "output_type": "stream",
     "text": [
      "/tmp/ipykernel_13279/157768247.py:5: FutureWarning: In a future version of pandas all arguments of DataFrame.drop except for the argument 'labels' will be keyword-only.\n",
      "  train = train.drop(['TR','AG'],1)\n",
      "/tmp/ipykernel_13279/157768247.py:6: FutureWarning: In a future version of pandas all arguments of DataFrame.drop except for the argument 'labels' will be keyword-only.\n",
      "  test = test.drop(['TR','AG'],1)\n",
      "/tmp/ipykernel_13279/157768247.py:7: FutureWarning: In a future version of pandas all arguments of DataFrame.drop except for the argument 'labels' will be keyword-only.\n",
      "  val = val.drop(['TR','AG'],1)\n"
     ]
    }
   ],
   "source": [
    "train = pd.read_csv('data/hateval2019_en_train.csv')\n",
    "test = pd.read_csv('data/hateval2019_en_test.csv')\n",
    "val = pd.read_csv('data/hateval2019_en_test.csv')\n",
    "\n",
    "train = train.drop(['TR','AG'],1)\n",
    "test = test.drop(['TR','AG'],1)\n",
    "val = val.drop(['TR','AG'],1)"
   ],
   "metadata": {
    "collapsed": false,
    "pycharm": {
     "name": "#%%\n"
    }
   }
  },
  {
   "cell_type": "code",
   "execution_count": 3,
   "outputs": [
    {
     "data": {
      "text/plain": "<AxesSubplot:xlabel='HS', ylabel='count'>"
     },
     "execution_count": 3,
     "metadata": {},
     "output_type": "execute_result"
    },
    {
     "data": {
      "text/plain": "<Figure size 432x288 with 1 Axes>",
      "image/png": "[encoded data removed]"
     },
     "metadata": {
      "needs_background": "light"
     },
     "output_type": "display_data"
    }
   ],
   "source": [
    "sns.countplot(data=train,x='HS')"
   ],
   "metadata": {
    "collapsed": false,
    "pycharm": {
     "name": "#%%\n"
    }
   }
  },
  {
   "cell_type": "markdown",
   "source": [
    "Unbalanced but not massively"
   ],
   "metadata": {
    "collapsed": false,
    "pycharm": {
     "name": "#%% md\n"
    }
   }
  },
  {
   "cell_type": "markdown",
   "source": [
    "Fasttext model. tokenizer->fast text embedding ->LSTM->Linear->linear->sigmoid"
   ],
   "metadata": {
    "collapsed": false
   }
  },
  {
   "cell_type": "code",
   "execution_count": 56,
   "outputs": [],
   "source": [
    "from tensorflow.keras.preprocessing.text import Tokenizer\n",
    "from tensorflow.keras.preprocessing.sequence import pad_sequences\n",
    "from tensorflow.keras.models import Sequential\n",
    "from tensorflow.keras.layers import Dense, LSTM, Dropout, Embedding\n",
    "from tensorflow.keras.optimizers import Adam\n",
    "from tensorflow.keras.losses import BinaryCrossentropy\n",
    "from tensorflow.keras.regularizers import L1,L2, l1_l2\n",
    "import io"
   ],
   "metadata": {
    "collapsed": false,
    "pycharm": {
     "name": "#%%\n"
    }
   }
  },
  {
   "cell_type": "code",
   "execution_count": 5,
   "outputs": [],
   "source": [
    "def x_y_split(data):\n",
    "    \"\"\"splits and X and y from dataframe\n",
    "\n",
    "    Args:\n",
    "        data:dataframe to split from\n",
    "\n",
    "    Returns:\n",
    "        tuple:X data, y data\n",
    "    \"\"\"\n",
    "    X = data['text']\n",
    "    y = data['HS']\n",
    "    return X, y"
   ],
   "metadata": {
    "collapsed": false,
    "pycharm": {
     "name": "#%%\n"
    }
   }
  },
  {
   "cell_type": "code",
   "execution_count": 6,
   "outputs": [],
   "source": [
    "#Split x and ys\n",
    "x_train, y_train = x_y_split(train)"
   ],
   "metadata": {
    "collapsed": false,
    "pycharm": {
     "name": "#%%\n"
    }
   }
  },
  {
   "cell_type": "code",
   "execution_count": 7,
   "outputs": [],
   "source": [
    "max_features = 5000\n",
    "tokenizer = Tokenizer(num_words=max_features, split=' ', lower=True)\n",
    "tokenizer.fit_on_texts(x_train)\n",
    "def tokenize_and_pad(x_data,tokenizer=tokenizer,length=57):\n",
    "    \"\"\"\n",
    "    Tokenizes and pads input\n",
    "    :param x_data: X column of data\n",
    "    :param tokenizer: fitted tokenizer\n",
    "    :param length: length to pad\n",
    "    :return: tokenized and padded x_data\n",
    "    \"\"\"\n",
    "    x_data = tokenizer.texts_to_sequences(x_data)\n",
    "    x_data = pad_sequences(x_data,maxlen=length)\n",
    "    return x_data\n",
    "x_train = tokenize_and_pad(x_train,tokenizer)\n",
    "def split_and_tokenize(data,tokenizer=tokenizer):\n",
    "    \"\"\"\n",
    "    Splits tokenizes and pads data\n",
    "    :param data:\n",
    "    :return: tupple of (X,y)\n",
    "    \"\"\"\n",
    "    X, y = x_y_split(data)\n",
    "    X = tokenize_and_pad(X)\n",
    "    return X, y"
   ],
   "metadata": {
    "collapsed": false,
    "pycharm": {
     "name": "#%%\n"
    }
   }
  },
  {
   "cell_type": "code",
   "execution_count": 8,
   "outputs": [],
   "source": [
    "x_val , y_val = split_and_tokenize(val)\n",
    "x_test, y_test = split_and_tokenize(test)"
   ],
   "metadata": {
    "collapsed": false,
    "pycharm": {
     "name": "#%%\n"
    }
   }
  },
  {
   "cell_type": "code",
   "execution_count": 84,
   "outputs": [],
   "source": [
    "embed_dim = 300\n",
    "lstm_out = 392\n",
    "input_length=x_train.shape[1]"
   ],
   "metadata": {
    "collapsed": false,
    "pycharm": {
     "name": "#%%\n"
    }
   }
  },
  {
   "cell_type": "code",
   "execution_count": 10,
   "outputs": [
    {
     "name": "stdout",
     "output_type": "stream",
     "text": [
      "loading word embeddings...\n"
     ]
    },
    {
     "name": "stderr",
     "output_type": "stream",
     "text": [
      "999995it [00:41, 23842.43it/s]"
     ]
    },
    {
     "name": "stdout",
     "output_type": "stream",
     "text": [
      "found 999995 word vectors\n"
     ]
    },
    {
     "name": "stderr",
     "output_type": "stream",
     "text": [
      "\n"
     ]
    }
   ],
   "source": [
    "#https://www.kaggle.com/vsmolyakov/keras-cnn-with-fasttext-embeddings\n",
    "#load embeddings\n",
    "print('loading word embeddings...')\n",
    "embeddings_index = {}\n",
    "f = codecs.open('data/wiki-news-300d-1M.vec', encoding='utf-8')\n",
    "for line in tqdm(f):\n",
    "    values = line.rstrip().rsplit(' ')\n",
    "    word = values[0]\n",
    "    coefs = np.asarray(values[1:], dtype='float32')\n",
    "    embeddings_index[word] = coefs\n",
    "f.close()\n",
    "print('found %s word vectors' % len(embeddings_index))\n",
    "\n"
   ],
   "metadata": {
    "collapsed": false,
    "pycharm": {
     "name": "#%%\n"
    }
   }
  },
  {
   "cell_type": "code",
   "execution_count": 11,
   "outputs": [
    {
     "name": "stdout",
     "output_type": "stream",
     "text": [
      "number of null word embeddings: 571\n"
     ]
    }
   ],
   "source": [
    "#embedding matrix\n",
    "nb_words = min(max_features, len(tokenizer.word_index))\n",
    "words_not_found = []\n",
    "embedding_matrix = np.zeros((nb_words,embed_dim))\n",
    "word_index = tokenizer.word_index\n",
    "for word, i in word_index.items():\n",
    "    if i >= nb_words:\n",
    "        continue\n",
    "    embedding_vector = embeddings_index.get(word)\n",
    "    if (embedding_vector is not None) and len(embedding_vector) > 0:\n",
    "        # words not found in embedding index will be all-zeros.\n",
    "        embedding_matrix[i] = embedding_vector\n",
    "    else:\n",
    "        words_not_found.append(word)\n",
    "print('number of null word embeddings: %d' % np.sum(np.sum(embedding_matrix, axis=1) == 0))"
   ],
   "metadata": {
    "collapsed": false,
    "pycharm": {
     "name": "#%%\n"
    }
   }
  },
  {
   "cell_type": "code",
   "execution_count": 12,
   "outputs": [
    {
     "name": "stdout",
     "output_type": "stream",
     "text": [
      "sample words not found:  ['cdnpoli' 'repwilson' 'chengonsol' 'stoptheinvasion' 'refugeesnotwelcome'\n",
      " 'breitbartnews' 'uscis' 'liberalismisamentaldisorder' 'matthewsoerens'\n",
      " 'fridaymotivation']\n"
     ]
    }
   ],
   "source": [
    "print(\"sample words not found: \", np.random.choice(words_not_found, 10))"
   ],
   "metadata": {
    "collapsed": false,
    "pycharm": {
     "name": "#%%\n"
    }
   }
  },
  {
   "cell_type": "markdown",
   "source": [],
   "metadata": {
    "collapsed": false
   }
  },
  {
   "cell_type": "code",
   "execution_count": 85,
   "outputs": [],
   "source": [
    "REG_STRENGTH_l1 = 0\n",
    "REG_STRENGTH_l2 = 0.05\n",
    "model = Sequential()\n",
    "model.add(Embedding(max_features,embed_dim,input_length=input_length, weights=[embedding_matrix],trainable=False))\n",
    "model.add(LSTM(lstm_out,dropout=0.5, kernel_regularizer=L2(REG_STRENGTH_l2)))\n",
    "model.add(Dense(256,activation='relu', kernel_regularizer=L2(REG_STRENGTH_l2)))\n",
    "model.add(Dropout(.65))\n",
    "model.add(Dense(256,activation='relu', kernel_regularizer=L2(REG_STRENGTH_l2)))\n",
    "model.add(Dropout(.65))\n",
    "model.add(Dense(1,activation='sigmoid'))\n",
    "model.compile(loss=BinaryCrossentropy(),optimizer=Adam(learning_rate=0.0001),metrics=['accuracy'])\n",
    "#print(model.summary())"
   ],
   "metadata": {
    "collapsed": false,
    "pycharm": {
     "name": "#%%\n"
    }
   }
  },
  {
   "cell_type": "code",
   "execution_count": 86,
   "outputs": [
    {
     "name": "stdout",
     "output_type": "stream",
     "text": [
      "Epoch 1/100\n",
      "36/36 [==============================] - 2s 34ms/step - loss: 52.3000 - accuracy: 0.5635 - val_loss: 46.8529 - val_accuracy: 0.5800\n",
      "\n",
      "Epoch 00001: val_loss improved from inf to 46.85291, saving model to checkpoints/test.hdf5\n",
      "Epoch 2/100\n",
      "36/36 [==============================] - 1s 28ms/step - loss: 45.1954 - accuracy: 0.5782 - val_loss: 40.4975 - val_accuracy: 0.5800\n",
      "\n",
      "Epoch 00002: val_loss improved from 46.85291 to 40.49754, saving model to checkpoints/test.hdf5\n",
      "Epoch 3/100\n",
      "36/36 [==============================] - 1s 28ms/step - loss: 39.0667 - accuracy: 0.5802 - val_loss: 35.0295 - val_accuracy: 0.5800\n",
      "\n",
      "Epoch 00003: val_loss improved from 40.49754 to 35.02955, saving model to checkpoints/test.hdf5\n",
      "Epoch 4/100\n",
      "36/36 [==============================] - 1s 31ms/step - loss: 33.7886 - accuracy: 0.5751 - val_loss: 30.3224 - val_accuracy: 0.5803\n",
      "\n",
      "Epoch 00004: val_loss improved from 35.02955 to 30.32239, saving model to checkpoints/test.hdf5\n",
      "Epoch 5/100\n",
      "36/36 [==============================] - 1s 29ms/step - loss: 29.2394 - accuracy: 0.5876 - val_loss: 26.2554 - val_accuracy: 0.5767\n",
      "\n",
      "Epoch 00005: val_loss improved from 30.32239 to 26.25540, saving model to checkpoints/test.hdf5\n",
      "Epoch 6/100\n",
      "36/36 [==============================] - 1s 27ms/step - loss: 25.3140 - accuracy: 0.5938 - val_loss: 22.7557 - val_accuracy: 0.5737\n",
      "\n",
      "Epoch 00006: val_loss improved from 26.25540 to 22.75573, saving model to checkpoints/test.hdf5\n",
      "Epoch 7/100\n",
      "36/36 [==============================] - 1s 27ms/step - loss: 21.9369 - accuracy: 0.5884 - val_loss: 19.7266 - val_accuracy: 0.5833\n",
      "\n",
      "Epoch 00007: val_loss improved from 22.75573 to 19.72662, saving model to checkpoints/test.hdf5\n",
      "Epoch 8/100\n",
      "36/36 [==============================] - 1s 27ms/step - loss: 19.0144 - accuracy: 0.6035 - val_loss: 17.1146 - val_accuracy: 0.5917\n",
      "\n",
      "Epoch 00008: val_loss improved from 19.72662 to 17.11462, saving model to checkpoints/test.hdf5\n",
      "Epoch 9/100\n",
      "36/36 [==============================] - 1s 31ms/step - loss: 16.4905 - accuracy: 0.6160 - val_loss: 14.8624 - val_accuracy: 0.6047\n",
      "\n",
      "Epoch 00009: val_loss improved from 17.11462 to 14.86245, saving model to checkpoints/test.hdf5\n",
      "Epoch 10/100\n",
      "36/36 [==============================] - 1s 31ms/step - loss: 14.3200 - accuracy: 0.6389 - val_loss: 12.9344 - val_accuracy: 0.5967\n",
      "\n",
      "Epoch 00010: val_loss improved from 14.86245 to 12.93443, saving model to checkpoints/test.hdf5\n",
      "Epoch 11/100\n",
      "36/36 [==============================] - 1s 29ms/step - loss: 12.4592 - accuracy: 0.6157 - val_loss: 11.2528 - val_accuracy: 0.5987\n",
      "\n",
      "Epoch 00011: val_loss improved from 12.93443 to 11.25277, saving model to checkpoints/test.hdf5\n",
      "Epoch 12/100\n",
      "36/36 [==============================] - 1s 28ms/step - loss: 10.8336 - accuracy: 0.6487 - val_loss: 9.8089 - val_accuracy: 0.5850\n",
      "\n",
      "Epoch 00012: val_loss improved from 11.25277 to 9.80889, saving model to checkpoints/test.hdf5\n",
      "Epoch 13/100\n",
      "36/36 [==============================] - 1s 28ms/step - loss: 9.4368 - accuracy: 0.6642 - val_loss: 8.5641 - val_accuracy: 0.5970\n",
      "\n",
      "Epoch 00013: val_loss improved from 9.80889 to 8.56407, saving model to checkpoints/test.hdf5\n",
      "Epoch 14/100\n",
      "36/36 [==============================] - 1s 30ms/step - loss: 8.2322 - accuracy: 0.6622 - val_loss: 7.4710 - val_accuracy: 0.6190\n",
      "\n",
      "Epoch 00014: val_loss improved from 8.56407 to 7.47102, saving model to checkpoints/test.hdf5\n",
      "Epoch 15/100\n",
      "36/36 [==============================] - 1s 27ms/step - loss: 7.1884 - accuracy: 0.6739 - val_loss: 6.5403 - val_accuracy: 0.6283\n",
      "\n",
      "Epoch 00015: val_loss improved from 7.47102 to 6.54031, saving model to checkpoints/test.hdf5\n",
      "Epoch 16/100\n",
      "36/36 [==============================] - 1s 29ms/step - loss: 6.2885 - accuracy: 0.6761 - val_loss: 5.7408 - val_accuracy: 0.6183\n",
      "\n",
      "Epoch 00016: val_loss improved from 6.54031 to 5.74080, saving model to checkpoints/test.hdf5\n",
      "Epoch 17/100\n",
      "36/36 [==============================] - 1s 29ms/step - loss: 5.5328 - accuracy: 0.6802 - val_loss: 5.0889 - val_accuracy: 0.5267\n",
      "\n",
      "Epoch 00017: val_loss improved from 5.74080 to 5.08890, saving model to checkpoints/test.hdf5\n",
      "Epoch 18/100\n",
      "36/36 [==============================] - 1s 27ms/step - loss: 4.8681 - accuracy: 0.6656 - val_loss: 4.4694 - val_accuracy: 0.5920\n",
      "\n",
      "Epoch 00018: val_loss improved from 5.08890 to 4.46941, saving model to checkpoints/test.hdf5\n",
      "Epoch 19/100\n",
      "36/36 [==============================] - 1s 27ms/step - loss: 4.2683 - accuracy: 0.6850 - val_loss: 3.9333 - val_accuracy: 0.6267\n",
      "\n",
      "Epoch 00019: val_loss improved from 4.46941 to 3.93330, saving model to checkpoints/test.hdf5\n",
      "Epoch 20/100\n",
      "36/36 [==============================] - 1s 28ms/step - loss: 3.7737 - accuracy: 0.6823 - val_loss: 3.5000 - val_accuracy: 0.5997\n",
      "\n",
      "Epoch 00020: val_loss improved from 3.93330 to 3.50003, saving model to checkpoints/test.hdf5\n",
      "Epoch 21/100\n",
      "36/36 [==============================] - 1s 27ms/step - loss: 3.3307 - accuracy: 0.6862 - val_loss: 3.1085 - val_accuracy: 0.5993\n",
      "\n",
      "Epoch 00021: val_loss improved from 3.50003 to 3.10854, saving model to checkpoints/test.hdf5\n",
      "Epoch 22/100\n",
      "36/36 [==============================] - 1s 27ms/step - loss: 2.9572 - accuracy: 0.6850 - val_loss: 2.7712 - val_accuracy: 0.6127\n",
      "\n",
      "Epoch 00022: val_loss improved from 3.10854 to 2.77119, saving model to checkpoints/test.hdf5\n",
      "Epoch 23/100\n",
      "36/36 [==============================] - 1s 28ms/step - loss: 2.6361 - accuracy: 0.6944 - val_loss: 2.4821 - val_accuracy: 0.6060\n",
      "\n",
      "Epoch 00023: val_loss improved from 2.77119 to 2.48210, saving model to checkpoints/test.hdf5\n",
      "Epoch 24/100\n",
      "36/36 [==============================] - 1s 28ms/step - loss: 2.3454 - accuracy: 0.6896 - val_loss: 2.2193 - val_accuracy: 0.6267\n",
      "\n",
      "Epoch 00024: val_loss improved from 2.48210 to 2.21933, saving model to checkpoints/test.hdf5\n",
      "Epoch 25/100\n",
      "36/36 [==============================] - 1s 27ms/step - loss: 2.1182 - accuracy: 0.6796 - val_loss: 2.0041 - val_accuracy: 0.6263\n",
      "\n",
      "Epoch 00025: val_loss improved from 2.21933 to 2.00406, saving model to checkpoints/test.hdf5\n",
      "Epoch 26/100\n",
      "36/36 [==============================] - 1s 27ms/step - loss: 1.9188 - accuracy: 0.6851 - val_loss: 1.8201 - val_accuracy: 0.6293\n",
      "\n",
      "Epoch 00026: val_loss improved from 2.00406 to 1.82009, saving model to checkpoints/test.hdf5\n",
      "Epoch 27/100\n",
      "36/36 [==============================] - 1s 27ms/step - loss: 1.7227 - accuracy: 0.6951 - val_loss: 1.6996 - val_accuracy: 0.5297\n",
      "\n",
      "Epoch 00027: val_loss improved from 1.82009 to 1.69958, saving model to checkpoints/test.hdf5\n",
      "Epoch 28/100\n",
      "36/36 [==============================] - 1s 28ms/step - loss: 1.5572 - accuracy: 0.7069 - val_loss: 1.5183 - val_accuracy: 0.6213\n",
      "\n",
      "Epoch 00028: val_loss improved from 1.69958 to 1.51826, saving model to checkpoints/test.hdf5\n",
      "Epoch 29/100\n",
      "36/36 [==============================] - 1s 27ms/step - loss: 1.4217 - accuracy: 0.6927 - val_loss: 1.4051 - val_accuracy: 0.6093\n",
      "\n",
      "Epoch 00029: val_loss improved from 1.51826 to 1.40513, saving model to checkpoints/test.hdf5\n",
      "Epoch 30/100\n",
      "36/36 [==============================] - 1s 28ms/step - loss: 1.2981 - accuracy: 0.7159 - val_loss: 1.3431 - val_accuracy: 0.4980\n",
      "\n",
      "Epoch 00030: val_loss improved from 1.40513 to 1.34310, saving model to checkpoints/test.hdf5\n",
      "Epoch 31/100\n",
      "36/36 [==============================] - 1s 28ms/step - loss: 1.2066 - accuracy: 0.6996 - val_loss: 1.2227 - val_accuracy: 0.5883\n",
      "\n",
      "Epoch 00031: val_loss improved from 1.34310 to 1.22267, saving model to checkpoints/test.hdf5\n",
      "Epoch 32/100\n",
      "36/36 [==============================] - 1s 27ms/step - loss: 1.1068 - accuracy: 0.7051 - val_loss: 1.1368 - val_accuracy: 0.5877\n",
      "\n",
      "Epoch 00032: val_loss improved from 1.22267 to 1.13680, saving model to checkpoints/test.hdf5\n",
      "Epoch 33/100\n",
      "36/36 [==============================] - 1s 28ms/step - loss: 1.0220 - accuracy: 0.7166 - val_loss: 1.0603 - val_accuracy: 0.6117\n",
      "\n",
      "Epoch 00033: val_loss improved from 1.13680 to 1.06032, saving model to checkpoints/test.hdf5\n",
      "Epoch 34/100\n",
      "36/36 [==============================] - 1s 27ms/step - loss: 0.9752 - accuracy: 0.7000 - val_loss: 1.0416 - val_accuracy: 0.5247\n",
      "\n",
      "Epoch 00034: val_loss improved from 1.06032 to 1.04158, saving model to checkpoints/test.hdf5\n",
      "Epoch 35/100\n",
      "36/36 [==============================] - 1s 27ms/step - loss: 0.9089 - accuracy: 0.7118 - val_loss: 0.9903 - val_accuracy: 0.5373\n",
      "\n",
      "Epoch 00035: val_loss improved from 1.04158 to 0.99028, saving model to checkpoints/test.hdf5\n",
      "Epoch 36/100\n",
      "36/36 [==============================] - 1s 28ms/step - loss: 0.8638 - accuracy: 0.7098 - val_loss: 0.9500 - val_accuracy: 0.5347\n",
      "\n",
      "Epoch 00036: val_loss improved from 0.99028 to 0.95003, saving model to checkpoints/test.hdf5\n",
      "Epoch 37/100\n",
      "36/36 [==============================] - 1s 28ms/step - loss: 0.8229 - accuracy: 0.7056 - val_loss: 0.9068 - val_accuracy: 0.5537\n",
      "\n",
      "Epoch 00037: val_loss improved from 0.95003 to 0.90680, saving model to checkpoints/test.hdf5\n",
      "Epoch 38/100\n",
      "36/36 [==============================] - 1s 28ms/step - loss: 0.7810 - accuracy: 0.7084 - val_loss: 0.8388 - val_accuracy: 0.6190\n",
      "\n",
      "Epoch 00038: val_loss improved from 0.90680 to 0.83884, saving model to checkpoints/test.hdf5\n",
      "Epoch 39/100\n",
      "36/36 [==============================] - 1s 28ms/step - loss: 0.7545 - accuracy: 0.7103 - val_loss: 0.8280 - val_accuracy: 0.6023\n",
      "\n",
      "Epoch 00039: val_loss improved from 0.83884 to 0.82798, saving model to checkpoints/test.hdf5\n",
      "Epoch 40/100\n",
      "36/36 [==============================] - 1s 28ms/step - loss: 0.7187 - accuracy: 0.7187 - val_loss: 0.8151 - val_accuracy: 0.5827\n",
      "\n",
      "Epoch 00040: val_loss improved from 0.82798 to 0.81511, saving model to checkpoints/test.hdf5\n",
      "Epoch 41/100\n",
      "36/36 [==============================] - 1s 28ms/step - loss: 0.7034 - accuracy: 0.7139 - val_loss: 0.8225 - val_accuracy: 0.5400\n",
      "\n",
      "Epoch 00041: val_loss did not improve from 0.81511\n",
      "Epoch 42/100\n",
      "36/36 [==============================] - 1s 28ms/step - loss: 0.6837 - accuracy: 0.7178 - val_loss: 0.7658 - val_accuracy: 0.6113\n",
      "\n",
      "Epoch 00042: val_loss improved from 0.81511 to 0.76580, saving model to checkpoints/test.hdf5\n",
      "Epoch 43/100\n",
      "36/36 [==============================] - 1s 28ms/step - loss: 0.6728 - accuracy: 0.7148 - val_loss: 0.7853 - val_accuracy: 0.5543\n",
      "\n",
      "Epoch 00043: val_loss did not improve from 0.76580\n",
      "Epoch 44/100\n",
      "36/36 [==============================] - 1s 28ms/step - loss: 0.6545 - accuracy: 0.7171 - val_loss: 0.7645 - val_accuracy: 0.5767\n",
      "\n",
      "Epoch 00044: val_loss improved from 0.76580 to 0.76445, saving model to checkpoints/test.hdf5\n",
      "Epoch 45/100\n",
      "36/36 [==============================] - 1s 28ms/step - loss: 0.6443 - accuracy: 0.7203 - val_loss: 0.8361 - val_accuracy: 0.4347\n",
      "\n",
      "Epoch 00045: val_loss did not improve from 0.76445\n",
      "Epoch 46/100\n",
      "36/36 [==============================] - 1s 28ms/step - loss: 0.6490 - accuracy: 0.7156 - val_loss: 0.7854 - val_accuracy: 0.5097\n",
      "\n",
      "Epoch 00046: val_loss did not improve from 0.76445\n",
      "Epoch 47/100\n",
      "36/36 [==============================] - 1s 28ms/step - loss: 0.6289 - accuracy: 0.7146 - val_loss: 0.7965 - val_accuracy: 0.4813\n",
      "\n",
      "Epoch 00047: val_loss did not improve from 0.76445\n",
      "Epoch 48/100\n",
      "36/36 [==============================] - 1s 28ms/step - loss: 0.6264 - accuracy: 0.7124 - val_loss: 0.7415 - val_accuracy: 0.5677\n",
      "\n",
      "Epoch 00048: val_loss improved from 0.76445 to 0.74149, saving model to checkpoints/test.hdf5\n",
      "Epoch 49/100\n",
      "36/36 [==============================] - 1s 28ms/step - loss: 0.6242 - accuracy: 0.7167 - val_loss: 0.7269 - val_accuracy: 0.5840\n",
      "\n",
      "Epoch 00049: val_loss improved from 0.74149 to 0.72690, saving model to checkpoints/test.hdf5\n",
      "Epoch 50/100\n",
      "36/36 [==============================] - 1s 28ms/step - loss: 0.6124 - accuracy: 0.7225 - val_loss: 0.7740 - val_accuracy: 0.4923\n",
      "\n",
      "Epoch 00050: val_loss did not improve from 0.72690\n",
      "Epoch 51/100\n",
      "36/36 [==============================] - 1s 28ms/step - loss: 0.6242 - accuracy: 0.7128 - val_loss: 0.6942 - val_accuracy: 0.6313\n",
      "\n",
      "Epoch 00051: val_loss improved from 0.72690 to 0.69420, saving model to checkpoints/test.hdf5\n",
      "Epoch 52/100\n",
      "36/36 [==============================] - 1s 28ms/step - loss: 0.6070 - accuracy: 0.7218 - val_loss: 0.7074 - val_accuracy: 0.6000\n",
      "\n",
      "Epoch 00052: val_loss did not improve from 0.69420\n",
      "Epoch 53/100\n",
      "36/36 [==============================] - 1s 28ms/step - loss: 0.6068 - accuracy: 0.7127 - val_loss: 0.7555 - val_accuracy: 0.5243\n",
      "\n",
      "Epoch 00053: val_loss did not improve from 0.69420\n",
      "Epoch 54/100\n",
      "36/36 [==============================] - 1s 28ms/step - loss: 0.6027 - accuracy: 0.7194 - val_loss: 0.7228 - val_accuracy: 0.5807\n",
      "\n",
      "Epoch 00054: val_loss did not improve from 0.69420\n",
      "Epoch 55/100\n",
      "36/36 [==============================] - 1s 28ms/step - loss: 0.6056 - accuracy: 0.7213 - val_loss: 0.7126 - val_accuracy: 0.5937\n",
      "\n",
      "Epoch 00055: val_loss did not improve from 0.69420\n",
      "Epoch 56/100\n",
      "36/36 [==============================] - 1s 28ms/step - loss: 0.6058 - accuracy: 0.7127 - val_loss: 0.7179 - val_accuracy: 0.5850\n",
      "\n",
      "Epoch 00056: val_loss did not improve from 0.69420\n",
      "Epoch 57/100\n",
      "36/36 [==============================] - 1s 28ms/step - loss: 0.6031 - accuracy: 0.7177 - val_loss: 0.7447 - val_accuracy: 0.5400\n",
      "\n",
      "Epoch 00057: val_loss did not improve from 0.69420\n",
      "Epoch 58/100\n",
      "36/36 [==============================] - 1s 28ms/step - loss: 0.5849 - accuracy: 0.7338 - val_loss: 0.7193 - val_accuracy: 0.5747\n",
      "\n",
      "Epoch 00058: val_loss did not improve from 0.69420\n",
      "Epoch 59/100\n",
      "36/36 [==============================] - 1s 28ms/step - loss: 0.5910 - accuracy: 0.7249 - val_loss: 0.7657 - val_accuracy: 0.4917\n",
      "\n",
      "Epoch 00059: val_loss did not improve from 0.69420\n",
      "Epoch 60/100\n",
      "36/36 [==============================] - 1s 28ms/step - loss: 0.6039 - accuracy: 0.7101 - val_loss: 0.7323 - val_accuracy: 0.5583\n",
      "\n",
      "Epoch 00060: val_loss did not improve from 0.69420\n",
      "Epoch 61/100\n",
      "36/36 [==============================] - 1s 28ms/step - loss: 0.5854 - accuracy: 0.7298 - val_loss: 0.7688 - val_accuracy: 0.4827\n",
      "\n",
      "Epoch 00061: val_loss did not improve from 0.69420\n",
      "Epoch 62/100\n",
      "36/36 [==============================] - 1s 28ms/step - loss: 0.5919 - accuracy: 0.7172 - val_loss: 0.7591 - val_accuracy: 0.5213\n",
      "\n",
      "Epoch 00062: val_loss did not improve from 0.69420\n",
      "Epoch 63/100\n",
      "36/36 [==============================] - 1s 28ms/step - loss: 0.5752 - accuracy: 0.7357 - val_loss: 0.7196 - val_accuracy: 0.5803\n",
      "\n",
      "Epoch 00063: val_loss did not improve from 0.69420\n",
      "Epoch 64/100\n",
      "36/36 [==============================] - 1s 28ms/step - loss: 0.5863 - accuracy: 0.7286 - val_loss: 0.7415 - val_accuracy: 0.5447\n",
      "\n",
      "Epoch 00064: val_loss did not improve from 0.69420\n",
      "Epoch 65/100\n",
      "36/36 [==============================] - 1s 28ms/step - loss: 0.5911 - accuracy: 0.7226 - val_loss: 0.7585 - val_accuracy: 0.5110\n",
      "\n",
      "Epoch 00065: val_loss did not improve from 0.69420\n",
      "Epoch 66/100\n",
      "36/36 [==============================] - 1s 28ms/step - loss: 0.5873 - accuracy: 0.7262 - val_loss: 0.7830 - val_accuracy: 0.4767\n",
      "\n",
      "Epoch 00066: val_loss did not improve from 0.69420\n",
      "Epoch 67/100\n",
      "36/36 [==============================] - 1s 28ms/step - loss: 0.5922 - accuracy: 0.7232 - val_loss: 0.7235 - val_accuracy: 0.5793\n",
      "\n",
      "Epoch 00067: val_loss did not improve from 0.69420\n",
      "Epoch 68/100\n",
      "36/36 [==============================] - 1s 28ms/step - loss: 0.5846 - accuracy: 0.7205 - val_loss: 0.7153 - val_accuracy: 0.5783\n",
      "\n",
      "Epoch 00068: val_loss did not improve from 0.69420\n",
      "Epoch 69/100\n",
      "36/36 [==============================] - 1s 28ms/step - loss: 0.5810 - accuracy: 0.7229 - val_loss: 0.6956 - val_accuracy: 0.6073\n",
      "\n",
      "Epoch 00069: val_loss did not improve from 0.69420\n",
      "Epoch 70/100\n",
      "36/36 [==============================] - 1s 28ms/step - loss: 0.5944 - accuracy: 0.7222 - val_loss: 0.7285 - val_accuracy: 0.5707\n",
      "\n",
      "Epoch 00070: val_loss did not improve from 0.69420\n",
      "Epoch 71/100\n",
      "36/36 [==============================] - 1s 28ms/step - loss: 0.5813 - accuracy: 0.7311 - val_loss: 0.7777 - val_accuracy: 0.4927\n",
      "\n",
      "Epoch 00071: val_loss did not improve from 0.69420\n",
      "Epoch 72/100\n",
      "36/36 [==============================] - 1s 28ms/step - loss: 0.5948 - accuracy: 0.7078 - val_loss: 0.7890 - val_accuracy: 0.4800\n",
      "\n",
      "Epoch 00072: val_loss did not improve from 0.69420\n",
      "Epoch 73/100\n",
      "36/36 [==============================] - 1s 28ms/step - loss: 0.5780 - accuracy: 0.7312 - val_loss: 0.7516 - val_accuracy: 0.5367\n",
      "\n",
      "Epoch 00073: val_loss did not improve from 0.69420\n",
      "Epoch 74/100\n",
      "36/36 [==============================] - 1s 28ms/step - loss: 0.5857 - accuracy: 0.7228 - val_loss: 0.7759 - val_accuracy: 0.4900\n",
      "\n",
      "Epoch 00074: val_loss did not improve from 0.69420\n",
      "Epoch 75/100\n",
      "36/36 [==============================] - 1s 28ms/step - loss: 0.5882 - accuracy: 0.7221 - val_loss: 0.7662 - val_accuracy: 0.5000\n",
      "\n",
      "Epoch 00075: val_loss did not improve from 0.69420\n",
      "Epoch 76/100\n",
      "36/36 [==============================] - 1s 28ms/step - loss: 0.5790 - accuracy: 0.7391 - val_loss: 0.7624 - val_accuracy: 0.5260\n",
      "\n",
      "Epoch 00076: val_loss did not improve from 0.69420\n",
      "Epoch 77/100\n",
      "36/36 [==============================] - 1s 28ms/step - loss: 0.5746 - accuracy: 0.7354 - val_loss: 0.7140 - val_accuracy: 0.5850\n",
      "\n",
      "Epoch 00077: val_loss did not improve from 0.69420\n",
      "Epoch 78/100\n",
      "36/36 [==============================] - 1s 28ms/step - loss: 0.5757 - accuracy: 0.7349 - val_loss: 0.6741 - val_accuracy: 0.6447\n",
      "\n",
      "Epoch 00078: val_loss improved from 0.69420 to 0.67406, saving model to checkpoints/test.hdf5\n",
      "Epoch 79/100\n",
      "36/36 [==============================] - 1s 28ms/step - loss: 0.5881 - accuracy: 0.7183 - val_loss: 0.8027 - val_accuracy: 0.4740\n",
      "\n",
      "Epoch 00079: val_loss did not improve from 0.67406\n",
      "Epoch 80/100\n",
      "36/36 [==============================] - 1s 28ms/step - loss: 0.5913 - accuracy: 0.7182 - val_loss: 0.7217 - val_accuracy: 0.5700\n",
      "\n",
      "Epoch 00080: val_loss did not improve from 0.67406\n",
      "Epoch 81/100\n",
      "36/36 [==============================] - 1s 28ms/step - loss: 0.5858 - accuracy: 0.7311 - val_loss: 0.6979 - val_accuracy: 0.6053\n",
      "\n",
      "Epoch 00081: val_loss did not improve from 0.67406\n",
      "Epoch 82/100\n",
      "36/36 [==============================] - 1s 28ms/step - loss: 0.5846 - accuracy: 0.7279 - val_loss: 0.7505 - val_accuracy: 0.5457\n",
      "\n",
      "Epoch 00082: val_loss did not improve from 0.67406\n",
      "Epoch 83/100\n",
      "36/36 [==============================] - 1s 28ms/step - loss: 0.5846 - accuracy: 0.7270 - val_loss: 0.6796 - val_accuracy: 0.6347\n",
      "\n",
      "Epoch 00083: val_loss did not improve from 0.67406\n",
      "Epoch 84/100\n",
      "36/36 [==============================] - 1s 28ms/step - loss: 0.5974 - accuracy: 0.7187 - val_loss: 0.7228 - val_accuracy: 0.5763\n",
      "\n",
      "Epoch 00084: val_loss did not improve from 0.67406\n",
      "Epoch 85/100\n",
      "36/36 [==============================] - 1s 28ms/step - loss: 0.5806 - accuracy: 0.7296 - val_loss: 0.7465 - val_accuracy: 0.5497\n",
      "\n",
      "Epoch 00085: val_loss did not improve from 0.67406\n",
      "Epoch 86/100\n",
      "36/36 [==============================] - 1s 28ms/step - loss: 0.5749 - accuracy: 0.7352 - val_loss: 0.7295 - val_accuracy: 0.5610\n",
      "\n",
      "Epoch 00086: val_loss did not improve from 0.67406\n",
      "Epoch 87/100\n",
      "36/36 [==============================] - 1s 28ms/step - loss: 0.5776 - accuracy: 0.7336 - val_loss: 0.7916 - val_accuracy: 0.4730\n",
      "\n",
      "Epoch 00087: val_loss did not improve from 0.67406\n",
      "Epoch 88/100\n",
      "36/36 [==============================] - 1s 27ms/step - loss: 0.5871 - accuracy: 0.7239 - val_loss: 0.7574 - val_accuracy: 0.5197\n",
      "\n",
      "Epoch 00088: val_loss did not improve from 0.67406\n",
      "Epoch 89/100\n",
      "36/36 [==============================] - 1s 28ms/step - loss: 0.5785 - accuracy: 0.7331 - val_loss: 0.7262 - val_accuracy: 0.5737\n",
      "\n",
      "Epoch 00089: val_loss did not improve from 0.67406\n",
      "Epoch 90/100\n",
      "36/36 [==============================] - 1s 28ms/step - loss: 0.5737 - accuracy: 0.7320 - val_loss: 0.7243 - val_accuracy: 0.5773\n",
      "\n",
      "Epoch 00090: val_loss did not improve from 0.67406\n",
      "Epoch 91/100\n",
      "36/36 [==============================] - 1s 28ms/step - loss: 0.5851 - accuracy: 0.7185 - val_loss: 0.7761 - val_accuracy: 0.4933\n",
      "\n",
      "Epoch 00091: val_loss did not improve from 0.67406\n",
      "Epoch 92/100\n",
      "36/36 [==============================] - 1s 28ms/step - loss: 0.5728 - accuracy: 0.7323 - val_loss: 0.7918 - val_accuracy: 0.4893\n",
      "\n",
      "Epoch 00092: val_loss did not improve from 0.67406\n",
      "Epoch 93/100\n",
      "36/36 [==============================] - 1s 28ms/step - loss: 0.5747 - accuracy: 0.7296 - val_loss: 0.7360 - val_accuracy: 0.5613\n",
      "\n",
      "Epoch 00093: val_loss did not improve from 0.67406\n",
      "Epoch 94/100\n",
      "36/36 [==============================] - 1s 28ms/step - loss: 0.5837 - accuracy: 0.7229 - val_loss: 0.7086 - val_accuracy: 0.5920\n",
      "\n",
      "Epoch 00094: val_loss did not improve from 0.67406\n",
      "Epoch 95/100\n",
      "36/36 [==============================] - 1s 28ms/step - loss: 0.5683 - accuracy: 0.7350 - val_loss: 0.7705 - val_accuracy: 0.5113\n",
      "\n",
      "Epoch 00095: val_loss did not improve from 0.67406\n",
      "Epoch 96/100\n",
      "36/36 [==============================] - 1s 28ms/step - loss: 0.5808 - accuracy: 0.7274 - val_loss: 0.6969 - val_accuracy: 0.6130\n",
      "\n",
      "Epoch 00096: val_loss did not improve from 0.67406\n",
      "Epoch 97/100\n",
      "36/36 [==============================] - 1s 28ms/step - loss: 0.5764 - accuracy: 0.7363 - val_loss: 0.7490 - val_accuracy: 0.5533\n",
      "\n",
      "Epoch 00097: val_loss did not improve from 0.67406\n",
      "Epoch 98/100\n",
      "36/36 [==============================] - 1s 28ms/step - loss: 0.5722 - accuracy: 0.7383 - val_loss: 0.8066 - val_accuracy: 0.4730\n",
      "\n",
      "Epoch 00098: val_loss did not improve from 0.67406\n",
      "Epoch 99/100\n",
      "36/36 [==============================] - 1s 28ms/step - loss: 0.5764 - accuracy: 0.7283 - val_loss: 0.7131 - val_accuracy: 0.5830\n",
      "\n",
      "Epoch 00099: val_loss did not improve from 0.67406\n",
      "Epoch 100/100\n",
      "36/36 [==============================] - 1s 28ms/step - loss: 0.5849 - accuracy: 0.7273 - val_loss: 0.6737 - val_accuracy: 0.6347\n",
      "\n",
      "Epoch 00100: val_loss improved from 0.67406 to 0.67368, saving model to checkpoints/test.hdf5\n"
     ]
    }
   ],
   "source": [
    "filepath = 'checkpoints/test.hdf5'\n",
    "checkpoint = tf.keras.callbacks.ModelCheckpoint(filepath=filepath,\n",
    "                                                 monitor='val_loss',\n",
    "                                                save_best_only=True,\n",
    "                                                 verbose=1,\n",
    "                                                mode='min')\n",
    "callbacks = [checkpoint]\n",
    "\n",
    "history = model.fit(x=x_train,\n",
    "                    y=y_train,batch_size=256,\n",
    "                    validation_data=(x_val,y_val),\n",
    "                    epochs=100,\n",
    "                    callbacks=callbacks)"
   ],
   "metadata": {
    "collapsed": false,
    "pycharm": {
     "name": "#%%\n"
    }
   }
  },
  {
   "cell_type": "code",
   "execution_count": 15,
   "outputs": [],
   "source": [
    "def plot_accuracy_loss_chart(history,epoch_count):\n",
    "    \"\"\"\n",
    "    Plots accuracy and losses for each epoch\n",
    "    :param history: history from fitting model\n",
    "    :param epoch_count: amount of epochs to plot\n",
    "    :return: None\n",
    "    \"\"\"\n",
    "    epochs = [i for i in range(epoch_count)]\n",
    "    fig , ax = plt.subplots(1,2)\n",
    "    train_acc = history.history['accuracy']\n",
    "    train_loss = history.history['loss']\n",
    "    val_acc = history.history['val_accuracy']\n",
    "    val_loss = history.history['val_loss']\n",
    "    fig.set_size_inches(20,10)\n",
    "    ax[0].plot(epochs , train_acc , 'go-' , label = 'Training Accuracy')\n",
    "    ax[0].plot(epochs , val_acc , 'ro-' , label = 'Validation Accuracy')\n",
    "    ax[0].set_title('Training & Validation Accuracy')\n",
    "    ax[0].legend()\n",
    "    ax[0].set_xlabel(\"Epochs\")\n",
    "    ax[0].set_ylabel(\"Accuracy\")\n",
    "\n",
    "    ax[1].plot(epochs , train_loss , 'g-o' , label = 'Training Loss')\n",
    "    ax[1].plot(epochs , val_loss , 'r-o' , label = 'Validation Loss')\n",
    "    ax[1].set_title('Training & Validation Loss')\n",
    "    ax[1].legend()\n",
    "    ax[1].set_xlabel(\"Epochs\")\n",
    "    ax[1].set_ylabel(\"Training & Validation Loss\")\n",
    "    plt.show()"
   ],
   "metadata": {
    "collapsed": false,
    "pycharm": {
     "name": "#%%\n"
    }
   }
  },
  {
   "cell_type": "code",
   "execution_count": 87,
   "outputs": [
    {
     "data": {
      "text/plain": "<Figure size 1440x720 with 2 Axes>",
      "image/png": "[encoded data removed]"
     },
     "metadata": {
      "needs_background": "light"
     },
     "output_type": "display_data"
    }
   ],
   "source": [
    "plot_accuracy_loss_chart(history,100)"
   ],
   "metadata": {
    "collapsed": false,
    "pycharm": {
     "name": "#%%\n"
    }
   }
  },
  {
   "cell_type": "code",
   "execution_count": 93,
   "outputs": [
    {
     "name": "stdout",
     "output_type": "stream",
     "text": [
      "              precision    recall  f1-score   support\n",
      "\n",
      "           0       0.70      0.66      0.68      1740\n",
      "           1       0.56      0.61      0.58      1260\n",
      "\n",
      "    accuracy                           0.63      3000\n",
      "   macro avg       0.63      0.63      0.63      3000\n",
      "weighted avg       0.64      0.63      0.64      3000\n",
      "\n"
     ]
    }
   ],
   "source": [
    "from sklearn.metrics import classification_report\n",
    "\n",
    "pred = model.predict(x_test)\n",
    "pred = np.round(pred)\n",
    "#print(pred)\n",
    "print(classification_report(y_test,pred))\n",
    "\n"
   ],
   "metadata": {
    "collapsed": false,
    "pycharm": {
     "name": "#%%\n"
    }
   }
  },
  {
   "cell_type": "code",
   "execution_count": null,
   "outputs": [],
   "source": [],
   "metadata": {
    "collapsed": false,
    "pycharm": {
     "name": "#%%\n"
    }
   }
  }
 ],
 "metadata": {
  "kernelspec": {
   "display_name": "Python 3",
   "language": "python",
   "name": "python3"
  },
  "language_info": {
   "codemirror_mode": {
    "name": "ipython",
    "version": 2
   },
   "file_extension": ".py",
   "mimetype": "text/x-python",
   "name": "python",
   "nbconvert_exporter": "python",
   "pygments_lexer": "ipython2",
   "version": "2.7.6"
  }
 },
 "nbformat": 4,
 "nbformat_minor": 0
}