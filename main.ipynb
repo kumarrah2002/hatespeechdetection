{
 "cells": [
  {
   "cell_type": "code",
   "execution_count": 1,
   "metadata": {
    "collapsed": true
   },
   "outputs": [
    {
     "name": "stderr",
     "output_type": "stream",
     "text": [
      "2022-03-15 16:03:44.005434: I tensorflow/stream_executor/platform/default/dso_loader.cc:49] Successfully opened dynamic library libcudart.so.10.1\n"
     ]
    }
   ],
   "source": [
    "import numpy as np\n",
    "import pandas as pd\n",
    "import seaborn as sns\n",
    "import tensorflow as tf\n",
    "import matplotlib.pyplot as plt\n",
    "#import fasttext\n",
    "import codecs\n",
    "from tqdm import tqdm\n",
    "import re"
   ]
  },
  {
   "cell_type": "code",
   "execution_count": 2,
   "outputs": [
    {
     "name": "stderr",
     "output_type": "stream",
     "text": [
      "/tmp/ipykernel_28233/157768247.py:5: FutureWarning: In a future version of pandas all arguments of DataFrame.drop except for the argument 'labels' will be keyword-only.\n",
      "  train = train.drop(['TR','AG'],1)\n",
      "/tmp/ipykernel_28233/157768247.py:6: FutureWarning: In a future version of pandas all arguments of DataFrame.drop except for the argument 'labels' will be keyword-only.\n",
      "  test = test.drop(['TR','AG'],1)\n",
      "/tmp/ipykernel_28233/157768247.py:7: FutureWarning: In a future version of pandas all arguments of DataFrame.drop except for the argument 'labels' will be keyword-only.\n",
      "  val = val.drop(['TR','AG'],1)\n"
     ]
    }
   ],
   "source": [
    "train = pd.read_csv('data/hateval2019_en_train.csv')\n",
    "test = pd.read_csv('data/hateval2019_en_test.csv')\n",
    "val = pd.read_csv('data/hateval2019_en_test.csv')\n",
    "\n",
    "train = train.drop(['TR','AG'],1)\n",
    "test = test.drop(['TR','AG'],1)\n",
    "val = val.drop(['TR','AG'],1)"
   ],
   "metadata": {
    "collapsed": false,
    "pycharm": {
     "name": "#%%\n"
    }
   }
  },
  {
   "cell_type": "code",
   "execution_count": 3,
   "outputs": [
    {
     "data": {
      "text/plain": "<AxesSubplot:xlabel='HS', ylabel='count'>"
     },
     "execution_count": 3,
     "metadata": {},
     "output_type": "execute_result"
    },
    {
     "data": {
      "text/plain": "<Figure size 432x288 with 1 Axes>",
      "image/png": "[encoded data removed]"
     },
     "metadata": {
      "needs_background": "light"
     },
     "output_type": "display_data"
    }
   ],
   "source": [
    "sns.countplot(data=train,x='HS')"
   ],
   "metadata": {
    "collapsed": false,
    "pycharm": {
     "name": "#%%\n"
    }
   }
  },
  {
   "cell_type": "markdown",
   "source": [
    "Unbalanced but not massively"
   ],
   "metadata": {
    "collapsed": false,
    "pycharm": {
     "name": "#%% md\n"
    }
   }
  },
  {
   "cell_type": "markdown",
   "source": [
    "Fasttext model. tokenizer->fast text embedding ->LSTM->Linear->linear->sigmoid"
   ],
   "metadata": {
    "collapsed": false
   }
  },
  {
   "cell_type": "code",
   "execution_count": 4,
   "outputs": [],
   "source": [
    "from tensorflow.keras.preprocessing.text import Tokenizer\n",
    "from tensorflow.keras.preprocessing.sequence import pad_sequences\n",
    "from tensorflow.keras.models import Sequential\n",
    "from tensorflow.keras.layers import Dense, LSTM, Dropout, Embedding\n",
    "from tensorflow.keras.optimizers import Adam\n",
    "from tensorflow.keras.losses import BinaryCrossentropy\n",
    "from tensorflow.keras.regularizers import L1,L2, l1_l2\n",
    "import io"
   ],
   "metadata": {
    "collapsed": false,
    "pycharm": {
     "name": "#%%\n"
    }
   }
  },
  {
   "cell_type": "code",
   "execution_count": 5,
   "outputs": [],
   "source": [
    "def normalize_tweet(text):\n",
    "    \"\"\"\n",
    "    Removes hashtags, @s, and links\n",
    "    :param text:Text to be cleaned\n",
    "    :return: text with mentions, hashtages, and urls removes\n",
    "    \"\"\"\n",
    "    processed_text = re.sub(r\"(?:\\@|http?\\://|https?\\://|www|#)\\S+\", \"\", text)\n",
    "    processed_text = \" \".join(processed_text.split())\n",
    "    return processed_text\n",
    "\n",
    "def x_y_split(data):\n",
    "    \"\"\"splits and X and y from dataframe\n",
    "\n",
    "    Args:\n",
    "        data:dataframe to split from\n",
    "\n",
    "    Returns:\n",
    "        tuple:X data, y data\n",
    "    \"\"\"\n",
    "    X = data['text']\n",
    "    X = X.apply(normalize_tweet)\n",
    "    y = data['HS']\n",
    "    return X, y"
   ],
   "metadata": {
    "collapsed": false,
    "pycharm": {
     "name": "#%%\n"
    }
   }
  },
  {
   "cell_type": "code",
   "execution_count": 6,
   "outputs": [
    {
     "name": "stdout",
     "output_type": "stream",
     "text": [
      "0                   Hurray, saving us $$$ in so many ways\n",
      "1       Why would young fighting age men be the vast m...\n",
      "2       Illegals Dump their Kids at the border like Ro...\n",
      "3       NY Times: 'Nearly All White' States Pose 'an A...\n",
      "4       Orban in Brussels: European leaders are ignori...\n",
      "                              ...                        \n",
      "8995                 I am proud to be a hysterical woman.\n",
      "8996    Hollywood is complicit in the rape and sexual ...\n",
      "8997    What a fucking cunt I hate seeing kids getting...\n",
      "8998                                Hysterical woman like\n",
      "8999    Nearly every woman I know has in their feed -s...\n",
      "Name: text, Length: 9000, dtype: object\n"
     ]
    }
   ],
   "source": [
    "#Split x and ys\n",
    "x_train, y_train = x_y_split(train)\n",
    "print(x_train)"
   ],
   "metadata": {
    "collapsed": false,
    "pycharm": {
     "name": "#%%\n"
    }
   }
  },
  {
   "cell_type": "code",
   "execution_count": 7,
   "outputs": [],
   "source": [
    "max_features = 5000\n",
    "tokenizer = Tokenizer(num_words=max_features, split=' ', lower=True)\n",
    "tokenizer.fit_on_texts(x_train)\n",
    "def tokenize_and_pad(x_data,tokenizer=tokenizer,length=57):\n",
    "    \"\"\"\n",
    "    Tokenizes and pads input\n",
    "    :param x_data: X column of data\n",
    "    :param tokenizer: fitted tokenizer\n",
    "    :param length: length to pad\n",
    "    :return: tokenized and padded x_data\n",
    "    \"\"\"\n",
    "    x_data = tokenizer.texts_to_sequences(x_data)\n",
    "    x_data = pad_sequences(x_data,maxlen=length)\n",
    "    return x_data\n",
    "x_train = tokenize_and_pad(x_train,tokenizer)\n",
    "def split_and_tokenize(data,tokenizer=tokenizer):\n",
    "    \"\"\"\n",
    "    Splits tokenizes and pads data\n",
    "    :param data:\n",
    "    :return: tupple of (X,y)\n",
    "    \"\"\"\n",
    "    X, y = x_y_split(data)\n",
    "    X = tokenize_and_pad(X)\n",
    "    return X, y"
   ],
   "metadata": {
    "collapsed": false,
    "pycharm": {
     "name": "#%%\n"
    }
   }
  },
  {
   "cell_type": "code",
   "execution_count": 8,
   "outputs": [],
   "source": [
    "x_val , y_val = split_and_tokenize(val)\n",
    "x_test, y_test = split_and_tokenize(test)"
   ],
   "metadata": {
    "collapsed": false,
    "pycharm": {
     "name": "#%%\n"
    }
   }
  },
  {
   "cell_type": "code",
   "execution_count": 9,
   "outputs": [],
   "source": [
    "embed_dim = 300\n",
    "lstm_out = 392\n",
    "input_length=x_train.shape[1]"
   ],
   "metadata": {
    "collapsed": false,
    "pycharm": {
     "name": "#%%\n"
    }
   }
  },
  {
   "cell_type": "code",
   "execution_count": 10,
   "outputs": [
    {
     "name": "stdout",
     "output_type": "stream",
     "text": [
      "loading word embeddings...\n"
     ]
    },
    {
     "name": "stderr",
     "output_type": "stream",
     "text": [
      "999995it [00:42, 23699.28it/s]"
     ]
    },
    {
     "name": "stdout",
     "output_type": "stream",
     "text": [
      "found 999995 word vectors\n"
     ]
    },
    {
     "name": "stderr",
     "output_type": "stream",
     "text": [
      "\n"
     ]
    }
   ],
   "source": [
    "#https://www.kaggle.com/vsmolyakov/keras-cnn-with-fasttext-embeddings\n",
    "#load embeddings\n",
    "print('loading word embeddings...')\n",
    "embeddings_index = {}\n",
    "f = codecs.open('data/wiki-news-300d-1M.vec', encoding='utf-8')\n",
    "for line in tqdm(f):\n",
    "    values = line.rstrip().rsplit(' ')\n",
    "    word = values[0]\n",
    "    coefs = np.asarray(values[1:], dtype='float32')\n",
    "    embeddings_index[word] = coefs\n",
    "f.close()\n",
    "print('found %s word vectors' % len(embeddings_index))\n",
    "\n"
   ],
   "metadata": {
    "collapsed": false,
    "pycharm": {
     "name": "#%%\n"
    }
   }
  },
  {
   "cell_type": "code",
   "execution_count": 11,
   "outputs": [
    {
     "name": "stdout",
     "output_type": "stream",
     "text": [
      "number of null word embeddings: 263\n"
     ]
    }
   ],
   "source": [
    "#embedding matrix\n",
    "nb_words = min(max_features, len(tokenizer.word_index))\n",
    "words_not_found = []\n",
    "embedding_matrix = np.zeros((nb_words,embed_dim))\n",
    "word_index = tokenizer.word_index\n",
    "for word, i in word_index.items():\n",
    "    if i >= nb_words:\n",
    "        continue\n",
    "    embedding_vector = embeddings_index.get(word)\n",
    "    if (embedding_vector is not None) and len(embedding_vector) > 0:\n",
    "        # words not found in embedding index will be all-zeros.\n",
    "        embedding_matrix[i] = embedding_vector\n",
    "    else:\n",
    "        words_not_found.append(word)\n",
    "print('number of null word embeddings: %d' % np.sum(np.sum(embedding_matrix, axis=1) == 0))"
   ],
   "metadata": {
    "collapsed": false,
    "pycharm": {
     "name": "#%%\n"
    }
   }
  },
  {
   "cell_type": "code",
   "execution_count": 12,
   "outputs": [
    {
     "name": "stdout",
     "output_type": "stream",
     "text": [
      "sample words not found:  [\"father's\" \"hystericalyou're\" 'm…' 'fckin' 'ms13' \"you'd\" 'nooyi' 'y’all'\n",
      " 'let’s' \"family's\"]\n"
     ]
    }
   ],
   "source": [
    "print(\"sample words not found: \", np.random.choice(words_not_found, 10))"
   ],
   "metadata": {
    "collapsed": false,
    "pycharm": {
     "name": "#%%\n"
    }
   }
  },
  {
   "cell_type": "markdown",
   "source": [],
   "metadata": {
    "collapsed": false
   }
  },
  {
   "cell_type": "code",
   "execution_count": 23,
   "outputs": [],
   "source": [
    "REG_STRENGTH_l1 = 0\n",
    "REG_STRENGTH_l2 = 0.05\n",
    "model = Sequential()\n",
    "model.add(Embedding(max_features,embed_dim,input_length=input_length, weights=[embedding_matrix],trainable=False))\n",
    "model.add(LSTM(lstm_out,dropout=0.5, kernel_regularizer=L2(REG_STRENGTH_l2)))\n",
    "model.add(Dense(256,activation='relu', kernel_regularizer=L2(REG_STRENGTH_l2)))\n",
    "model.add(Dropout(.65))\n",
    "model.add(Dense(256,activation='relu', kernel_regularizer=L2(REG_STRENGTH_l2)))\n",
    "model.add(Dropout(.65))\n",
    "model.add(Dense(1,activation='sigmoid'))\n",
    "model.compile(loss=BinaryCrossentropy(),optimizer=Adam(learning_rate=0.0001),metrics=['accuracy'])\n",
    "#print(model.summary())"
   ],
   "metadata": {
    "collapsed": false,
    "pycharm": {
     "name": "#%%\n"
    }
   }
  },
  {
   "cell_type": "code",
   "execution_count": 14,
   "outputs": [
    {
     "name": "stderr",
     "output_type": "stream",
     "text": [
      "2022-03-15 16:04:30.079097: I tensorflow/compiler/mlir/mlir_graph_optimization_pass.cc:116] None of the MLIR optimization passes are enabled (registered 2)\n",
      "2022-03-15 16:04:30.106050: I tensorflow/core/platform/profile_utils/cpu_utils.cc:112] CPU Frequency: 3393735000 Hz\n"
     ]
    },
    {
     "name": "stdout",
     "output_type": "stream",
     "text": [
      "Epoch 1/100\n"
     ]
    },
    {
     "name": "stderr",
     "output_type": "stream",
     "text": [
      "2022-03-15 16:04:31.076724: I tensorflow/stream_executor/platform/default/dso_loader.cc:49] Successfully opened dynamic library libcublas.so.10\n",
      "2022-03-15 16:04:31.601940: I tensorflow/stream_executor/platform/default/dso_loader.cc:49] Successfully opened dynamic library libcudnn.so.7\n"
     ]
    },
    {
     "name": "stdout",
     "output_type": "stream",
     "text": [
      "36/36 [==============================] - 4s 37ms/step - loss: 52.2651 - accuracy: 0.5042 - val_loss: 46.8150 - val_accuracy: 0.5800\n",
      "\n",
      "Epoch 00001: val_loss improved from inf to 46.81501, saving model to checkpoints/test2.hdf5\n",
      "Epoch 2/100\n",
      "36/36 [==============================] - 1s 27ms/step - loss: 45.1695 - accuracy: 0.5826 - val_loss: 40.4649 - val_accuracy: 0.5800\n",
      "\n",
      "Epoch 00002: val_loss improved from 46.81501 to 40.46491, saving model to checkpoints/test2.hdf5\n",
      "Epoch 3/100\n",
      "36/36 [==============================] - 1s 27ms/step - loss: 39.0488 - accuracy: 0.5818 - val_loss: 35.0012 - val_accuracy: 0.5800\n",
      "\n",
      "Epoch 00003: val_loss improved from 40.46491 to 35.00124, saving model to checkpoints/test2.hdf5\n",
      "Epoch 4/100\n",
      "36/36 [==============================] - 1s 27ms/step - loss: 33.7783 - accuracy: 0.5832 - val_loss: 30.2915 - val_accuracy: 0.5800\n",
      "\n",
      "Epoch 00004: val_loss improved from 35.00124 to 30.29150, saving model to checkpoints/test2.hdf5\n",
      "Epoch 5/100\n",
      "36/36 [==============================] - 1s 29ms/step - loss: 29.2374 - accuracy: 0.5797 - val_loss: 26.2287 - val_accuracy: 0.5797\n",
      "\n",
      "Epoch 00005: val_loss improved from 30.29150 to 26.22871, saving model to checkpoints/test2.hdf5\n",
      "Epoch 6/100\n",
      "36/36 [==============================] - 1s 27ms/step - loss: 25.3159 - accuracy: 0.5875 - val_loss: 22.7254 - val_accuracy: 0.5817\n",
      "\n",
      "Epoch 00006: val_loss improved from 26.22871 to 22.72544, saving model to checkpoints/test2.hdf5\n",
      "Epoch 7/100\n",
      "36/36 [==============================] - 1s 28ms/step - loss: 21.9347 - accuracy: 0.5907 - val_loss: 19.6986 - val_accuracy: 0.5853\n",
      "\n",
      "Epoch 00007: val_loss improved from 22.72544 to 19.69861, saving model to checkpoints/test2.hdf5\n",
      "Epoch 8/100\n",
      "36/36 [==============================] - 1s 27ms/step - loss: 19.0143 - accuracy: 0.6008 - val_loss: 17.0979 - val_accuracy: 0.5810\n",
      "\n",
      "Epoch 00008: val_loss improved from 19.69861 to 17.09793, saving model to checkpoints/test2.hdf5\n",
      "Epoch 9/100\n",
      "36/36 [==============================] - 1s 26ms/step - loss: 16.5084 - accuracy: 0.5826 - val_loss: 14.8402 - val_accuracy: 0.5903\n",
      "\n",
      "Epoch 00009: val_loss improved from 17.09793 to 14.84022, saving model to checkpoints/test2.hdf5\n",
      "Epoch 10/100\n",
      "36/36 [==============================] - 1s 27ms/step - loss: 14.3288 - accuracy: 0.6029 - val_loss: 12.9072 - val_accuracy: 0.5993\n",
      "\n",
      "Epoch 00010: val_loss improved from 14.84022 to 12.90722, saving model to checkpoints/test2.hdf5\n",
      "Epoch 11/100\n",
      "36/36 [==============================] - 1s 27ms/step - loss: 12.4582 - accuracy: 0.5957 - val_loss: 11.2248 - val_accuracy: 0.5937\n",
      "\n",
      "Epoch 00011: val_loss improved from 12.90722 to 11.22480, saving model to checkpoints/test2.hdf5\n",
      "Epoch 12/100\n",
      "36/36 [==============================] - 1s 31ms/step - loss: 10.8353 - accuracy: 0.6124 - val_loss: 9.7860 - val_accuracy: 0.5887\n",
      "\n",
      "Epoch 00012: val_loss improved from 11.22480 to 9.78603, saving model to checkpoints/test2.hdf5\n",
      "Epoch 13/100\n",
      "36/36 [==============================] - 1s 30ms/step - loss: 9.4506 - accuracy: 0.5852 - val_loss: 8.5376 - val_accuracy: 0.5763\n",
      "\n",
      "Epoch 00013: val_loss improved from 9.78603 to 8.53764, saving model to checkpoints/test2.hdf5\n",
      "Epoch 14/100\n",
      "36/36 [==============================] - 1s 32ms/step - loss: 8.2423 - accuracy: 0.6306 - val_loss: 7.4565 - val_accuracy: 0.6097\n",
      "\n",
      "Epoch 00014: val_loss improved from 8.53764 to 7.45654, saving model to checkpoints/test2.hdf5\n",
      "Epoch 15/100\n",
      "36/36 [==============================] - 1s 28ms/step - loss: 7.2035 - accuracy: 0.6240 - val_loss: 6.5330 - val_accuracy: 0.6110\n",
      "\n",
      "Epoch 00015: val_loss improved from 7.45654 to 6.53299, saving model to checkpoints/test2.hdf5\n",
      "Epoch 16/100\n",
      "36/36 [==============================] - 1s 27ms/step - loss: 6.3100 - accuracy: 0.6370 - val_loss: 5.7318 - val_accuracy: 0.5990\n",
      "\n",
      "Epoch 00016: val_loss improved from 6.53299 to 5.73180, saving model to checkpoints/test2.hdf5\n",
      "Epoch 17/100\n",
      "36/36 [==============================] - 1s 27ms/step - loss: 5.5273 - accuracy: 0.6412 - val_loss: 5.0277 - val_accuracy: 0.6190\n",
      "\n",
      "Epoch 00017: val_loss improved from 5.73180 to 5.02767, saving model to checkpoints/test2.hdf5\n",
      "Epoch 18/100\n",
      "36/36 [==============================] - 1s 27ms/step - loss: 4.8592 - accuracy: 0.6525 - val_loss: 4.4596 - val_accuracy: 0.5723\n",
      "\n",
      "Epoch 00018: val_loss improved from 5.02767 to 4.45965, saving model to checkpoints/test2.hdf5\n",
      "Epoch 19/100\n",
      "36/36 [==============================] - 1s 27ms/step - loss: 4.2686 - accuracy: 0.6665 - val_loss: 3.9240 - val_accuracy: 0.6077\n",
      "\n",
      "Epoch 00019: val_loss improved from 4.45965 to 3.92402, saving model to checkpoints/test2.hdf5\n",
      "Epoch 20/100\n",
      "36/36 [==============================] - 1s 28ms/step - loss: 3.7795 - accuracy: 0.6572 - val_loss: 3.4805 - val_accuracy: 0.6180\n",
      "\n",
      "Epoch 00020: val_loss improved from 3.92402 to 3.48048, saving model to checkpoints/test2.hdf5\n",
      "Epoch 21/100\n",
      "36/36 [==============================] - 1s 29ms/step - loss: 3.3533 - accuracy: 0.6713 - val_loss: 3.0900 - val_accuracy: 0.6300\n",
      "\n",
      "Epoch 00021: val_loss improved from 3.48048 to 3.08998, saving model to checkpoints/test2.hdf5\n",
      "Epoch 22/100\n",
      "36/36 [==============================] - 1s 29ms/step - loss: 2.9805 - accuracy: 0.6525 - val_loss: 2.7739 - val_accuracy: 0.5923\n",
      "\n",
      "Epoch 00022: val_loss improved from 3.08998 to 2.77392, saving model to checkpoints/test2.hdf5\n",
      "Epoch 23/100\n",
      "36/36 [==============================] - 1s 27ms/step - loss: 2.6454 - accuracy: 0.6651 - val_loss: 2.4773 - val_accuracy: 0.5950\n",
      "\n",
      "Epoch 00023: val_loss improved from 2.77392 to 2.47730, saving model to checkpoints/test2.hdf5\n",
      "Epoch 24/100\n",
      "36/36 [==============================] - 1s 27ms/step - loss: 2.3695 - accuracy: 0.6654 - val_loss: 2.2082 - val_accuracy: 0.6277\n",
      "\n",
      "Epoch 00024: val_loss improved from 2.47730 to 2.20819, saving model to checkpoints/test2.hdf5\n",
      "Epoch 25/100\n",
      "36/36 [==============================] - 1s 27ms/step - loss: 2.1227 - accuracy: 0.6694 - val_loss: 2.0181 - val_accuracy: 0.5917\n",
      "\n",
      "Epoch 00025: val_loss improved from 2.20819 to 2.01808, saving model to checkpoints/test2.hdf5\n",
      "Epoch 26/100\n",
      "36/36 [==============================] - 1s 27ms/step - loss: 1.9201 - accuracy: 0.6668 - val_loss: 1.8261 - val_accuracy: 0.6043\n",
      "\n",
      "Epoch 00026: val_loss improved from 2.01808 to 1.82608, saving model to checkpoints/test2.hdf5\n",
      "Epoch 27/100\n",
      "36/36 [==============================] - 1s 27ms/step - loss: 1.7439 - accuracy: 0.6690 - val_loss: 1.6445 - val_accuracy: 0.6233\n",
      "\n",
      "Epoch 00027: val_loss improved from 1.82608 to 1.64451, saving model to checkpoints/test2.hdf5\n",
      "Epoch 28/100\n",
      "36/36 [==============================] - 1s 27ms/step - loss: 1.5809 - accuracy: 0.6633 - val_loss: 1.5252 - val_accuracy: 0.5873\n",
      "\n",
      "Epoch 00028: val_loss improved from 1.64451 to 1.52521, saving model to checkpoints/test2.hdf5\n",
      "Epoch 29/100\n",
      "36/36 [==============================] - 1s 27ms/step - loss: 1.4382 - accuracy: 0.6815 - val_loss: 1.3925 - val_accuracy: 0.6113\n",
      "\n",
      "Epoch 00029: val_loss improved from 1.52521 to 1.39248, saving model to checkpoints/test2.hdf5\n",
      "Epoch 30/100\n",
      "36/36 [==============================] - 1s 27ms/step - loss: 1.3193 - accuracy: 0.6721 - val_loss: 1.3099 - val_accuracy: 0.5950\n",
      "\n",
      "Epoch 00030: val_loss improved from 1.39248 to 1.30989, saving model to checkpoints/test2.hdf5\n",
      "Epoch 31/100\n",
      "36/36 [==============================] - 1s 27ms/step - loss: 1.2180 - accuracy: 0.6786 - val_loss: 1.1977 - val_accuracy: 0.6237\n",
      "\n",
      "Epoch 00031: val_loss improved from 1.30989 to 1.19770, saving model to checkpoints/test2.hdf5\n",
      "Epoch 32/100\n",
      "36/36 [==============================] - 1s 27ms/step - loss: 1.1263 - accuracy: 0.6830 - val_loss: 1.1391 - val_accuracy: 0.5990\n",
      "\n",
      "Epoch 00032: val_loss improved from 1.19770 to 1.13911, saving model to checkpoints/test2.hdf5\n",
      "Epoch 33/100\n",
      "36/36 [==============================] - 1s 27ms/step - loss: 1.0514 - accuracy: 0.6855 - val_loss: 1.0469 - val_accuracy: 0.6230\n",
      "\n",
      "Epoch 00033: val_loss improved from 1.13911 to 1.04689, saving model to checkpoints/test2.hdf5\n",
      "Epoch 34/100\n",
      "36/36 [==============================] - 1s 27ms/step - loss: 0.9923 - accuracy: 0.6765 - val_loss: 1.0055 - val_accuracy: 0.5990\n",
      "\n",
      "Epoch 00034: val_loss improved from 1.04689 to 1.00547, saving model to checkpoints/test2.hdf5\n",
      "Epoch 35/100\n",
      "36/36 [==============================] - 1s 27ms/step - loss: 0.9329 - accuracy: 0.6858 - val_loss: 0.9403 - val_accuracy: 0.6263\n",
      "\n",
      "Epoch 00035: val_loss improved from 1.00547 to 0.94030, saving model to checkpoints/test2.hdf5\n",
      "Epoch 36/100\n",
      "36/36 [==============================] - 1s 27ms/step - loss: 0.8886 - accuracy: 0.6882 - val_loss: 0.9110 - val_accuracy: 0.6127\n",
      "\n",
      "Epoch 00036: val_loss improved from 0.94030 to 0.91101, saving model to checkpoints/test2.hdf5\n",
      "Epoch 37/100\n",
      "36/36 [==============================] - 1s 27ms/step - loss: 0.8418 - accuracy: 0.6884 - val_loss: 0.8660 - val_accuracy: 0.6253\n",
      "\n",
      "Epoch 00037: val_loss improved from 0.91101 to 0.86603, saving model to checkpoints/test2.hdf5\n",
      "Epoch 38/100\n",
      "36/36 [==============================] - 1s 27ms/step - loss: 0.8159 - accuracy: 0.6767 - val_loss: 0.8605 - val_accuracy: 0.6003\n",
      "\n",
      "Epoch 00038: val_loss improved from 0.86603 to 0.86054, saving model to checkpoints/test2.hdf5\n",
      "Epoch 39/100\n",
      "36/36 [==============================] - 1s 27ms/step - loss: 0.7735 - accuracy: 0.6876 - val_loss: 0.8423 - val_accuracy: 0.6203\n",
      "\n",
      "Epoch 00039: val_loss improved from 0.86054 to 0.84226, saving model to checkpoints/test2.hdf5\n",
      "Epoch 40/100\n",
      "36/36 [==============================] - 1s 27ms/step - loss: 0.7623 - accuracy: 0.6817 - val_loss: 0.7875 - val_accuracy: 0.6240\n",
      "\n",
      "Epoch 00040: val_loss improved from 0.84226 to 0.78746, saving model to checkpoints/test2.hdf5\n",
      "Epoch 41/100\n",
      "36/36 [==============================] - 1s 27ms/step - loss: 0.7306 - accuracy: 0.6862 - val_loss: 0.7769 - val_accuracy: 0.6213\n",
      "\n",
      "Epoch 00041: val_loss improved from 0.78746 to 0.77686, saving model to checkpoints/test2.hdf5\n",
      "Epoch 42/100\n",
      "36/36 [==============================] - 1s 27ms/step - loss: 0.7247 - accuracy: 0.6769 - val_loss: 0.7700 - val_accuracy: 0.6000\n",
      "\n",
      "Epoch 00042: val_loss improved from 0.77686 to 0.76995, saving model to checkpoints/test2.hdf5\n",
      "Epoch 43/100\n",
      "36/36 [==============================] - 1s 27ms/step - loss: 0.6986 - accuracy: 0.6851 - val_loss: 0.7473 - val_accuracy: 0.6153\n",
      "\n",
      "Epoch 00043: val_loss improved from 0.76995 to 0.74727, saving model to checkpoints/test2.hdf5\n",
      "Epoch 44/100\n",
      "36/36 [==============================] - 1s 26ms/step - loss: 0.7007 - accuracy: 0.6752 - val_loss: 0.7283 - val_accuracy: 0.6240\n",
      "\n",
      "Epoch 00044: val_loss improved from 0.74727 to 0.72830, saving model to checkpoints/test2.hdf5\n",
      "Epoch 45/100\n",
      "36/36 [==============================] - 1s 27ms/step - loss: 0.6727 - accuracy: 0.6850 - val_loss: 0.7285 - val_accuracy: 0.6163\n",
      "\n",
      "Epoch 00045: val_loss did not improve from 0.72830\n",
      "Epoch 46/100\n",
      "36/36 [==============================] - 1s 27ms/step - loss: 0.6627 - accuracy: 0.6859 - val_loss: 0.7016 - val_accuracy: 0.6350\n",
      "\n",
      "Epoch 00046: val_loss improved from 0.72830 to 0.70165, saving model to checkpoints/test2.hdf5\n",
      "Epoch 47/100\n",
      "36/36 [==============================] - 1s 29ms/step - loss: 0.6683 - accuracy: 0.6849 - val_loss: 0.7081 - val_accuracy: 0.6200\n",
      "\n",
      "Epoch 00047: val_loss did not improve from 0.70165\n",
      "Epoch 48/100\n",
      "36/36 [==============================] - 1s 32ms/step - loss: 0.6532 - accuracy: 0.6890 - val_loss: 0.7112 - val_accuracy: 0.6227\n",
      "\n",
      "Epoch 00048: val_loss did not improve from 0.70165\n",
      "Epoch 49/100\n",
      "36/36 [==============================] - 1s 27ms/step - loss: 0.6620 - accuracy: 0.6791 - val_loss: 0.7158 - val_accuracy: 0.6173\n",
      "\n",
      "Epoch 00049: val_loss did not improve from 0.70165\n",
      "Epoch 50/100\n",
      "36/36 [==============================] - 1s 27ms/step - loss: 0.6472 - accuracy: 0.6868 - val_loss: 0.7296 - val_accuracy: 0.5957\n",
      "\n",
      "Epoch 00050: val_loss did not improve from 0.70165\n",
      "Epoch 51/100\n",
      "36/36 [==============================] - 1s 27ms/step - loss: 0.6413 - accuracy: 0.6896 - val_loss: 0.7167 - val_accuracy: 0.5977\n",
      "\n",
      "Epoch 00051: val_loss did not improve from 0.70165\n",
      "Epoch 52/100\n",
      "36/36 [==============================] - 1s 27ms/step - loss: 0.6409 - accuracy: 0.6869 - val_loss: 0.6911 - val_accuracy: 0.6277\n",
      "\n",
      "Epoch 00052: val_loss improved from 0.70165 to 0.69110, saving model to checkpoints/test2.hdf5\n",
      "Epoch 53/100\n",
      "36/36 [==============================] - 1s 28ms/step - loss: 0.6341 - accuracy: 0.6932 - val_loss: 0.6799 - val_accuracy: 0.6283\n",
      "\n",
      "Epoch 00053: val_loss improved from 0.69110 to 0.67990, saving model to checkpoints/test2.hdf5\n",
      "Epoch 54/100\n",
      "36/36 [==============================] - 1s 27ms/step - loss: 0.6258 - accuracy: 0.6926 - val_loss: 0.7218 - val_accuracy: 0.5900\n",
      "\n",
      "Epoch 00054: val_loss did not improve from 0.67990\n",
      "Epoch 55/100\n",
      "36/36 [==============================] - 1s 27ms/step - loss: 0.6349 - accuracy: 0.6838 - val_loss: 0.7042 - val_accuracy: 0.6037\n",
      "\n",
      "Epoch 00055: val_loss did not improve from 0.67990\n",
      "Epoch 56/100\n",
      "36/36 [==============================] - 1s 27ms/step - loss: 0.6299 - accuracy: 0.6930 - val_loss: 0.7216 - val_accuracy: 0.5973\n",
      "\n",
      "Epoch 00056: val_loss did not improve from 0.67990\n",
      "Epoch 57/100\n",
      "36/36 [==============================] - 1s 27ms/step - loss: 0.6164 - accuracy: 0.6985 - val_loss: 0.7077 - val_accuracy: 0.6033\n",
      "\n",
      "Epoch 00057: val_loss did not improve from 0.67990\n",
      "Epoch 58/100\n",
      "36/36 [==============================] - 1s 33ms/step - loss: 0.6287 - accuracy: 0.6944 - val_loss: 0.7170 - val_accuracy: 0.5927\n",
      "\n",
      "Epoch 00058: val_loss did not improve from 0.67990\n",
      "Epoch 59/100\n",
      "36/36 [==============================] - 1s 28ms/step - loss: 0.6257 - accuracy: 0.6963 - val_loss: 0.6900 - val_accuracy: 0.6303\n",
      "\n",
      "Epoch 00059: val_loss did not improve from 0.67990\n",
      "Epoch 60/100\n",
      "36/36 [==============================] - 1s 28ms/step - loss: 0.6391 - accuracy: 0.6733 - val_loss: 0.6787 - val_accuracy: 0.6313\n",
      "\n",
      "Epoch 00060: val_loss improved from 0.67990 to 0.67874, saving model to checkpoints/test2.hdf5\n",
      "Epoch 61/100\n",
      "36/36 [==============================] - 1s 28ms/step - loss: 0.6375 - accuracy: 0.6770 - val_loss: 0.7027 - val_accuracy: 0.6050\n",
      "\n",
      "Epoch 00061: val_loss did not improve from 0.67874\n",
      "Epoch 62/100\n",
      "36/36 [==============================] - 1s 28ms/step - loss: 0.6227 - accuracy: 0.6934 - val_loss: 0.6754 - val_accuracy: 0.6313\n",
      "\n",
      "Epoch 00062: val_loss improved from 0.67874 to 0.67536, saving model to checkpoints/test2.hdf5\n",
      "Epoch 63/100\n",
      "36/36 [==============================] - 1s 27ms/step - loss: 0.6334 - accuracy: 0.6864 - val_loss: 0.6866 - val_accuracy: 0.6187\n",
      "\n",
      "Epoch 00063: val_loss did not improve from 0.67536\n",
      "Epoch 64/100\n",
      "36/36 [==============================] - 1s 27ms/step - loss: 0.6200 - accuracy: 0.6978 - val_loss: 0.6805 - val_accuracy: 0.6263\n",
      "\n",
      "Epoch 00064: val_loss did not improve from 0.67536\n",
      "Epoch 65/100\n",
      "36/36 [==============================] - 1s 28ms/step - loss: 0.6163 - accuracy: 0.6987 - val_loss: 0.6871 - val_accuracy: 0.6183\n",
      "\n",
      "Epoch 00065: val_loss did not improve from 0.67536\n",
      "Epoch 66/100\n",
      "36/36 [==============================] - 1s 28ms/step - loss: 0.6178 - accuracy: 0.6995 - val_loss: 0.7057 - val_accuracy: 0.6090\n",
      "\n",
      "Epoch 00066: val_loss did not improve from 0.67536\n",
      "Epoch 67/100\n",
      "36/36 [==============================] - 1s 30ms/step - loss: 0.6236 - accuracy: 0.6940 - val_loss: 0.6925 - val_accuracy: 0.6153\n",
      "\n",
      "Epoch 00067: val_loss did not improve from 0.67536\n",
      "Epoch 68/100\n",
      "36/36 [==============================] - 1s 27ms/step - loss: 0.6166 - accuracy: 0.7076 - val_loss: 0.6919 - val_accuracy: 0.6120\n",
      "\n",
      "Epoch 00068: val_loss did not improve from 0.67536\n",
      "Epoch 69/100\n",
      "36/36 [==============================] - 1s 29ms/step - loss: 0.6159 - accuracy: 0.6953 - val_loss: 0.6964 - val_accuracy: 0.6193\n",
      "\n",
      "Epoch 00069: val_loss did not improve from 0.67536\n",
      "Epoch 70/100\n",
      "36/36 [==============================] - 1s 28ms/step - loss: 0.6160 - accuracy: 0.6999 - val_loss: 0.6991 - val_accuracy: 0.6100\n",
      "\n",
      "Epoch 00070: val_loss did not improve from 0.67536\n",
      "Epoch 71/100\n",
      "36/36 [==============================] - 1s 27ms/step - loss: 0.6096 - accuracy: 0.7052 - val_loss: 0.7034 - val_accuracy: 0.6030\n",
      "\n",
      "Epoch 00071: val_loss did not improve from 0.67536\n",
      "Epoch 72/100\n",
      "36/36 [==============================] - 1s 28ms/step - loss: 0.6286 - accuracy: 0.6871 - val_loss: 0.6984 - val_accuracy: 0.6197\n",
      "\n",
      "Epoch 00072: val_loss did not improve from 0.67536\n",
      "Epoch 73/100\n",
      "36/36 [==============================] - 1s 30ms/step - loss: 0.6431 - accuracy: 0.6791 - val_loss: 0.6808 - val_accuracy: 0.6307\n",
      "\n",
      "Epoch 00073: val_loss did not improve from 0.67536\n",
      "Epoch 74/100\n",
      "36/36 [==============================] - 1s 28ms/step - loss: 0.6258 - accuracy: 0.6934 - val_loss: 0.7195 - val_accuracy: 0.5867\n",
      "\n",
      "Epoch 00074: val_loss did not improve from 0.67536\n",
      "Epoch 75/100\n",
      "36/36 [==============================] - 1s 28ms/step - loss: 0.6185 - accuracy: 0.6911 - val_loss: 0.6734 - val_accuracy: 0.6307\n",
      "\n",
      "Epoch 00075: val_loss improved from 0.67536 to 0.67341, saving model to checkpoints/test2.hdf5\n",
      "Epoch 76/100\n",
      "36/36 [==============================] - 1s 27ms/step - loss: 0.6142 - accuracy: 0.6987 - val_loss: 0.6728 - val_accuracy: 0.6380\n",
      "\n",
      "Epoch 00076: val_loss improved from 0.67341 to 0.67281, saving model to checkpoints/test2.hdf5\n",
      "Epoch 77/100\n",
      "36/36 [==============================] - 1s 28ms/step - loss: 0.6196 - accuracy: 0.6933 - val_loss: 0.6786 - val_accuracy: 0.6230\n",
      "\n",
      "Epoch 00077: val_loss did not improve from 0.67281\n",
      "Epoch 78/100\n",
      "36/36 [==============================] - 1s 28ms/step - loss: 0.6139 - accuracy: 0.6997 - val_loss: 0.6783 - val_accuracy: 0.6297\n",
      "\n",
      "Epoch 00078: val_loss did not improve from 0.67281\n",
      "Epoch 79/100\n",
      "36/36 [==============================] - 1s 28ms/step - loss: 0.6149 - accuracy: 0.6954 - val_loss: 0.6738 - val_accuracy: 0.6357\n",
      "\n",
      "Epoch 00079: val_loss did not improve from 0.67281\n",
      "Epoch 80/100\n",
      "36/36 [==============================] - 1s 29ms/step - loss: 0.6265 - accuracy: 0.6817 - val_loss: 0.6780 - val_accuracy: 0.6233\n",
      "\n",
      "Epoch 00080: val_loss did not improve from 0.67281\n",
      "Epoch 81/100\n",
      "36/36 [==============================] - 1s 29ms/step - loss: 0.6142 - accuracy: 0.7009 - val_loss: 0.6874 - val_accuracy: 0.6203\n",
      "\n",
      "Epoch 00081: val_loss did not improve from 0.67281\n",
      "Epoch 82/100\n",
      "36/36 [==============================] - 1s 29ms/step - loss: 0.6163 - accuracy: 0.6933 - val_loss: 0.6802 - val_accuracy: 0.6207\n",
      "\n",
      "Epoch 00082: val_loss did not improve from 0.67281\n",
      "Epoch 83/100\n",
      "36/36 [==============================] - 1s 30ms/step - loss: 0.6121 - accuracy: 0.6964 - val_loss: 0.7106 - val_accuracy: 0.6037\n",
      "\n",
      "Epoch 00083: val_loss did not improve from 0.67281\n",
      "Epoch 84/100\n",
      "36/36 [==============================] - 1s 28ms/step - loss: 0.6255 - accuracy: 0.6932 - val_loss: 0.6905 - val_accuracy: 0.6187\n",
      "\n",
      "Epoch 00084: val_loss did not improve from 0.67281\n",
      "Epoch 85/100\n",
      "36/36 [==============================] - 1s 28ms/step - loss: 0.6030 - accuracy: 0.7118 - val_loss: 0.7009 - val_accuracy: 0.6040\n",
      "\n",
      "Epoch 00085: val_loss did not improve from 0.67281\n",
      "Epoch 86/100\n",
      "36/36 [==============================] - 1s 28ms/step - loss: 0.6050 - accuracy: 0.7032 - val_loss: 0.7377 - val_accuracy: 0.5860\n",
      "\n",
      "Epoch 00086: val_loss did not improve from 0.67281\n",
      "Epoch 87/100\n",
      "36/36 [==============================] - 1s 28ms/step - loss: 0.6184 - accuracy: 0.6901 - val_loss: 0.6917 - val_accuracy: 0.6143\n",
      "\n",
      "Epoch 00087: val_loss did not improve from 0.67281\n",
      "Epoch 88/100\n",
      "36/36 [==============================] - 1s 28ms/step - loss: 0.6172 - accuracy: 0.6878 - val_loss: 0.6938 - val_accuracy: 0.6123\n",
      "\n",
      "Epoch 00088: val_loss did not improve from 0.67281\n",
      "Epoch 89/100\n",
      "36/36 [==============================] - 1s 28ms/step - loss: 0.6158 - accuracy: 0.6904 - val_loss: 0.7316 - val_accuracy: 0.5880\n",
      "\n",
      "Epoch 00089: val_loss did not improve from 0.67281\n",
      "Epoch 90/100\n",
      "36/36 [==============================] - 1s 28ms/step - loss: 0.6331 - accuracy: 0.6719 - val_loss: 0.7367 - val_accuracy: 0.5753\n",
      "\n",
      "Epoch 00090: val_loss did not improve from 0.67281\n",
      "Epoch 91/100\n",
      "36/36 [==============================] - 1s 28ms/step - loss: 0.6148 - accuracy: 0.6955 - val_loss: 0.6847 - val_accuracy: 0.6227\n",
      "\n",
      "Epoch 00091: val_loss did not improve from 0.67281\n",
      "Epoch 92/100\n",
      "36/36 [==============================] - 1s 28ms/step - loss: 0.6049 - accuracy: 0.7100 - val_loss: 0.6885 - val_accuracy: 0.6183\n",
      "\n",
      "Epoch 00092: val_loss did not improve from 0.67281\n",
      "Epoch 93/100\n",
      "36/36 [==============================] - 1s 30ms/step - loss: 0.6347 - accuracy: 0.6966 - val_loss: 0.6853 - val_accuracy: 0.6263\n",
      "\n",
      "Epoch 00093: val_loss did not improve from 0.67281\n",
      "Epoch 94/100\n",
      "36/36 [==============================] - 1s 28ms/step - loss: 0.6134 - accuracy: 0.6924 - val_loss: 0.7205 - val_accuracy: 0.5957\n",
      "\n",
      "Epoch 00094: val_loss did not improve from 0.67281\n",
      "Epoch 95/100\n",
      "36/36 [==============================] - 1s 30ms/step - loss: 0.6195 - accuracy: 0.6938 - val_loss: 0.7541 - val_accuracy: 0.5687\n",
      "\n",
      "Epoch 00095: val_loss did not improve from 0.67281\n",
      "Epoch 96/100\n",
      "36/36 [==============================] - 1s 31ms/step - loss: 0.6352 - accuracy: 0.6751 - val_loss: 0.7051 - val_accuracy: 0.5967\n",
      "\n",
      "Epoch 00096: val_loss did not improve from 0.67281\n",
      "Epoch 97/100\n",
      "36/36 [==============================] - 1s 29ms/step - loss: 0.6114 - accuracy: 0.6992 - val_loss: 0.6988 - val_accuracy: 0.6180\n",
      "\n",
      "Epoch 00097: val_loss did not improve from 0.67281\n",
      "Epoch 98/100\n",
      "36/36 [==============================] - 1s 28ms/step - loss: 0.6119 - accuracy: 0.7067 - val_loss: 0.6790 - val_accuracy: 0.6197\n",
      "\n",
      "Epoch 00098: val_loss did not improve from 0.67281\n",
      "Epoch 99/100\n",
      "36/36 [==============================] - 1s 28ms/step - loss: 0.6227 - accuracy: 0.6906 - val_loss: 0.6924 - val_accuracy: 0.6127\n",
      "\n",
      "Epoch 00099: val_loss did not improve from 0.67281\n",
      "Epoch 100/100\n",
      "36/36 [==============================] - 1s 28ms/step - loss: 0.6053 - accuracy: 0.7014 - val_loss: 0.6935 - val_accuracy: 0.6023\n",
      "\n",
      "Epoch 00100: val_loss did not improve from 0.67281\n"
     ]
    }
   ],
   "source": [
    "filepath = 'checkpoints/test2.hdf5'\n",
    "checkpoint = tf.keras.callbacks.ModelCheckpoint(filepath=filepath,\n",
    "                                                 monitor='val_loss',\n",
    "                                                save_best_only=True,\n",
    "                                                 verbose=1,\n",
    "                                                mode='min')\n",
    "callbacks = [checkpoint]\n",
    "\n",
    "history = model.fit(x=x_train,\n",
    "                    y=y_train,batch_size=256,\n",
    "                    validation_data=(x_val,y_val),\n",
    "                    epochs=100,\n",
    "                    callbacks=callbacks)"
   ],
   "metadata": {
    "collapsed": false,
    "pycharm": {
     "name": "#%%\n"
    }
   }
  },
  {
   "cell_type": "code",
   "execution_count": 15,
   "outputs": [],
   "source": [
    "def plot_accuracy_loss_chart(history,epoch_count):\n",
    "    \"\"\"\n",
    "    Plots accuracy and losses for each epoch\n",
    "    :param history: history from fitting model\n",
    "    :param epoch_count: amount of epochs to plot\n",
    "    :return: None\n",
    "    \"\"\"\n",
    "    epochs = [i for i in range(epoch_count)]\n",
    "    fig , ax = plt.subplots(1,2)\n",
    "    train_acc = history.history['accuracy']\n",
    "    train_loss = history.history['loss']\n",
    "    val_acc = history.history['val_accuracy']\n",
    "    val_loss = history.history['val_loss']\n",
    "    fig.set_size_inches(20,10)\n",
    "    ax[0].plot(epochs , train_acc , 'go-' , label = 'Training Accuracy')\n",
    "    ax[0].plot(epochs , val_acc , 'ro-' , label = 'Validation Accuracy')\n",
    "    ax[0].set_title('Training & Validation Accuracy')\n",
    "    ax[0].legend()\n",
    "    ax[0].set_xlabel(\"Epochs\")\n",
    "    ax[0].set_ylabel(\"Accuracy\")\n",
    "\n",
    "    ax[1].plot(epochs , train_loss , 'g-o' , label = 'Training Loss')\n",
    "    ax[1].plot(epochs , val_loss , 'r-o' , label = 'Validation Loss')\n",
    "    ax[1].set_title('Training & Validation Loss')\n",
    "    ax[1].legend()\n",
    "    ax[1].set_xlabel(\"Epochs\")\n",
    "    ax[1].set_ylabel(\"Training & Validation Loss\")\n",
    "    plt.show()"
   ],
   "metadata": {
    "collapsed": false,
    "pycharm": {
     "name": "#%%\n"
    }
   }
  },
  {
   "cell_type": "code",
   "execution_count": 16,
   "outputs": [
    {
     "data": {
      "text/plain": "<Figure size 1440x720 with 2 Axes>",
      "image/png": "[encoded data removed]"
     },
     "metadata": {
      "needs_background": "light"
     },
     "output_type": "display_data"
    }
   ],
   "source": [
    "plot_accuracy_loss_chart(history,100)"
   ],
   "metadata": {
    "collapsed": false,
    "pycharm": {
     "name": "#%%\n"
    }
   }
  },
  {
   "cell_type": "code",
   "execution_count": 28,
   "outputs": [
    {
     "name": "stdout",
     "output_type": "stream",
     "text": [
      "              precision    recall  f1-score   support\n",
      "\n",
      "           0       0.68      0.71      0.70      1740\n",
      "           1       0.57      0.53      0.55      1260\n",
      "\n",
      "    accuracy                           0.64      3000\n",
      "   macro avg       0.63      0.62      0.62      3000\n",
      "weighted avg       0.63      0.64      0.64      3000\n",
      "\n"
     ]
    }
   ],
   "source": [
    "from sklearn.metrics import classification_report\n",
    "model = tf.keras.models.load_model('checkpoints/test2.hdf5')\n",
    "\n",
    "pred = model.predict(x_test)\n",
    "pred = np.round(pred)\n",
    "#print(pred)\n",
    "print(classification_report(y_test,pred))\n",
    "\n"
   ],
   "metadata": {
    "collapsed": false,
    "pycharm": {
     "name": "#%%\n"
    }
   }
  },
  {
   "cell_type": "code",
   "execution_count": 18,
   "outputs": [],
   "source": [
    "#model.save('checkpoints/full_fast_textmodel')"
   ],
   "metadata": {
    "collapsed": false,
    "pycharm": {
     "name": "#%%\n"
    }
   }
  },
  {
   "cell_type": "code",
   "execution_count": 18,
   "outputs": [],
   "source": [],
   "metadata": {
    "collapsed": false,
    "pycharm": {
     "name": "#%%\n"
    }
   }
  },
  {
   "cell_type": "markdown",
   "source": [
    "Node2vec"
   ],
   "metadata": {
    "collapsed": false
   }
  },
  {
   "cell_type": "code",
   "execution_count": 79,
   "outputs": [],
   "source": [
    "import requests\n",
    "x_train, y_train = x_y_split(train)\n",
    "\n",
    "api_key_file = open('TagMeApiKey','r')\n",
    "api_key = api_key_file.read()\n",
    "api_key_file.close()\n",
    "json_list = []"
   ],
   "metadata": {
    "collapsed": false,
    "pycharm": {
     "name": "#%%\n"
    }
   }
  },
  {
   "cell_type": "code",
   "execution_count": 76,
   "outputs": [
    {
     "name": "stderr",
     "output_type": "stream",
     "text": [
      "  0%|          | 6/9000 [00:04<1:53:54,  1.32it/s]\n"
     ]
    },
    {
     "ename": "KeyboardInterrupt",
     "evalue": "",
     "output_type": "error",
     "traceback": [
      "\u001B[0;31m---------------------------------------------------------------------------\u001B[0m",
      "\u001B[0;31mKeyboardInterrupt\u001B[0m                         Traceback (most recent call last)",
      "\u001B[0;32m/tmp/ipykernel_28233/4226080000.py\u001B[0m in \u001B[0;36m<module>\u001B[0;34m\u001B[0m\n\u001B[1;32m     17\u001B[0m         \u001B[0mjson_list\u001B[0m\u001B[0;34m.\u001B[0m\u001B[0mappend\u001B[0m\u001B[0;34m(\u001B[0m\u001B[0;32mNone\u001B[0m\u001B[0;34m)\u001B[0m\u001B[0;34m\u001B[0m\u001B[0;34m\u001B[0m\u001B[0m\n\u001B[1;32m     18\u001B[0m     \u001B[0;32melse\u001B[0m\u001B[0;34m:\u001B[0m\u001B[0;34m\u001B[0m\u001B[0;34m\u001B[0m\u001B[0m\n\u001B[0;32m---> 19\u001B[0;31m         \u001B[0mx\u001B[0m \u001B[0;34m=\u001B[0m \u001B[0mtag_me_api_call\u001B[0m\u001B[0;34m(\u001B[0m\u001B[0mx_train\u001B[0m\u001B[0;34m[\u001B[0m\u001B[0mi\u001B[0m\u001B[0;34m]\u001B[0m\u001B[0;34m)\u001B[0m\u001B[0;34m\u001B[0m\u001B[0;34m\u001B[0m\u001B[0m\n\u001B[0m\u001B[1;32m     20\u001B[0m         \u001B[0mjson_list\u001B[0m\u001B[0;34m.\u001B[0m\u001B[0mappend\u001B[0m\u001B[0;34m(\u001B[0m\u001B[0mx\u001B[0m\u001B[0;34m)\u001B[0m\u001B[0;34m\u001B[0m\u001B[0;34m\u001B[0m\u001B[0m\n\u001B[1;32m     21\u001B[0m \u001B[0;34m\u001B[0m\u001B[0m\n",
      "\u001B[0;32m/tmp/ipykernel_28233/4226080000.py\u001B[0m in \u001B[0;36mtag_me_api_call\u001B[0;34m(text, api_key)\u001B[0m\n\u001B[1;32m      8\u001B[0m     \u001B[0mURL\u001B[0m \u001B[0;34m=\u001B[0m \u001B[0;34m'https://tagme.d4science.org/tagme/tag'\u001B[0m\u001B[0;34m\u001B[0m\u001B[0;34m\u001B[0m\u001B[0m\n\u001B[1;32m      9\u001B[0m     \u001B[0mPARAMS\u001B[0m \u001B[0;34m=\u001B[0m \u001B[0;34m{\u001B[0m\u001B[0;34m'text'\u001B[0m \u001B[0;34m:\u001B[0m \u001B[0mtext\u001B[0m\u001B[0;34m,\u001B[0m \u001B[0;34m'lang'\u001B[0m\u001B[0;34m:\u001B[0m \u001B[0;34m'en'\u001B[0m\u001B[0;34m,\u001B[0m \u001B[0;34m'gcube-token'\u001B[0m\u001B[0;34m:\u001B[0m\u001B[0mapi_key\u001B[0m\u001B[0;34m}\u001B[0m\u001B[0;34m\u001B[0m\u001B[0;34m\u001B[0m\u001B[0m\n\u001B[0;32m---> 10\u001B[0;31m     \u001B[0mjson\u001B[0m \u001B[0;34m=\u001B[0m \u001B[0mrequests\u001B[0m\u001B[0;34m.\u001B[0m\u001B[0mpost\u001B[0m\u001B[0;34m(\u001B[0m\u001B[0mURL\u001B[0m\u001B[0;34m,\u001B[0m\u001B[0mparams\u001B[0m\u001B[0;34m=\u001B[0m\u001B[0mPARAMS\u001B[0m\u001B[0;34m)\u001B[0m\u001B[0;34m\u001B[0m\u001B[0;34m\u001B[0m\u001B[0m\n\u001B[0m\u001B[1;32m     11\u001B[0m     \u001B[0;32mreturn\u001B[0m \u001B[0mjson\u001B[0m\u001B[0;34m.\u001B[0m\u001B[0mjson\u001B[0m\u001B[0;34m(\u001B[0m\u001B[0;34m)\u001B[0m\u001B[0;34m\u001B[0m\u001B[0;34m\u001B[0m\u001B[0m\n\u001B[1;32m     12\u001B[0m \u001B[0;34m\u001B[0m\u001B[0m\n",
      "\u001B[0;32m~/anaconda3/envs/hatespeech/lib/python3.9/site-packages/requests/api.py\u001B[0m in \u001B[0;36mpost\u001B[0;34m(url, data, json, **kwargs)\u001B[0m\n\u001B[1;32m    115\u001B[0m     \"\"\"\n\u001B[1;32m    116\u001B[0m \u001B[0;34m\u001B[0m\u001B[0m\n\u001B[0;32m--> 117\u001B[0;31m     \u001B[0;32mreturn\u001B[0m \u001B[0mrequest\u001B[0m\u001B[0;34m(\u001B[0m\u001B[0;34m'post'\u001B[0m\u001B[0;34m,\u001B[0m \u001B[0murl\u001B[0m\u001B[0;34m,\u001B[0m \u001B[0mdata\u001B[0m\u001B[0;34m=\u001B[0m\u001B[0mdata\u001B[0m\u001B[0;34m,\u001B[0m \u001B[0mjson\u001B[0m\u001B[0;34m=\u001B[0m\u001B[0mjson\u001B[0m\u001B[0;34m,\u001B[0m \u001B[0;34m**\u001B[0m\u001B[0mkwargs\u001B[0m\u001B[0;34m)\u001B[0m\u001B[0;34m\u001B[0m\u001B[0;34m\u001B[0m\u001B[0m\n\u001B[0m\u001B[1;32m    118\u001B[0m \u001B[0;34m\u001B[0m\u001B[0m\n\u001B[1;32m    119\u001B[0m \u001B[0;34m\u001B[0m\u001B[0m\n",
      "\u001B[0;32m~/anaconda3/envs/hatespeech/lib/python3.9/site-packages/requests/api.py\u001B[0m in \u001B[0;36mrequest\u001B[0;34m(method, url, **kwargs)\u001B[0m\n\u001B[1;32m     59\u001B[0m     \u001B[0;31m# cases, and look like a memory leak in others.\u001B[0m\u001B[0;34m\u001B[0m\u001B[0;34m\u001B[0m\u001B[0m\n\u001B[1;32m     60\u001B[0m     \u001B[0;32mwith\u001B[0m \u001B[0msessions\u001B[0m\u001B[0;34m.\u001B[0m\u001B[0mSession\u001B[0m\u001B[0;34m(\u001B[0m\u001B[0;34m)\u001B[0m \u001B[0;32mas\u001B[0m \u001B[0msession\u001B[0m\u001B[0;34m:\u001B[0m\u001B[0;34m\u001B[0m\u001B[0;34m\u001B[0m\u001B[0m\n\u001B[0;32m---> 61\u001B[0;31m         \u001B[0;32mreturn\u001B[0m \u001B[0msession\u001B[0m\u001B[0;34m.\u001B[0m\u001B[0mrequest\u001B[0m\u001B[0;34m(\u001B[0m\u001B[0mmethod\u001B[0m\u001B[0;34m=\u001B[0m\u001B[0mmethod\u001B[0m\u001B[0;34m,\u001B[0m \u001B[0murl\u001B[0m\u001B[0;34m=\u001B[0m\u001B[0murl\u001B[0m\u001B[0;34m,\u001B[0m \u001B[0;34m**\u001B[0m\u001B[0mkwargs\u001B[0m\u001B[0;34m)\u001B[0m\u001B[0;34m\u001B[0m\u001B[0;34m\u001B[0m\u001B[0m\n\u001B[0m\u001B[1;32m     62\u001B[0m \u001B[0;34m\u001B[0m\u001B[0m\n\u001B[1;32m     63\u001B[0m \u001B[0;34m\u001B[0m\u001B[0m\n",
      "\u001B[0;32m~/anaconda3/envs/hatespeech/lib/python3.9/site-packages/requests/sessions.py\u001B[0m in \u001B[0;36mrequest\u001B[0;34m(self, method, url, params, data, headers, cookies, files, auth, timeout, allow_redirects, proxies, hooks, stream, verify, cert, json)\u001B[0m\n\u001B[1;32m    527\u001B[0m         }\n\u001B[1;32m    528\u001B[0m         \u001B[0msend_kwargs\u001B[0m\u001B[0;34m.\u001B[0m\u001B[0mupdate\u001B[0m\u001B[0;34m(\u001B[0m\u001B[0msettings\u001B[0m\u001B[0;34m)\u001B[0m\u001B[0;34m\u001B[0m\u001B[0;34m\u001B[0m\u001B[0m\n\u001B[0;32m--> 529\u001B[0;31m         \u001B[0mresp\u001B[0m \u001B[0;34m=\u001B[0m \u001B[0mself\u001B[0m\u001B[0;34m.\u001B[0m\u001B[0msend\u001B[0m\u001B[0;34m(\u001B[0m\u001B[0mprep\u001B[0m\u001B[0;34m,\u001B[0m \u001B[0;34m**\u001B[0m\u001B[0msend_kwargs\u001B[0m\u001B[0;34m)\u001B[0m\u001B[0;34m\u001B[0m\u001B[0;34m\u001B[0m\u001B[0m\n\u001B[0m\u001B[1;32m    530\u001B[0m \u001B[0;34m\u001B[0m\u001B[0m\n\u001B[1;32m    531\u001B[0m         \u001B[0;32mreturn\u001B[0m \u001B[0mresp\u001B[0m\u001B[0;34m\u001B[0m\u001B[0;34m\u001B[0m\u001B[0m\n",
      "\u001B[0;32m~/anaconda3/envs/hatespeech/lib/python3.9/site-packages/requests/sessions.py\u001B[0m in \u001B[0;36msend\u001B[0;34m(self, request, **kwargs)\u001B[0m\n\u001B[1;32m    643\u001B[0m \u001B[0;34m\u001B[0m\u001B[0m\n\u001B[1;32m    644\u001B[0m         \u001B[0;31m# Send the request\u001B[0m\u001B[0;34m\u001B[0m\u001B[0;34m\u001B[0m\u001B[0m\n\u001B[0;32m--> 645\u001B[0;31m         \u001B[0mr\u001B[0m \u001B[0;34m=\u001B[0m \u001B[0madapter\u001B[0m\u001B[0;34m.\u001B[0m\u001B[0msend\u001B[0m\u001B[0;34m(\u001B[0m\u001B[0mrequest\u001B[0m\u001B[0;34m,\u001B[0m \u001B[0;34m**\u001B[0m\u001B[0mkwargs\u001B[0m\u001B[0;34m)\u001B[0m\u001B[0;34m\u001B[0m\u001B[0;34m\u001B[0m\u001B[0m\n\u001B[0m\u001B[1;32m    646\u001B[0m \u001B[0;34m\u001B[0m\u001B[0m\n\u001B[1;32m    647\u001B[0m         \u001B[0;31m# Total elapsed time of the request (approximately)\u001B[0m\u001B[0;34m\u001B[0m\u001B[0;34m\u001B[0m\u001B[0m\n",
      "\u001B[0;32m~/anaconda3/envs/hatespeech/lib/python3.9/site-packages/requests/adapters.py\u001B[0m in \u001B[0;36msend\u001B[0;34m(self, request, stream, timeout, verify, cert, proxies)\u001B[0m\n\u001B[1;32m    438\u001B[0m         \u001B[0;32mtry\u001B[0m\u001B[0;34m:\u001B[0m\u001B[0;34m\u001B[0m\u001B[0;34m\u001B[0m\u001B[0m\n\u001B[1;32m    439\u001B[0m             \u001B[0;32mif\u001B[0m \u001B[0;32mnot\u001B[0m \u001B[0mchunked\u001B[0m\u001B[0;34m:\u001B[0m\u001B[0;34m\u001B[0m\u001B[0;34m\u001B[0m\u001B[0m\n\u001B[0;32m--> 440\u001B[0;31m                 resp = conn.urlopen(\n\u001B[0m\u001B[1;32m    441\u001B[0m                     \u001B[0mmethod\u001B[0m\u001B[0;34m=\u001B[0m\u001B[0mrequest\u001B[0m\u001B[0;34m.\u001B[0m\u001B[0mmethod\u001B[0m\u001B[0;34m,\u001B[0m\u001B[0;34m\u001B[0m\u001B[0;34m\u001B[0m\u001B[0m\n\u001B[1;32m    442\u001B[0m                     \u001B[0murl\u001B[0m\u001B[0;34m=\u001B[0m\u001B[0murl\u001B[0m\u001B[0;34m,\u001B[0m\u001B[0;34m\u001B[0m\u001B[0;34m\u001B[0m\u001B[0m\n",
      "\u001B[0;32m~/anaconda3/envs/hatespeech/lib/python3.9/site-packages/urllib3/connectionpool.py\u001B[0m in \u001B[0;36murlopen\u001B[0;34m(self, method, url, body, headers, retries, redirect, assert_same_host, timeout, pool_timeout, release_conn, chunked, body_pos, **response_kw)\u001B[0m\n\u001B[1;32m    701\u001B[0m \u001B[0;34m\u001B[0m\u001B[0m\n\u001B[1;32m    702\u001B[0m             \u001B[0;31m# Make the request on the httplib connection object.\u001B[0m\u001B[0;34m\u001B[0m\u001B[0;34m\u001B[0m\u001B[0m\n\u001B[0;32m--> 703\u001B[0;31m             httplib_response = self._make_request(\n\u001B[0m\u001B[1;32m    704\u001B[0m                 \u001B[0mconn\u001B[0m\u001B[0;34m,\u001B[0m\u001B[0;34m\u001B[0m\u001B[0;34m\u001B[0m\u001B[0m\n\u001B[1;32m    705\u001B[0m                 \u001B[0mmethod\u001B[0m\u001B[0;34m,\u001B[0m\u001B[0;34m\u001B[0m\u001B[0;34m\u001B[0m\u001B[0m\n",
      "\u001B[0;32m~/anaconda3/envs/hatespeech/lib/python3.9/site-packages/urllib3/connectionpool.py\u001B[0m in \u001B[0;36m_make_request\u001B[0;34m(self, conn, method, url, timeout, chunked, **httplib_request_kw)\u001B[0m\n\u001B[1;32m    447\u001B[0m                     \u001B[0;31m# Python 3 (including for exceptions like SystemExit).\u001B[0m\u001B[0;34m\u001B[0m\u001B[0;34m\u001B[0m\u001B[0m\n\u001B[1;32m    448\u001B[0m                     \u001B[0;31m# Otherwise it looks like a bug in the code.\u001B[0m\u001B[0;34m\u001B[0m\u001B[0;34m\u001B[0m\u001B[0m\n\u001B[0;32m--> 449\u001B[0;31m                     \u001B[0msix\u001B[0m\u001B[0;34m.\u001B[0m\u001B[0mraise_from\u001B[0m\u001B[0;34m(\u001B[0m\u001B[0me\u001B[0m\u001B[0;34m,\u001B[0m \u001B[0;32mNone\u001B[0m\u001B[0;34m)\u001B[0m\u001B[0;34m\u001B[0m\u001B[0;34m\u001B[0m\u001B[0m\n\u001B[0m\u001B[1;32m    450\u001B[0m         \u001B[0;32mexcept\u001B[0m \u001B[0;34m(\u001B[0m\u001B[0mSocketTimeout\u001B[0m\u001B[0;34m,\u001B[0m \u001B[0mBaseSSLError\u001B[0m\u001B[0;34m,\u001B[0m \u001B[0mSocketError\u001B[0m\u001B[0;34m)\u001B[0m \u001B[0;32mas\u001B[0m \u001B[0me\u001B[0m\u001B[0;34m:\u001B[0m\u001B[0;34m\u001B[0m\u001B[0;34m\u001B[0m\u001B[0m\n\u001B[1;32m    451\u001B[0m             \u001B[0mself\u001B[0m\u001B[0;34m.\u001B[0m\u001B[0m_raise_timeout\u001B[0m\u001B[0;34m(\u001B[0m\u001B[0merr\u001B[0m\u001B[0;34m=\u001B[0m\u001B[0me\u001B[0m\u001B[0;34m,\u001B[0m \u001B[0murl\u001B[0m\u001B[0;34m=\u001B[0m\u001B[0murl\u001B[0m\u001B[0;34m,\u001B[0m \u001B[0mtimeout_value\u001B[0m\u001B[0;34m=\u001B[0m\u001B[0mread_timeout\u001B[0m\u001B[0;34m)\u001B[0m\u001B[0;34m\u001B[0m\u001B[0;34m\u001B[0m\u001B[0m\n",
      "\u001B[0;32m~/anaconda3/envs/hatespeech/lib/python3.9/site-packages/urllib3/packages/six.py\u001B[0m in \u001B[0;36mraise_from\u001B[0;34m(value, from_value)\u001B[0m\n",
      "\u001B[0;32m~/anaconda3/envs/hatespeech/lib/python3.9/site-packages/urllib3/connectionpool.py\u001B[0m in \u001B[0;36m_make_request\u001B[0;34m(self, conn, method, url, timeout, chunked, **httplib_request_kw)\u001B[0m\n\u001B[1;32m    442\u001B[0m                 \u001B[0;31m# Python 3\u001B[0m\u001B[0;34m\u001B[0m\u001B[0;34m\u001B[0m\u001B[0m\n\u001B[1;32m    443\u001B[0m                 \u001B[0;32mtry\u001B[0m\u001B[0;34m:\u001B[0m\u001B[0;34m\u001B[0m\u001B[0;34m\u001B[0m\u001B[0m\n\u001B[0;32m--> 444\u001B[0;31m                     \u001B[0mhttplib_response\u001B[0m \u001B[0;34m=\u001B[0m \u001B[0mconn\u001B[0m\u001B[0;34m.\u001B[0m\u001B[0mgetresponse\u001B[0m\u001B[0;34m(\u001B[0m\u001B[0;34m)\u001B[0m\u001B[0;34m\u001B[0m\u001B[0;34m\u001B[0m\u001B[0m\n\u001B[0m\u001B[1;32m    445\u001B[0m                 \u001B[0;32mexcept\u001B[0m \u001B[0mBaseException\u001B[0m \u001B[0;32mas\u001B[0m \u001B[0me\u001B[0m\u001B[0;34m:\u001B[0m\u001B[0;34m\u001B[0m\u001B[0;34m\u001B[0m\u001B[0m\n\u001B[1;32m    446\u001B[0m                     \u001B[0;31m# Remove the TypeError from the exception chain in\u001B[0m\u001B[0;34m\u001B[0m\u001B[0;34m\u001B[0m\u001B[0m\n",
      "\u001B[0;32m~/anaconda3/envs/hatespeech/lib/python3.9/http/client.py\u001B[0m in \u001B[0;36mgetresponse\u001B[0;34m(self)\u001B[0m\n\u001B[1;32m   1369\u001B[0m         \u001B[0;32mtry\u001B[0m\u001B[0;34m:\u001B[0m\u001B[0;34m\u001B[0m\u001B[0;34m\u001B[0m\u001B[0m\n\u001B[1;32m   1370\u001B[0m             \u001B[0;32mtry\u001B[0m\u001B[0;34m:\u001B[0m\u001B[0;34m\u001B[0m\u001B[0;34m\u001B[0m\u001B[0m\n\u001B[0;32m-> 1371\u001B[0;31m                 \u001B[0mresponse\u001B[0m\u001B[0;34m.\u001B[0m\u001B[0mbegin\u001B[0m\u001B[0;34m(\u001B[0m\u001B[0;34m)\u001B[0m\u001B[0;34m\u001B[0m\u001B[0;34m\u001B[0m\u001B[0m\n\u001B[0m\u001B[1;32m   1372\u001B[0m             \u001B[0;32mexcept\u001B[0m \u001B[0mConnectionError\u001B[0m\u001B[0;34m:\u001B[0m\u001B[0;34m\u001B[0m\u001B[0;34m\u001B[0m\u001B[0m\n\u001B[1;32m   1373\u001B[0m                 \u001B[0mself\u001B[0m\u001B[0;34m.\u001B[0m\u001B[0mclose\u001B[0m\u001B[0;34m(\u001B[0m\u001B[0;34m)\u001B[0m\u001B[0;34m\u001B[0m\u001B[0;34m\u001B[0m\u001B[0m\n",
      "\u001B[0;32m~/anaconda3/envs/hatespeech/lib/python3.9/http/client.py\u001B[0m in \u001B[0;36mbegin\u001B[0;34m(self)\u001B[0m\n\u001B[1;32m    317\u001B[0m         \u001B[0;31m# read until we get a non-100 response\u001B[0m\u001B[0;34m\u001B[0m\u001B[0;34m\u001B[0m\u001B[0m\n\u001B[1;32m    318\u001B[0m         \u001B[0;32mwhile\u001B[0m \u001B[0;32mTrue\u001B[0m\u001B[0;34m:\u001B[0m\u001B[0;34m\u001B[0m\u001B[0;34m\u001B[0m\u001B[0m\n\u001B[0;32m--> 319\u001B[0;31m             \u001B[0mversion\u001B[0m\u001B[0;34m,\u001B[0m \u001B[0mstatus\u001B[0m\u001B[0;34m,\u001B[0m \u001B[0mreason\u001B[0m \u001B[0;34m=\u001B[0m \u001B[0mself\u001B[0m\u001B[0;34m.\u001B[0m\u001B[0m_read_status\u001B[0m\u001B[0;34m(\u001B[0m\u001B[0;34m)\u001B[0m\u001B[0;34m\u001B[0m\u001B[0;34m\u001B[0m\u001B[0m\n\u001B[0m\u001B[1;32m    320\u001B[0m             \u001B[0;32mif\u001B[0m \u001B[0mstatus\u001B[0m \u001B[0;34m!=\u001B[0m \u001B[0mCONTINUE\u001B[0m\u001B[0;34m:\u001B[0m\u001B[0;34m\u001B[0m\u001B[0;34m\u001B[0m\u001B[0m\n\u001B[1;32m    321\u001B[0m                 \u001B[0;32mbreak\u001B[0m\u001B[0;34m\u001B[0m\u001B[0;34m\u001B[0m\u001B[0m\n",
      "\u001B[0;32m~/anaconda3/envs/hatespeech/lib/python3.9/http/client.py\u001B[0m in \u001B[0;36m_read_status\u001B[0;34m(self)\u001B[0m\n\u001B[1;32m    278\u001B[0m \u001B[0;34m\u001B[0m\u001B[0m\n\u001B[1;32m    279\u001B[0m     \u001B[0;32mdef\u001B[0m \u001B[0m_read_status\u001B[0m\u001B[0;34m(\u001B[0m\u001B[0mself\u001B[0m\u001B[0;34m)\u001B[0m\u001B[0;34m:\u001B[0m\u001B[0;34m\u001B[0m\u001B[0;34m\u001B[0m\u001B[0m\n\u001B[0;32m--> 280\u001B[0;31m         \u001B[0mline\u001B[0m \u001B[0;34m=\u001B[0m \u001B[0mstr\u001B[0m\u001B[0;34m(\u001B[0m\u001B[0mself\u001B[0m\u001B[0;34m.\u001B[0m\u001B[0mfp\u001B[0m\u001B[0;34m.\u001B[0m\u001B[0mreadline\u001B[0m\u001B[0;34m(\u001B[0m\u001B[0m_MAXLINE\u001B[0m \u001B[0;34m+\u001B[0m \u001B[0;36m1\u001B[0m\u001B[0;34m)\u001B[0m\u001B[0;34m,\u001B[0m \u001B[0;34m\"iso-8859-1\"\u001B[0m\u001B[0;34m)\u001B[0m\u001B[0;34m\u001B[0m\u001B[0;34m\u001B[0m\u001B[0m\n\u001B[0m\u001B[1;32m    281\u001B[0m         \u001B[0;32mif\u001B[0m \u001B[0mlen\u001B[0m\u001B[0;34m(\u001B[0m\u001B[0mline\u001B[0m\u001B[0;34m)\u001B[0m \u001B[0;34m>\u001B[0m \u001B[0m_MAXLINE\u001B[0m\u001B[0;34m:\u001B[0m\u001B[0;34m\u001B[0m\u001B[0;34m\u001B[0m\u001B[0m\n\u001B[1;32m    282\u001B[0m             \u001B[0;32mraise\u001B[0m \u001B[0mLineTooLong\u001B[0m\u001B[0;34m(\u001B[0m\u001B[0;34m\"status line\"\u001B[0m\u001B[0;34m)\u001B[0m\u001B[0;34m\u001B[0m\u001B[0;34m\u001B[0m\u001B[0m\n",
      "\u001B[0;32m~/anaconda3/envs/hatespeech/lib/python3.9/socket.py\u001B[0m in \u001B[0;36mreadinto\u001B[0;34m(self, b)\u001B[0m\n\u001B[1;32m    702\u001B[0m         \u001B[0;32mwhile\u001B[0m \u001B[0;32mTrue\u001B[0m\u001B[0;34m:\u001B[0m\u001B[0;34m\u001B[0m\u001B[0;34m\u001B[0m\u001B[0m\n\u001B[1;32m    703\u001B[0m             \u001B[0;32mtry\u001B[0m\u001B[0;34m:\u001B[0m\u001B[0;34m\u001B[0m\u001B[0;34m\u001B[0m\u001B[0m\n\u001B[0;32m--> 704\u001B[0;31m                 \u001B[0;32mreturn\u001B[0m \u001B[0mself\u001B[0m\u001B[0;34m.\u001B[0m\u001B[0m_sock\u001B[0m\u001B[0;34m.\u001B[0m\u001B[0mrecv_into\u001B[0m\u001B[0;34m(\u001B[0m\u001B[0mb\u001B[0m\u001B[0;34m)\u001B[0m\u001B[0;34m\u001B[0m\u001B[0;34m\u001B[0m\u001B[0m\n\u001B[0m\u001B[1;32m    705\u001B[0m             \u001B[0;32mexcept\u001B[0m \u001B[0mtimeout\u001B[0m\u001B[0;34m:\u001B[0m\u001B[0;34m\u001B[0m\u001B[0;34m\u001B[0m\u001B[0m\n\u001B[1;32m    706\u001B[0m                 \u001B[0mself\u001B[0m\u001B[0;34m.\u001B[0m\u001B[0m_timeout_occurred\u001B[0m \u001B[0;34m=\u001B[0m \u001B[0;32mTrue\u001B[0m\u001B[0;34m\u001B[0m\u001B[0;34m\u001B[0m\u001B[0m\n",
      "\u001B[0;32m~/anaconda3/envs/hatespeech/lib/python3.9/ssl.py\u001B[0m in \u001B[0;36mrecv_into\u001B[0;34m(self, buffer, nbytes, flags)\u001B[0m\n\u001B[1;32m   1239\u001B[0m                   \u001B[0;34m\"non-zero flags not allowed in calls to recv_into() on %s\"\u001B[0m \u001B[0;34m%\u001B[0m\u001B[0;34m\u001B[0m\u001B[0;34m\u001B[0m\u001B[0m\n\u001B[1;32m   1240\u001B[0m                   self.__class__)\n\u001B[0;32m-> 1241\u001B[0;31m             \u001B[0;32mreturn\u001B[0m \u001B[0mself\u001B[0m\u001B[0;34m.\u001B[0m\u001B[0mread\u001B[0m\u001B[0;34m(\u001B[0m\u001B[0mnbytes\u001B[0m\u001B[0;34m,\u001B[0m \u001B[0mbuffer\u001B[0m\u001B[0;34m)\u001B[0m\u001B[0;34m\u001B[0m\u001B[0;34m\u001B[0m\u001B[0m\n\u001B[0m\u001B[1;32m   1242\u001B[0m         \u001B[0;32melse\u001B[0m\u001B[0;34m:\u001B[0m\u001B[0;34m\u001B[0m\u001B[0;34m\u001B[0m\u001B[0m\n\u001B[1;32m   1243\u001B[0m             \u001B[0;32mreturn\u001B[0m \u001B[0msuper\u001B[0m\u001B[0;34m(\u001B[0m\u001B[0;34m)\u001B[0m\u001B[0;34m.\u001B[0m\u001B[0mrecv_into\u001B[0m\u001B[0;34m(\u001B[0m\u001B[0mbuffer\u001B[0m\u001B[0;34m,\u001B[0m \u001B[0mnbytes\u001B[0m\u001B[0;34m,\u001B[0m \u001B[0mflags\u001B[0m\u001B[0;34m)\u001B[0m\u001B[0;34m\u001B[0m\u001B[0;34m\u001B[0m\u001B[0m\n",
      "\u001B[0;32m~/anaconda3/envs/hatespeech/lib/python3.9/ssl.py\u001B[0m in \u001B[0;36mread\u001B[0;34m(self, len, buffer)\u001B[0m\n\u001B[1;32m   1097\u001B[0m         \u001B[0;32mtry\u001B[0m\u001B[0;34m:\u001B[0m\u001B[0;34m\u001B[0m\u001B[0;34m\u001B[0m\u001B[0m\n\u001B[1;32m   1098\u001B[0m             \u001B[0;32mif\u001B[0m \u001B[0mbuffer\u001B[0m \u001B[0;32mis\u001B[0m \u001B[0;32mnot\u001B[0m \u001B[0;32mNone\u001B[0m\u001B[0;34m:\u001B[0m\u001B[0;34m\u001B[0m\u001B[0;34m\u001B[0m\u001B[0m\n\u001B[0;32m-> 1099\u001B[0;31m                 \u001B[0;32mreturn\u001B[0m \u001B[0mself\u001B[0m\u001B[0;34m.\u001B[0m\u001B[0m_sslobj\u001B[0m\u001B[0;34m.\u001B[0m\u001B[0mread\u001B[0m\u001B[0;34m(\u001B[0m\u001B[0mlen\u001B[0m\u001B[0;34m,\u001B[0m \u001B[0mbuffer\u001B[0m\u001B[0;34m)\u001B[0m\u001B[0;34m\u001B[0m\u001B[0;34m\u001B[0m\u001B[0m\n\u001B[0m\u001B[1;32m   1100\u001B[0m             \u001B[0;32melse\u001B[0m\u001B[0;34m:\u001B[0m\u001B[0;34m\u001B[0m\u001B[0;34m\u001B[0m\u001B[0m\n\u001B[1;32m   1101\u001B[0m                 \u001B[0;32mreturn\u001B[0m \u001B[0mself\u001B[0m\u001B[0;34m.\u001B[0m\u001B[0m_sslobj\u001B[0m\u001B[0;34m.\u001B[0m\u001B[0mread\u001B[0m\u001B[0;34m(\u001B[0m\u001B[0mlen\u001B[0m\u001B[0;34m)\u001B[0m\u001B[0;34m\u001B[0m\u001B[0;34m\u001B[0m\u001B[0m\n",
      "\u001B[0;31mKeyboardInterrupt\u001B[0m: "
     ]
    }
   ],
   "source": [
    "\n",
    "\n",
    "def tag_me_api_call(text,api_key=api_key):\n",
    "    \"\"\"\n",
    "\n",
    "    :param api_key: key to access api\n",
    "    :param text: text to pass\n",
    "    :return: json returned from TagMe\n",
    "    \"\"\"\n",
    "    URL = 'https://tagme.d4science.org/tagme/tag'\n",
    "    PARAMS = {'text' : text, 'lang': 'en', 'gcube-token':api_key}\n",
    "    json = requests.post(URL,params=PARAMS)\n",
    "    return json.json()\n",
    "\n",
    "#json_list = x_train.apply(tag_me_api_call)\n",
    "#print(json_list)\n",
    "for i in  tqdm(range((len(x_train)))):\n",
    "    if len(x_train[i]) == 0:\n",
    "        json_list.append(None)\n",
    "    else:\n",
    "        x = tag_me_api_call(x_train[i])\n",
    "        json_list.append(x)\n"
   ],
   "metadata": {
    "collapsed": false,
    "pycharm": {
     "name": "#%%\n"
    }
   }
  },
  {
   "cell_type": "code",
   "execution_count": 72,
   "outputs": [
    {
     "data": {
      "text/plain": "0"
     },
     "execution_count": 72,
     "metadata": {},
     "output_type": "execute_result"
    }
   ],
   "source": [],
   "metadata": {
    "collapsed": false,
    "pycharm": {
     "name": "#%%\n"
    }
   }
  },
  {
   "cell_type": "code",
   "execution_count": 78,
   "outputs": [],
   "source": [
    "json_list = pd.DataFrame(json_list)\n",
    "json_list.to_csv('data/tag-me-train-spots.csv')"
   ],
   "metadata": {
    "collapsed": false,
    "pycharm": {
     "name": "#%%\n"
    }
   }
  },
  {
   "cell_type": "code",
   "execution_count": null,
   "outputs": [],
   "source": [],
   "metadata": {
    "collapsed": false,
    "pycharm": {
     "name": "#%%\n"
    }
   }
  }
 ],
 "metadata": {
  "kernelspec": {
   "display_name": "Python 3",
   "language": "python",
   "name": "python3"
  },
  "language_info": {
   "codemirror_mode": {
    "name": "ipython",
    "version": 2
   },
   "file_extension": ".py",
   "mimetype": "text/x-python",
   "name": "python",
   "nbconvert_exporter": "python",
   "pygments_lexer": "ipython2",
   "version": "2.7.6"
  }
 },
 "nbformat": 4,
 "nbformat_minor": 0
}